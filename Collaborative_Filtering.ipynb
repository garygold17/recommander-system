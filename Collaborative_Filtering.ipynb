{
 "cells": [
  {
   "cell_type": "code",
   "execution_count": 1,
   "metadata": {},
   "outputs": [],
   "source": [
    "import pandas as pd\n",
    "import seaborn as sns\n",
    "import numpy as np\n",
    "\n",
    "import matplotlib.pyplot as plt\n",
    "%matplotlib inline"
   ]
  },
  {
   "cell_type": "code",
   "execution_count": 2,
   "metadata": {},
   "outputs": [],
   "source": [
    "def get_data():\n",
    "    \n",
    "    movies = pd.read_csv('movies.csv')\n",
    "    ratings = pd.read_csv('ratings.csv')\n",
    "    \n",
    "    data = pd.merge(ratings, movies, on='item', how='left')\n",
    "    \n",
    "    data = data.drop(['timestamp'], axis=1)\n",
    "    data = data.drop(['plot'],axis=1)\n",
    "    \n",
    "    return data"
   ]
  },
  {
   "cell_type": "code",
   "execution_count": 3,
   "metadata": {},
   "outputs": [
    {
     "data": {
      "text/html": [
       "<div>\n",
       "<style scoped>\n",
       "    .dataframe tbody tr th:only-of-type {\n",
       "        vertical-align: middle;\n",
       "    }\n",
       "\n",
       "    .dataframe tbody tr th {\n",
       "        vertical-align: top;\n",
       "    }\n",
       "\n",
       "    .dataframe thead th {\n",
       "        text-align: right;\n",
       "    }\n",
       "</style>\n",
       "<table border=\"1\" class=\"dataframe\">\n",
       "  <thead>\n",
       "    <tr style=\"text-align: right;\">\n",
       "      <th></th>\n",
       "      <th>user</th>\n",
       "      <th>item</th>\n",
       "      <th>rating</th>\n",
       "      <th>title</th>\n",
       "      <th>year</th>\n",
       "      <th>genres</th>\n",
       "    </tr>\n",
       "  </thead>\n",
       "  <tbody>\n",
       "    <tr>\n",
       "      <th>0</th>\n",
       "      <td>1</td>\n",
       "      <td>1</td>\n",
       "      <td>4.0</td>\n",
       "      <td>toy story</td>\n",
       "      <td>1995</td>\n",
       "      <td>Adventure|Animation|Children|Comedy|Fantasy</td>\n",
       "    </tr>\n",
       "    <tr>\n",
       "      <th>1</th>\n",
       "      <td>1</td>\n",
       "      <td>3</td>\n",
       "      <td>4.0</td>\n",
       "      <td>grumpier old men</td>\n",
       "      <td>1995</td>\n",
       "      <td>Comedy|Romance</td>\n",
       "    </tr>\n",
       "    <tr>\n",
       "      <th>2</th>\n",
       "      <td>1</td>\n",
       "      <td>6</td>\n",
       "      <td>4.0</td>\n",
       "      <td>heat</td>\n",
       "      <td>1995</td>\n",
       "      <td>Action|Crime|Thriller</td>\n",
       "    </tr>\n",
       "    <tr>\n",
       "      <th>3</th>\n",
       "      <td>1</td>\n",
       "      <td>70</td>\n",
       "      <td>3.0</td>\n",
       "      <td>from dusk till dawn</td>\n",
       "      <td>1996</td>\n",
       "      <td>Action|Comedy|Horror|Thriller</td>\n",
       "    </tr>\n",
       "    <tr>\n",
       "      <th>4</th>\n",
       "      <td>1</td>\n",
       "      <td>101</td>\n",
       "      <td>5.0</td>\n",
       "      <td>bottle rocket</td>\n",
       "      <td>1996</td>\n",
       "      <td>Adventure|Comedy|Crime|Romance</td>\n",
       "    </tr>\n",
       "  </tbody>\n",
       "</table>\n",
       "</div>"
      ],
      "text/plain": [
       "   user  item  rating                title  year  \\\n",
       "0     1     1     4.0            toy story  1995   \n",
       "1     1     3     4.0     grumpier old men  1995   \n",
       "2     1     6     4.0                 heat  1995   \n",
       "3     1    70     3.0  from dusk till dawn  1996   \n",
       "4     1   101     5.0        bottle rocket  1996   \n",
       "\n",
       "                                        genres  \n",
       "0  Adventure|Animation|Children|Comedy|Fantasy  \n",
       "1                               Comedy|Romance  \n",
       "2                        Action|Crime|Thriller  \n",
       "3                Action|Comedy|Horror|Thriller  \n",
       "4               Adventure|Comedy|Crime|Romance  "
      ]
     },
     "execution_count": 3,
     "metadata": {},
     "output_type": "execute_result"
    }
   ],
   "source": [
    "data = get_data()\n",
    "data.head()"
   ]
  },
  {
   "cell_type": "code",
   "execution_count": 4,
   "metadata": {},
   "outputs": [],
   "source": [
    "def get_sparsity(data):\n",
    "    return 1 - (len(data['rating']) / (len(data['user'].unique())*len(data['item'].unique())))"
   ]
  },
  {
   "cell_type": "code",
   "execution_count": 5,
   "metadata": {},
   "outputs": [
    {
     "data": {
      "text/plain": [
       "0.9771597696056712"
      ]
     },
     "execution_count": 5,
     "metadata": {},
     "output_type": "execute_result"
    }
   ],
   "source": [
    "sparsity = get_sparsity(data)\n",
    "sparsity"
   ]
  },
  {
   "cell_type": "code",
   "execution_count": 6,
   "metadata": {},
   "outputs": [
    {
     "name": "stdout",
     "output_type": "stream",
     "text": [
      "number of low rated users\n"
     ]
    },
    {
     "data": {
      "text/plain": [
       "313"
      ]
     },
     "metadata": {},
     "output_type": "display_data"
    },
    {
     "name": "stdout",
     "output_type": "stream",
     "text": [
      "high rating users\n"
     ]
    },
    {
     "data": {
      "text/plain": [
       "296"
      ]
     },
     "metadata": {},
     "output_type": "display_data"
    },
    {
     "name": "stdout",
     "output_type": "stream",
     "text": [
      "total users\n"
     ]
    },
    {
     "data": {
      "text/plain": [
       "610"
      ]
     },
     "metadata": {},
     "output_type": "display_data"
    },
    {
     "name": "stdout",
     "output_type": "stream",
     "text": [
      "ratio:\n"
     ]
    },
    {
     "data": {
      "text/plain": [
       "0.5131147540983606"
      ]
     },
     "metadata": {},
     "output_type": "display_data"
    }
   ],
   "source": [
    "data_bin = data.groupby('user').filter(lambda x: len(x)<50)\n",
    "print('number of low rated users')\n",
    "display(data_bin['user'].nunique())\n",
    "print('high rating users')\n",
    "display((data.groupby('user').filter(lambda x: len(x)>50))['user'].nunique())\n",
    "print('total users')\n",
    "display(data['user'].nunique())\n",
    "print('ratio:')\n",
    "display(data_bin['user'].nunique()/data['user'].nunique())"
   ]
  },
  {
   "cell_type": "code",
   "execution_count": 7,
   "metadata": {},
   "outputs": [
    {
     "name": "stdout",
     "output_type": "stream",
     "text": [
      "number of low rated movies\n"
     ]
    },
    {
     "data": {
      "text/plain": [
       "3124"
      ]
     },
     "metadata": {},
     "output_type": "display_data"
    },
    {
     "name": "stdout",
     "output_type": "stream",
     "text": [
      "number of highly rated movies\n"
     ]
    },
    {
     "data": {
      "text/plain": [
       "1421"
      ]
     },
     "metadata": {},
     "output_type": "display_data"
    },
    {
     "name": "stdout",
     "output_type": "stream",
     "text": [
      "total number of movies\n"
     ]
    },
    {
     "data": {
      "text/plain": [
       "4625"
      ]
     },
     "metadata": {},
     "output_type": "display_data"
    },
    {
     "name": "stdout",
     "output_type": "stream",
     "text": [
      "ratio:\n"
     ]
    },
    {
     "data": {
      "text/plain": [
       "0.6754594594594595"
      ]
     },
     "metadata": {},
     "output_type": "display_data"
    }
   ],
   "source": [
    "data_bin2 = data.groupby('item').filter(lambda x: len(x)<10)\n",
    "print('number of low rated movies')\n",
    "display(data_bin2['item'].nunique())\n",
    "print('number of highly rated movies')\n",
    "display((data.groupby('item').filter(lambda x: len(x)>10))['item'].nunique())\n",
    "print('total number of movies')\n",
    "display(data['item'].nunique())\n",
    "print('ratio:')\n",
    "display(data_bin2['item'].nunique()/data['item'].nunique())"
   ]
  },
  {
   "cell_type": "code",
   "execution_count": 8,
   "metadata": {},
   "outputs": [],
   "source": [
    "def filter_data(data):\n",
    "    data = data.groupby('user').filter(lambda x: len(x)>50)\n",
    "    data = data.groupby('item').filter(lambda x: len(x)>10)\n",
    "    return data"
   ]
  },
  {
   "cell_type": "code",
   "execution_count": 9,
   "metadata": {},
   "outputs": [
    {
     "data": {
      "text/plain": [
       "0.8863128268593556"
      ]
     },
     "metadata": {},
     "output_type": "display_data"
    }
   ],
   "source": [
    "data = filter_data(data)\n",
    "display(get_sparsity(data))"
   ]
  },
  {
   "cell_type": "code",
   "execution_count": 10,
   "metadata": {},
   "outputs": [
    {
     "data": {
      "text/plain": [
       "user      0\n",
       "item      0\n",
       "rating    0\n",
       "title     0\n",
       "year      0\n",
       "genres    0\n",
       "dtype: int64"
      ]
     },
     "execution_count": 10,
     "metadata": {},
     "output_type": "execute_result"
    }
   ],
   "source": [
    "data.isna().sum()"
   ]
  },
  {
   "cell_type": "code",
   "execution_count": 11,
   "metadata": {},
   "outputs": [
    {
     "data": {
      "text/plain": [
       "forrest gump                    220\n",
       "pulp fiction                    199\n",
       "jurassic park                   166\n",
       "fight club                      157\n",
       "toy story                       154\n",
       "                               ... \n",
       "flirting with disaster           11\n",
       "beethoven                        11\n",
       "atonement                        11\n",
       "guess who's coming to dinner     11\n",
       "dunkirk                          11\n",
       "Name: title, Length: 1354, dtype: int64"
      ]
     },
     "execution_count": 11,
     "metadata": {},
     "output_type": "execute_result"
    }
   ],
   "source": [
    "data['title'].value_counts()"
   ]
  },
  {
   "cell_type": "code",
   "execution_count": 12,
   "metadata": {},
   "outputs": [
    {
     "data": {
      "text/plain": [
       "414    1040\n",
       "599     879\n",
       "68      743\n",
       "448     694\n",
       "474     669\n",
       "       ... \n",
       "503      41\n",
       "342      40\n",
       "108      38\n",
       "184      34\n",
       "571      28\n",
       "Name: user, Length: 296, dtype: int64"
      ]
     },
     "execution_count": 12,
     "metadata": {},
     "output_type": "execute_result"
    }
   ],
   "source": [
    "data['user'].value_counts()"
   ]
  },
  {
   "cell_type": "code",
   "execution_count": 13,
   "metadata": {},
   "outputs": [
    {
     "data": {
      "text/plain": [
       "4.0    12416\n",
       "3.0     9175\n",
       "3.5     6255\n",
       "5.0     5598\n",
       "4.5     3885\n",
       "2.0     3259\n",
       "2.5     2558\n",
       "1.0     1181\n",
       "1.5      716\n",
       "0.5      521\n",
       "Name: rating, dtype: int64"
      ]
     },
     "execution_count": 13,
     "metadata": {},
     "output_type": "execute_result"
    }
   ],
   "source": [
    "data['rating'].value_counts()"
   ]
  },
  {
   "cell_type": "code",
   "execution_count": 14,
   "metadata": {},
   "outputs": [
    {
     "data": {
      "text/plain": [
       "title\n",
       "paths of glory                      4.545455\n",
       "guess who's coming to dinner        4.545455\n",
       "patton                              4.444444\n",
       "ran                                 4.433333\n",
       "his girl friday                     4.392857\n",
       "                                      ...   \n",
       "beethoven                           1.772727\n",
       "superman iv: the quest for peace    1.687500\n",
       "battlefield earth                   1.676471\n",
       "speed 2: cruise control             1.638889\n",
       "problem child                       1.583333\n",
       "Name: rating, Length: 1354, dtype: float64"
      ]
     },
     "execution_count": 14,
     "metadata": {},
     "output_type": "execute_result"
    }
   ],
   "source": [
    "data.groupby('title').mean()['rating'].sort_values(ascending=False)"
   ]
  },
  {
   "cell_type": "code",
   "execution_count": 15,
   "metadata": {},
   "outputs": [
    {
     "data": {
      "image/png": "[encoded data removed]",
      "text/plain": [
       "<Figure size 720x360 with 1 Axes>"
      ]
     },
     "metadata": {
      "needs_background": "light"
     },
     "output_type": "display_data"
    }
   ],
   "source": [
    "plt.figure(figsize=(10,5))\n",
    "topmovies = data.groupby('title').mean()['rating'].sort_values(ascending=False).head(10)\n",
    "sns.barplot(topmovies.index, topmovies.values)\n",
    "plt.title('Top 10 Highest Rated Movies')\n",
    "plt.xticks(rotation=80);"
   ]
  },
  {
   "cell_type": "code",
   "execution_count": 16,
   "metadata": {},
   "outputs": [
    {
     "data": {
      "image/png": "[encoded data removed]",
      "text/plain": [
       "<Figure size 432x288 with 1 Axes>"
      ]
     },
     "metadata": {
      "needs_background": "light"
     },
     "output_type": "display_data"
    }
   ],
   "source": [
    "plt.hist(data['rating'],bins=30)\n",
    "plt.xlabel('Value of rating')\n",
    "plt.ylabel('Frequency of ratings')\n",
    "plt.show()"
   ]
  },
  {
   "cell_type": "code",
   "execution_count": 17,
   "metadata": {},
   "outputs": [],
   "source": [
    "def remove_low_rates(data):\n",
    "    data = data.loc[data['rating']>=2.5]\n",
    "    return data"
   ]
  },
  {
   "cell_type": "code",
   "execution_count": 18,
   "metadata": {},
   "outputs": [],
   "source": [
    "data = remove_low_rates(data)"
   ]
  },
  {
   "cell_type": "code",
   "execution_count": 19,
   "metadata": {},
   "outputs": [
    {
     "data": {
      "image/png": "[encoded data removed]",
      "text/plain": [
       "<Figure size 864x504 with 1 Axes>"
      ]
     },
     "metadata": {
      "needs_background": "light"
     },
     "output_type": "display_data"
    }
   ],
   "source": [
    "plt.figure(figsize=(12,7))\n",
    "topmovies = data.groupby('title').size().sort_values(ascending=False).head(10)\n",
    "sns.barplot(topmovies.index, topmovies.values)\n",
    "plt.title('Top 10 most-watched movies')\n",
    "plt.xticks(rotation=80);"
   ]
  },
  {
   "cell_type": "code",
   "execution_count": 20,
   "metadata": {},
   "outputs": [],
   "source": [
    "def get_genre_labels(data):\n",
    "    genrelabels = set()\n",
    "    for i in data['genres'].str.split('|').values:\n",
    "        genrelabels = genrelabels.union(set(i))\n",
    "    \n",
    "    return genrelabels"
   ]
  },
  {
   "cell_type": "code",
   "execution_count": 21,
   "metadata": {},
   "outputs": [
    {
     "data": {
      "text/plain": [
       "{'Action',\n",
       " 'Adventure',\n",
       " 'Animation',\n",
       " 'Children',\n",
       " 'Comedy',\n",
       " 'Crime',\n",
       " 'Documentary',\n",
       " 'Drama',\n",
       " 'Fantasy',\n",
       " 'Film-Noir',\n",
       " 'Horror',\n",
       " 'IMAX',\n",
       " 'Musical',\n",
       " 'Mystery',\n",
       " 'Romance',\n",
       " 'Sci-Fi',\n",
       " 'Thriller',\n",
       " 'War',\n",
       " 'Western'}"
      ]
     },
     "execution_count": 21,
     "metadata": {},
     "output_type": "execute_result"
    }
   ],
   "source": [
    "genrelabels = get_genre_labels(data)\n",
    "genrelabels"
   ]
  },
  {
   "cell_type": "code",
   "execution_count": 22,
   "metadata": {},
   "outputs": [],
   "source": [
    "def genrecounts(df, col, labels):\n",
    "    count = dict()\n",
    "    for i in labels: count[i] = 0\n",
    "    for value in df[col].str.split('|'):\n",
    "        if type(value) == float and pd.isnull(value): continue\n",
    "        for i in value: \n",
    "            if pd.notnull(i): count[i] += 1\n",
    "    genres = pd.DataFrame(list(count.items()),columns = ['Genre','Frequency'])\n",
    "    return genres"
   ]
  },
  {
   "cell_type": "code",
   "execution_count": 23,
   "metadata": {},
   "outputs": [
    {
     "data": {
      "text/html": [
       "<div>\n",
       "<style scoped>\n",
       "    .dataframe tbody tr th:only-of-type {\n",
       "        vertical-align: middle;\n",
       "    }\n",
       "\n",
       "    .dataframe tbody tr th {\n",
       "        vertical-align: top;\n",
       "    }\n",
       "\n",
       "    .dataframe thead th {\n",
       "        text-align: right;\n",
       "    }\n",
       "</style>\n",
       "<table border=\"1\" class=\"dataframe\">\n",
       "  <thead>\n",
       "    <tr style=\"text-align: right;\">\n",
       "      <th></th>\n",
       "      <th>Genre</th>\n",
       "      <th>Frequency</th>\n",
       "    </tr>\n",
       "  </thead>\n",
       "  <tbody>\n",
       "    <tr>\n",
       "      <th>2</th>\n",
       "      <td>Comedy</td>\n",
       "      <td>16777</td>\n",
       "    </tr>\n",
       "    <tr>\n",
       "      <th>10</th>\n",
       "      <td>Drama</td>\n",
       "      <td>16530</td>\n",
       "    </tr>\n",
       "    <tr>\n",
       "      <th>6</th>\n",
       "      <td>Action</td>\n",
       "      <td>12575</td>\n",
       "    </tr>\n",
       "    <tr>\n",
       "      <th>9</th>\n",
       "      <td>Thriller</td>\n",
       "      <td>10587</td>\n",
       "    </tr>\n",
       "    <tr>\n",
       "      <th>8</th>\n",
       "      <td>Adventure</td>\n",
       "      <td>10499</td>\n",
       "    </tr>\n",
       "    <tr>\n",
       "      <th>17</th>\n",
       "      <td>Romance</td>\n",
       "      <td>8230</td>\n",
       "    </tr>\n",
       "    <tr>\n",
       "      <th>3</th>\n",
       "      <td>Sci-Fi</td>\n",
       "      <td>7492</td>\n",
       "    </tr>\n",
       "    <tr>\n",
       "      <th>5</th>\n",
       "      <td>Crime</td>\n",
       "      <td>7059</td>\n",
       "    </tr>\n",
       "    <tr>\n",
       "      <th>16</th>\n",
       "      <td>Fantasy</td>\n",
       "      <td>5047</td>\n",
       "    </tr>\n",
       "    <tr>\n",
       "      <th>14</th>\n",
       "      <td>Children</td>\n",
       "      <td>3781</td>\n",
       "    </tr>\n",
       "    <tr>\n",
       "      <th>0</th>\n",
       "      <td>Mystery</td>\n",
       "      <td>3119</td>\n",
       "    </tr>\n",
       "    <tr>\n",
       "      <th>11</th>\n",
       "      <td>Animation</td>\n",
       "      <td>2751</td>\n",
       "    </tr>\n",
       "    <tr>\n",
       "      <th>1</th>\n",
       "      <td>War</td>\n",
       "      <td>2317</td>\n",
       "    </tr>\n",
       "    <tr>\n",
       "      <th>7</th>\n",
       "      <td>IMAX</td>\n",
       "      <td>2146</td>\n",
       "    </tr>\n",
       "    <tr>\n",
       "      <th>18</th>\n",
       "      <td>Horror</td>\n",
       "      <td>2132</td>\n",
       "    </tr>\n",
       "    <tr>\n",
       "      <th>13</th>\n",
       "      <td>Musical</td>\n",
       "      <td>1607</td>\n",
       "    </tr>\n",
       "    <tr>\n",
       "      <th>4</th>\n",
       "      <td>Western</td>\n",
       "      <td>819</td>\n",
       "    </tr>\n",
       "    <tr>\n",
       "      <th>12</th>\n",
       "      <td>Film-Noir</td>\n",
       "      <td>461</td>\n",
       "    </tr>\n",
       "    <tr>\n",
       "      <th>15</th>\n",
       "      <td>Documentary</td>\n",
       "      <td>13</td>\n",
       "    </tr>\n",
       "  </tbody>\n",
       "</table>\n",
       "</div>"
      ],
      "text/plain": [
       "          Genre  Frequency\n",
       "2        Comedy      16777\n",
       "10        Drama      16530\n",
       "6        Action      12575\n",
       "9      Thriller      10587\n",
       "8     Adventure      10499\n",
       "17      Romance       8230\n",
       "3        Sci-Fi       7492\n",
       "5         Crime       7059\n",
       "16      Fantasy       5047\n",
       "14     Children       3781\n",
       "0       Mystery       3119\n",
       "11    Animation       2751\n",
       "1           War       2317\n",
       "7          IMAX       2146\n",
       "18       Horror       2132\n",
       "13      Musical       1607\n",
       "4       Western        819\n",
       "12    Film-Noir        461\n",
       "15  Documentary         13"
      ]
     },
     "execution_count": 23,
     "metadata": {},
     "output_type": "execute_result"
    }
   ],
   "source": [
    "genre_count = genrecounts(data, 'genres', genrelabels)\n",
    "genres = genre_count.sort_values(by='Frequency', ascending=False)\n",
    "genres"
   ]
  },
  {
   "cell_type": "code",
   "execution_count": 24,
   "metadata": {},
   "outputs": [
    {
     "data": {
      "image/png": "[encoded data removed]",
      "text/plain": [
       "<Figure size 864x504 with 1 Axes>"
      ]
     },
     "metadata": {
      "needs_background": "light"
     },
     "output_type": "display_data"
    }
   ],
   "source": [
    "plt.figure(figsize=(12,7))\n",
    "sns.barplot(genres['Genre'], genres['Frequency'])\n",
    "plt.title('Most Popular Genres')\n",
    "plt.xticks(rotation=80);"
   ]
  },
  {
   "cell_type": "markdown",
   "metadata": {},
   "source": [
    "## Model"
   ]
  },
  {
   "cell_type": "code",
   "execution_count": 25,
   "metadata": {},
   "outputs": [],
   "source": [
    "data_2 = data[['user','title','rating']]"
   ]
  },
  {
   "cell_type": "code",
   "execution_count": 26,
   "metadata": {},
   "outputs": [
    {
     "data": {
      "text/html": [
       "<div>\n",
       "<style scoped>\n",
       "    .dataframe tbody tr th:only-of-type {\n",
       "        vertical-align: middle;\n",
       "    }\n",
       "\n",
       "    .dataframe tbody tr th {\n",
       "        vertical-align: top;\n",
       "    }\n",
       "\n",
       "    .dataframe thead th {\n",
       "        text-align: right;\n",
       "    }\n",
       "</style>\n",
       "<table border=\"1\" class=\"dataframe\">\n",
       "  <thead>\n",
       "    <tr style=\"text-align: right;\">\n",
       "      <th>title</th>\n",
       "      <th>(500) days of summer</th>\n",
       "      <th>10 cloverfield lane</th>\n",
       "      <th>10 things i hate about you</th>\n",
       "      <th>10,000 bc</th>\n",
       "      <th>101 dalmatians</th>\n",
       "      <th>12 angry men</th>\n",
       "      <th>12 years a slave</th>\n",
       "      <th>127 hours</th>\n",
       "      <th>13 going on 30</th>\n",
       "      <th>1408</th>\n",
       "      <th>...</th>\n",
       "      <th>young guns</th>\n",
       "      <th>young guns ii</th>\n",
       "      <th>young sherlock holmes</th>\n",
       "      <th>zack and miri make a porno</th>\n",
       "      <th>zero dark thirty</th>\n",
       "      <th>zero effect</th>\n",
       "      <th>zodiac</th>\n",
       "      <th>zombieland</th>\n",
       "      <th>zoolander</th>\n",
       "      <th>zootopia</th>\n",
       "    </tr>\n",
       "    <tr>\n",
       "      <th>user</th>\n",
       "      <th></th>\n",
       "      <th></th>\n",
       "      <th></th>\n",
       "      <th></th>\n",
       "      <th></th>\n",
       "      <th></th>\n",
       "      <th></th>\n",
       "      <th></th>\n",
       "      <th></th>\n",
       "      <th></th>\n",
       "      <th></th>\n",
       "      <th></th>\n",
       "      <th></th>\n",
       "      <th></th>\n",
       "      <th></th>\n",
       "      <th></th>\n",
       "      <th></th>\n",
       "      <th></th>\n",
       "      <th></th>\n",
       "      <th></th>\n",
       "      <th></th>\n",
       "    </tr>\n",
       "  </thead>\n",
       "  <tbody>\n",
       "    <tr>\n",
       "      <th>1</th>\n",
       "      <td>0.0</td>\n",
       "      <td>0.0</td>\n",
       "      <td>0.0</td>\n",
       "      <td>0.0</td>\n",
       "      <td>0.0</td>\n",
       "      <td>0.0</td>\n",
       "      <td>0.0</td>\n",
       "      <td>0.0</td>\n",
       "      <td>0.0</td>\n",
       "      <td>0.0</td>\n",
       "      <td>...</td>\n",
       "      <td>0.0</td>\n",
       "      <td>0.0</td>\n",
       "      <td>3.0</td>\n",
       "      <td>0.0</td>\n",
       "      <td>0.0</td>\n",
       "      <td>0.0</td>\n",
       "      <td>0.0</td>\n",
       "      <td>0.0</td>\n",
       "      <td>0.0</td>\n",
       "      <td>0.0</td>\n",
       "    </tr>\n",
       "    <tr>\n",
       "      <th>4</th>\n",
       "      <td>0.0</td>\n",
       "      <td>0.0</td>\n",
       "      <td>0.0</td>\n",
       "      <td>0.0</td>\n",
       "      <td>0.0</td>\n",
       "      <td>5.0</td>\n",
       "      <td>0.0</td>\n",
       "      <td>0.0</td>\n",
       "      <td>0.0</td>\n",
       "      <td>0.0</td>\n",
       "      <td>...</td>\n",
       "      <td>0.0</td>\n",
       "      <td>0.0</td>\n",
       "      <td>0.0</td>\n",
       "      <td>0.0</td>\n",
       "      <td>0.0</td>\n",
       "      <td>0.0</td>\n",
       "      <td>0.0</td>\n",
       "      <td>0.0</td>\n",
       "      <td>0.0</td>\n",
       "      <td>0.0</td>\n",
       "    </tr>\n",
       "    <tr>\n",
       "      <th>6</th>\n",
       "      <td>0.0</td>\n",
       "      <td>0.0</td>\n",
       "      <td>0.0</td>\n",
       "      <td>0.0</td>\n",
       "      <td>0.0</td>\n",
       "      <td>0.0</td>\n",
       "      <td>0.0</td>\n",
       "      <td>0.0</td>\n",
       "      <td>0.0</td>\n",
       "      <td>0.0</td>\n",
       "      <td>...</td>\n",
       "      <td>0.0</td>\n",
       "      <td>0.0</td>\n",
       "      <td>0.0</td>\n",
       "      <td>0.0</td>\n",
       "      <td>0.0</td>\n",
       "      <td>0.0</td>\n",
       "      <td>0.0</td>\n",
       "      <td>0.0</td>\n",
       "      <td>0.0</td>\n",
       "      <td>0.0</td>\n",
       "    </tr>\n",
       "    <tr>\n",
       "      <th>7</th>\n",
       "      <td>0.0</td>\n",
       "      <td>0.0</td>\n",
       "      <td>0.0</td>\n",
       "      <td>0.0</td>\n",
       "      <td>0.0</td>\n",
       "      <td>0.0</td>\n",
       "      <td>0.0</td>\n",
       "      <td>0.0</td>\n",
       "      <td>0.0</td>\n",
       "      <td>0.0</td>\n",
       "      <td>...</td>\n",
       "      <td>0.0</td>\n",
       "      <td>0.0</td>\n",
       "      <td>0.0</td>\n",
       "      <td>0.0</td>\n",
       "      <td>0.0</td>\n",
       "      <td>0.0</td>\n",
       "      <td>0.0</td>\n",
       "      <td>0.0</td>\n",
       "      <td>0.0</td>\n",
       "      <td>0.0</td>\n",
       "    </tr>\n",
       "    <tr>\n",
       "      <th>10</th>\n",
       "      <td>0.0</td>\n",
       "      <td>0.0</td>\n",
       "      <td>0.0</td>\n",
       "      <td>0.0</td>\n",
       "      <td>0.0</td>\n",
       "      <td>0.0</td>\n",
       "      <td>0.0</td>\n",
       "      <td>0.0</td>\n",
       "      <td>0.0</td>\n",
       "      <td>0.0</td>\n",
       "      <td>...</td>\n",
       "      <td>0.0</td>\n",
       "      <td>0.0</td>\n",
       "      <td>0.0</td>\n",
       "      <td>0.0</td>\n",
       "      <td>0.0</td>\n",
       "      <td>0.0</td>\n",
       "      <td>0.0</td>\n",
       "      <td>0.0</td>\n",
       "      <td>0.0</td>\n",
       "      <td>0.0</td>\n",
       "    </tr>\n",
       "  </tbody>\n",
       "</table>\n",
       "<p>5 rows × 1354 columns</p>\n",
       "</div>"
      ],
      "text/plain": [
       "title  (500) days of summer  10 cloverfield lane  10 things i hate about you  \\\n",
       "user                                                                           \n",
       "1                       0.0                  0.0                         0.0   \n",
       "4                       0.0                  0.0                         0.0   \n",
       "6                       0.0                  0.0                         0.0   \n",
       "7                       0.0                  0.0                         0.0   \n",
       "10                      0.0                  0.0                         0.0   \n",
       "\n",
       "title  10,000 bc  101 dalmatians  12 angry men  12 years a slave  127 hours  \\\n",
       "user                                                                          \n",
       "1            0.0             0.0           0.0               0.0        0.0   \n",
       "4            0.0             0.0           5.0               0.0        0.0   \n",
       "6            0.0             0.0           0.0               0.0        0.0   \n",
       "7            0.0             0.0           0.0               0.0        0.0   \n",
       "10           0.0             0.0           0.0               0.0        0.0   \n",
       "\n",
       "title  13 going on 30  1408  ...  young guns  young guns ii  \\\n",
       "user                         ...                              \n",
       "1                 0.0   0.0  ...         0.0            0.0   \n",
       "4                 0.0   0.0  ...         0.0            0.0   \n",
       "6                 0.0   0.0  ...         0.0            0.0   \n",
       "7                 0.0   0.0  ...         0.0            0.0   \n",
       "10                0.0   0.0  ...         0.0            0.0   \n",
       "\n",
       "title  young sherlock holmes  zack and miri make a porno  zero dark thirty  \\\n",
       "user                                                                         \n",
       "1                        3.0                         0.0               0.0   \n",
       "4                        0.0                         0.0               0.0   \n",
       "6                        0.0                         0.0               0.0   \n",
       "7                        0.0                         0.0               0.0   \n",
       "10                       0.0                         0.0               0.0   \n",
       "\n",
       "title  zero effect  zodiac  zombieland  zoolander  zootopia  \n",
       "user                                                         \n",
       "1              0.0     0.0         0.0        0.0       0.0  \n",
       "4              0.0     0.0         0.0        0.0       0.0  \n",
       "6              0.0     0.0         0.0        0.0       0.0  \n",
       "7              0.0     0.0         0.0        0.0       0.0  \n",
       "10             0.0     0.0         0.0        0.0       0.0  \n",
       "\n",
       "[5 rows x 1354 columns]"
      ]
     },
     "execution_count": 26,
     "metadata": {},
     "output_type": "execute_result"
    }
   ],
   "source": [
    "user_rating = data_2.pivot(index='user',columns='title',values='rating').fillna(0)\n",
    "user_rating.head()"
   ]
  },
  {
   "cell_type": "code",
   "execution_count": 27,
   "metadata": {},
   "outputs": [
    {
     "data": {
      "text/plain": [
       "matrix([[0. , 0. , 0. , ..., 0. , 0. , 0. ],\n",
       "        [0. , 0. , 0. , ..., 0. , 0. , 0. ],\n",
       "        [0. , 0. , 0. , ..., 0. , 0. , 0. ],\n",
       "        ...,\n",
       "        [0. , 0. , 0. , ..., 0. , 0. , 0. ],\n",
       "        [0. , 0. , 0. , ..., 0. , 3. , 0. ],\n",
       "        [3.5, 4. , 0. , ..., 3.5, 4. , 4. ]])"
      ]
     },
     "execution_count": 27,
     "metadata": {},
     "output_type": "execute_result"
    }
   ],
   "source": [
    "import matplotlib.pyplot as plt\n",
    "from scipy.sparse import csr_matrix\n",
    "from sklearn.neighbors import NearestNeighbors\n",
    "\n",
    "user_rating_vectors = csr_matrix(user_rating.values)\n",
    "user_rating_vectors.todense()"
   ]
  },
  {
   "cell_type": "code",
   "execution_count": 28,
   "metadata": {},
   "outputs": [
    {
     "data": {
      "text/plain": [
       "NearestNeighbors(algorithm='brute', leaf_size=30, metric='cosine',\n",
       "                 metric_params=None, n_jobs=None, n_neighbors=5, p=2,\n",
       "                 radius=1.0)"
      ]
     },
     "execution_count": 28,
     "metadata": {},
     "output_type": "execute_result"
    }
   ],
   "source": [
    "knn = NearestNeighbors(metric='cosine', algorithm='brute')\n",
    "knn.fit(user_rating_vectors)"
   ]
  },
  {
   "cell_type": "code",
   "execution_count": 29,
   "metadata": {},
   "outputs": [],
   "source": [
    "def get_similar_users(user, n = 5):\n",
    "\n",
    "    knn_input = np.asarray(user_rating.loc[user_rating.index==user])\n",
    "    distances, indices = knn.kneighbors(knn_input, n_neighbors=n+1)\n",
    "  \n",
    "    print(n,\"similar users to the user \",user, \"are: \")\n",
    "    print(\" \")\n",
    "    for i in range(1,len(distances[0])):\n",
    "        print(i,\". User:\", indices[0][i]+1, \"with distance measure of: \",distances[0][i])\n",
    "    return indices.flatten()[1:] + 1, distances.flatten()[1:]"
   ]
  },
  {
   "cell_type": "code",
   "execution_count": 30,
   "metadata": {},
   "outputs": [],
   "source": [
    "def get_random_user():\n",
    "    total_users = data_2.groupby(['user']).count()\n",
    "    total_users = total_users.index\n",
    "    selected_user = np.random.choice(total_users)\n",
    "    \n",
    "    return selected_user"
   ]
  },
  {
   "cell_type": "code",
   "execution_count": 31,
   "metadata": {},
   "outputs": [],
   "source": [
    "def get_mean_distance(user, n):\n",
    "    \n",
    "    knn_input = np.asarray(user_rating.loc[user_rating.index==user])\n",
    "    distances, indices = knn.kneighbors(knn_input, n_neighbors=n+1)\n",
    "    mean_distance = np.mean(distances)\n",
    "    \n",
    "    return mean_distance"
   ]
  },
  {
   "cell_type": "code",
   "execution_count": 32,
   "metadata": {},
   "outputs": [
    {
     "name": "stdout",
     "output_type": "stream",
     "text": [
      "random user: 265\n",
      "movies seen by 265:\n",
      "['dead man walking',\n",
      " 'braveheart',\n",
      " 'taxi driver',\n",
      " 'apollo 13',\n",
      " 'dolores claiborne',\n",
      " 'legends of the fall',\n",
      " \"nobody's fool\",\n",
      " 'outbreak',\n",
      " 'stargate',\n",
      " 'it could happen to you']\n",
      "5 similar users to the user  265 are: \n",
      " \n",
      "1 . User: 96 with distance measure of:  0.6481168301695288\n",
      "2 . User: 226 with distance measure of:  0.6542901690466413\n",
      "3 . User: 88 with distance measure of:  0.6774063271447707\n",
      "4 . User: 276 with distance measure of:  0.6926813627346302\n",
      "5 . User: 280 with distance measure of:  0.698155273800359\n"
     ]
    }
   ],
   "source": [
    "from pprint import pprint\n",
    "user_id = get_random_user()\n",
    "print(\"random user: \" + str(user_id))\n",
    "print(\"movies seen by \"+str(user_id) + \":\")\n",
    "pprint(list(data_2[data_2['user'] == user_id]['title'])[:10])\n",
    "similar_users, distances = get_similar_users(user_id,5)"
   ]
  },
  {
   "cell_type": "code",
   "execution_count": 33,
   "metadata": {},
   "outputs": [
    {
     "name": "stdout",
     "output_type": "stream",
     "text": [
      "5 similar users to the user  265 are: \n",
      " \n",
      "1 . User: 96 with distance measure of:  0.6481168301695288\n",
      "2 . User: 226 with distance measure of:  0.6542901690466413\n",
      "3 . User: 88 with distance measure of:  0.6774063271447707\n",
      "4 . User: 276 with distance measure of:  0.6926813627346302\n",
      "5 . User: 280 with distance measure of:  0.698155273800359\n",
      "295 similar users to the user  265 are: \n",
      " \n",
      "1 . User: 96 with distance measure of:  0.6481168301695288\n",
      "2 . User: 226 with distance measure of:  0.6542901690466413\n",
      "3 . User: 88 with distance measure of:  0.6774063271447707\n",
      "4 . User: 276 with distance measure of:  0.6926813627346302\n",
      "5 . User: 280 with distance measure of:  0.698155273800359\n",
      "6 . User: 48 with distance measure of:  0.6993585667648872\n",
      "7 . User: 274 with distance measure of:  0.6999782707597342\n",
      "8 . User: 136 with distance measure of:  0.7033618521690203\n",
      "9 . User: 149 with distance measure of:  0.7049357864376955\n",
      "10 . User: 32 with distance measure of:  0.7064880569588947\n",
      "11 . User: 261 with distance measure of:  0.70920371866049\n",
      "12 . User: 219 with distance measure of:  0.713784244001048\n",
      "13 . User: 228 with distance measure of:  0.7171301290900467\n",
      "14 . User: 70 with distance measure of:  0.7249907702491476\n",
      "15 . User: 143 with distance measure of:  0.727495971595773\n",
      "16 . User: 270 with distance measure of:  0.7293764583018791\n",
      "17 . User: 68 with distance measure of:  0.7369510913614261\n",
      "18 . User: 286 with distance measure of:  0.7430807108615369\n",
      "19 . User: 159 with distance measure of:  0.7515326165056382\n",
      "20 . User: 27 with distance measure of:  0.7517029776149136\n",
      "21 . User: 92 with distance measure of:  0.7530376549970057\n",
      "22 . User: 103 with distance measure of:  0.7552227225722667\n",
      "23 . User: 200 with distance measure of:  0.7603137804253763\n",
      "24 . User: 232 with distance measure of:  0.7610765549242919\n",
      "25 . User: 285 with distance measure of:  0.7612010958453924\n",
      "26 . User: 180 with distance measure of:  0.7613902890311529\n",
      "27 . User: 237 with distance measure of:  0.7656803779753046\n",
      "28 . User: 250 with distance measure of:  0.7665447778814962\n",
      "29 . User: 137 with distance measure of:  0.7667409673871126\n",
      "30 . User: 16 with distance measure of:  0.7694541913279835\n",
      "31 . User: 272 with distance measure of:  0.7731429170631298\n",
      "32 . User: 49 with distance measure of:  0.7737867366333044\n",
      "33 . User: 139 with distance measure of:  0.7779062670757256\n",
      "34 . User: 264 with distance measure of:  0.7779702279933376\n",
      "35 . User: 230 with distance measure of:  0.7785365904724553\n",
      "36 . User: 182 with distance measure of:  0.7787860302294722\n",
      "37 . User: 46 with distance measure of:  0.7791384045432267\n",
      "38 . User: 176 with distance measure of:  0.7791396889471047\n",
      "39 . User: 50 with distance measure of:  0.7817836021976236\n",
      "40 . User: 150 with distance measure of:  0.7843826520816164\n",
      "41 . User: 279 with distance measure of:  0.784715195052304\n",
      "42 . User: 207 with distance measure of:  0.785339656148975\n",
      "43 . User: 191 with distance measure of:  0.7865170305012389\n",
      "44 . User: 10 with distance measure of:  0.7868473108961967\n",
      "45 . User: 294 with distance measure of:  0.7873710260175085\n",
      "46 . User: 177 with distance measure of:  0.7877682942918718\n",
      "47 . User: 9 with distance measure of:  0.7907892467000183\n",
      "48 . User: 126 with distance measure of:  0.7925869989853318\n",
      "49 . User: 8 with distance measure of:  0.792687380212671\n",
      "50 . User: 170 with distance measure of:  0.7933539757231722\n",
      "51 . User: 172 with distance measure of:  0.7943767790380911\n",
      "52 . User: 222 with distance measure of:  0.7959009074821626\n",
      "53 . User: 212 with distance measure of:  0.7965530053332532\n",
      "54 . User: 61 with distance measure of:  0.7981504698736421\n",
      "55 . User: 106 with distance measure of:  0.7992672567683854\n",
      "56 . User: 6 with distance measure of:  0.7995849182667392\n",
      "57 . User: 161 with distance measure of:  0.8011341270546322\n",
      "58 . User: 293 with distance measure of:  0.8015554617926484\n",
      "59 . User: 246 with distance measure of:  0.8049048869998684\n",
      "60 . User: 278 with distance measure of:  0.8052953266754201\n",
      "61 . User: 287 with distance measure of:  0.805770143663167\n",
      "62 . User: 115 with distance measure of:  0.8067615560240708\n",
      "63 . User: 252 with distance measure of:  0.8077731316346721\n",
      "64 . User: 78 with distance measure of:  0.8079700628618999\n",
      "65 . User: 129 with distance measure of:  0.8092042158180143\n",
      "66 . User: 1 with distance measure of:  0.809636124075326\n",
      "67 . User: 72 with distance measure of:  0.8096419835976266\n",
      "68 . User: 114 with distance measure of:  0.8134762784464713\n",
      "69 . User: 76 with distance measure of:  0.8143911744390196\n",
      "70 . User: 295 with distance measure of:  0.8163379358806357\n",
      "71 . User: 17 with distance measure of:  0.8168430662740913\n",
      "72 . User: 86 with distance measure of:  0.8173192637118508\n",
      "73 . User: 218 with distance measure of:  0.8185516666388459\n",
      "74 . User: 93 with distance measure of:  0.8212919758009258\n",
      "75 . User: 189 with distance measure of:  0.8214700980901303\n",
      "76 . User: 290 with distance measure of:  0.8215058459329055\n",
      "77 . User: 215 with distance measure of:  0.8215647328999545\n",
      "78 . User: 95 with distance measure of:  0.8232505115823694\n",
      "79 . User: 289 with distance measure of:  0.8246752944329534\n",
      "80 . User: 184 with distance measure of:  0.8251337441486958\n",
      "81 . User: 249 with distance measure of:  0.8259557255217473\n",
      "82 . User: 144 with distance measure of:  0.8261264885531113\n",
      "83 . User: 283 with distance measure of:  0.8265146810333691\n",
      "84 . User: 233 with distance measure of:  0.8267791389246633\n",
      "85 . User: 227 with distance measure of:  0.8269261617105004\n",
      "86 . User: 214 with distance measure of:  0.8292281538665784\n",
      "87 . User: 105 with distance measure of:  0.8298862275226017\n",
      "88 . User: 45 with distance measure of:  0.831892429341419\n",
      "89 . User: 158 with distance measure of:  0.8321046801731863\n",
      "90 . User: 38 with distance measure of:  0.8325336909095955\n",
      "91 . User: 188 with distance measure of:  0.8348568962657256\n",
      "92 . User: 234 with distance measure of:  0.8365225623306357\n",
      "93 . User: 22 with distance measure of:  0.8371481757391167\n",
      "94 . User: 3 with distance measure of:  0.8373480051426969\n",
      "95 . User: 117 with distance measure of:  0.8385430526255371\n",
      "96 . User: 132 with distance measure of:  0.8404580469724825\n",
      "97 . User: 198 with distance measure of:  0.8404878165862147\n",
      "98 . User: 138 with distance measure of:  0.8407973767700249\n",
      "99 . User: 204 with distance measure of:  0.8424134950858545\n",
      "100 . User: 4 with distance measure of:  0.8442572753800893\n",
      "101 . User: 265 with distance measure of:  0.8451248809695384\n",
      "102 . User: 62 with distance measure of:  0.8451301356957356\n",
      "103 . User: 20 with distance measure of:  0.8454451357109909\n",
      "104 . User: 119 with distance measure of:  0.8460021529176303\n",
      "105 . User: 66 with distance measure of:  0.846402516892581\n",
      "106 . User: 262 with distance measure of:  0.8468871141893961\n",
      "107 . User: 248 with distance measure of:  0.846906300435639\n",
      "108 . User: 146 with distance measure of:  0.8470854974642078\n",
      "109 . User: 254 with distance measure of:  0.847186214152057\n",
      "110 . User: 273 with distance measure of:  0.8479317302051024\n",
      "111 . User: 128 with distance measure of:  0.8480258056007483\n",
      "112 . User: 284 with distance measure of:  0.8488444045972906\n",
      "113 . User: 34 with distance measure of:  0.8488768468736396\n",
      "114 . User: 91 with distance measure of:  0.8489808158883138\n",
      "115 . User: 142 with distance measure of:  0.8502841990862141\n",
      "116 . User: 268 with distance measure of:  0.8504726645941924\n",
      "117 . User: 25 with distance measure of:  0.8517650889851414\n",
      "118 . User: 36 with distance measure of:  0.852555014205491\n",
      "119 . User: 23 with distance measure of:  0.8533743674261156\n",
      "120 . User: 156 with distance measure of:  0.8536720909478264\n",
      "121 . User: 164 with distance measure of:  0.85453851563073\n",
      "122 . User: 39 with distance measure of:  0.8559847360161628\n",
      "123 . User: 81 with distance measure of:  0.8562705317778503\n",
      "124 . User: 60 with distance measure of:  0.8571534079239104\n",
      "125 . User: 109 with distance measure of:  0.857444569956882\n",
      "126 . User: 37 with distance measure of:  0.8579314582001023\n",
      "127 . User: 84 with distance measure of:  0.8580240958263261\n",
      "128 . User: 53 with distance measure of:  0.8583495271636721\n",
      "129 . User: 104 with distance measure of:  0.8586294188081509\n",
      "130 . User: 64 with distance measure of:  0.8590006345931106\n",
      "131 . User: 83 with distance measure of:  0.8597706703115817\n",
      "132 . User: 141 with distance measure of:  0.8598663735284022\n",
      "133 . User: 224 with distance measure of:  0.8602348344178105\n",
      "134 . User: 185 with distance measure of:  0.8602997209209418\n",
      "135 . User: 79 with distance measure of:  0.8623662575842912\n",
      "136 . User: 211 with distance measure of:  0.8641942333495387\n",
      "137 . User: 171 with distance measure of:  0.864570988282051\n",
      "138 . User: 154 with distance measure of:  0.8651173282931864\n",
      "139 . User: 26 with distance measure of:  0.8653813584075851\n",
      "140 . User: 57 with distance measure of:  0.8656092958532386\n",
      "141 . User: 181 with distance measure of:  0.8666769706643359\n",
      "142 . User: 18 with distance measure of:  0.8672720562379135\n",
      "143 . User: 52 with distance measure of:  0.8677173747805635\n",
      "144 . User: 296 with distance measure of:  0.8681035488328952\n",
      "145 . User: 223 with distance measure of:  0.8696233418680022\n",
      "146 . User: 247 with distance measure of:  0.8705477714387082\n",
      "147 . User: 28 with distance measure of:  0.8705594483302787\n",
      "148 . User: 217 with distance measure of:  0.870578074210175\n",
      "149 . User: 121 with distance measure of:  0.8709813586016177\n",
      "150 . User: 242 with distance measure of:  0.8713909868424012\n",
      "151 . User: 220 with distance measure of:  0.8721594455798813\n",
      "152 . User: 74 with distance measure of:  0.8730695369334469\n",
      "153 . User: 151 with distance measure of:  0.8731247257331093\n",
      "154 . User: 116 with distance measure of:  0.8739844240684781\n",
      "155 . User: 82 with distance measure of:  0.8752639713499386\n",
      "156 . User: 29 with distance measure of:  0.8755256371336859\n",
      "157 . User: 236 with distance measure of:  0.8758858559438741\n",
      "158 . User: 281 with distance measure of:  0.8767004796547455\n",
      "159 . User: 263 with distance measure of:  0.8786816073798159\n",
      "160 . User: 30 with distance measure of:  0.8793436226564292\n",
      "161 . User: 260 with distance measure of:  0.8793568601400784\n",
      "162 . User: 216 with distance measure of:  0.8807171105384599\n",
      "163 . User: 277 with distance measure of:  0.8811110301494047\n",
      "164 . User: 80 with distance measure of:  0.8811889241030563\n",
      "165 . User: 148 with distance measure of:  0.8815052755639307\n",
      "166 . User: 258 with distance measure of:  0.8816450648774915\n",
      "167 . User: 196 with distance measure of:  0.8819136652826558\n",
      "168 . User: 201 with distance measure of:  0.8827629363536217\n",
      "169 . User: 44 with distance measure of:  0.8861316213285421\n",
      "170 . User: 183 with distance measure of:  0.8861770502312102\n",
      "171 . User: 229 with distance measure of:  0.8872706799357224\n",
      "172 . User: 90 with distance measure of:  0.8892346605258044\n",
      "173 . User: 56 with distance measure of:  0.8903479082723128\n",
      "174 . User: 101 with distance measure of:  0.8908641142567083\n",
      "175 . User: 120 with distance measure of:  0.8939731662240001\n",
      "176 . User: 112 with distance measure of:  0.8941932385702973\n",
      "177 . User: 33 with distance measure of:  0.8942526090841076\n",
      "178 . User: 174 with distance measure of:  0.8946214273649477\n",
      "179 . User: 153 with distance measure of:  0.8952268595123514\n",
      "180 . User: 213 with distance measure of:  0.8957191887572846\n",
      "181 . User: 292 with distance measure of:  0.8958493277152052\n",
      "182 . User: 253 with distance measure of:  0.8966460574717579\n",
      "183 . User: 251 with distance measure of:  0.8972370000501909\n",
      "184 . User: 35 with distance measure of:  0.8974541392984194\n",
      "185 . User: 152 with distance measure of:  0.8975584570105825\n",
      "186 . User: 15 with distance measure of:  0.8976966304654233\n",
      "187 . User: 166 with distance measure of:  0.8982278418098\n",
      "188 . User: 282 with distance measure of:  0.8988068395186986\n",
      "189 . User: 140 with distance measure of:  0.900061328791169\n",
      "190 . User: 89 with distance measure of:  0.9001431660283052\n",
      "191 . User: 21 with distance measure of:  0.9009182171965554\n",
      "192 . User: 162 with distance measure of:  0.9010748365786889\n",
      "193 . User: 133 with distance measure of:  0.9015920675514603\n",
      "194 . User: 19 with distance measure of:  0.9016197773165074\n",
      "195 . User: 135 with distance measure of:  0.9017543859649122\n",
      "196 . User: 130 with distance measure of:  0.9018022370244715\n",
      "197 . User: 67 with distance measure of:  0.901984531511332\n",
      "198 . User: 202 with distance measure of:  0.9020882147733157\n",
      "199 . User: 85 with distance measure of:  0.9034234522955613\n",
      "200 . User: 111 with distance measure of:  0.9037715559808647\n",
      "201 . User: 7 with distance measure of:  0.9038964501471307\n",
      "202 . User: 178 with distance measure of:  0.9042918437034273\n",
      "203 . User: 113 with distance measure of:  0.9049585370375506\n",
      "204 . User: 179 with distance measure of:  0.90515360995842\n",
      "205 . User: 12 with distance measure of:  0.9052720684258506\n",
      "206 . User: 288 with distance measure of:  0.9055222667272851\n",
      "207 . User: 124 with distance measure of:  0.9055611236773226\n",
      "208 . User: 94 with distance measure of:  0.9059475047354\n",
      "209 . User: 210 with distance measure of:  0.9073692582854433\n",
      "210 . User: 155 with distance measure of:  0.9095286409301093\n",
      "211 . User: 59 with distance measure of:  0.9100002782259771\n",
      "212 . User: 107 with distance measure of:  0.9107212444424346\n",
      "213 . User: 97 with distance measure of:  0.9110378957472305\n",
      "214 . User: 245 with distance measure of:  0.91167574107683\n",
      "215 . User: 14 with distance measure of:  0.9116836065451328\n",
      "216 . User: 55 with distance measure of:  0.912715274184796\n",
      "217 . User: 24 with distance measure of:  0.9128621516334409\n",
      "218 . User: 123 with distance measure of:  0.9170513836437029\n",
      "219 . User: 169 with distance measure of:  0.9184558571621193\n",
      "220 . User: 134 with distance measure of:  0.919020078088203\n",
      "221 . User: 2 with distance measure of:  0.9207824247872893\n",
      "222 . User: 100 with distance measure of:  0.920811050856786\n",
      "223 . User: 73 with distance measure of:  0.9219386934821234\n",
      "224 . User: 241 with distance measure of:  0.922293119731944\n",
      "225 . User: 275 with distance measure of:  0.9228670550315067\n",
      "226 . User: 77 with distance measure of:  0.9228758760576202\n",
      "227 . User: 168 with distance measure of:  0.9237679780535195\n",
      "228 . User: 269 with distance measure of:  0.9243466082472452\n",
      "229 . User: 291 with distance measure of:  0.926492690082684\n",
      "230 . User: 240 with distance measure of:  0.9272599944341238\n",
      "231 . User: 257 with distance measure of:  0.9273650982002345\n",
      "232 . User: 41 with distance measure of:  0.9279257867827088\n",
      "233 . User: 163 with distance measure of:  0.9282961498798598\n",
      "234 . User: 231 with distance measure of:  0.9308536985887654\n",
      "235 . User: 194 with distance measure of:  0.9326205674792685\n",
      "236 . User: 203 with distance measure of:  0.933291627563432\n",
      "237 . User: 190 with distance measure of:  0.9341669317369365\n",
      "238 . User: 255 with distance measure of:  0.9345696245679666\n",
      "239 . User: 197 with distance measure of:  0.9349657972416314\n",
      "240 . User: 65 with distance measure of:  0.9357626749016377\n",
      "241 . User: 118 with distance measure of:  0.9361564499905972\n",
      "242 . User: 99 with distance measure of:  0.9391673054555328\n",
      "243 . User: 108 with distance measure of:  0.9398023546022148\n",
      "244 . User: 206 with distance measure of:  0.9406272882552107\n",
      "245 . User: 69 with distance measure of:  0.9406957098713166\n",
      "246 . User: 75 with distance measure of:  0.9410486563699272\n",
      "247 . User: 205 with distance measure of:  0.9414482936747854\n",
      "248 . User: 42 with distance measure of:  0.9420648501753411\n",
      "249 . User: 110 with distance measure of:  0.9421889481620035\n",
      "250 . User: 221 with distance measure of:  0.942273265344832\n",
      "251 . User: 199 with distance measure of:  0.9461810175418457\n",
      "252 . User: 13 with distance measure of:  0.9462171006511734\n",
      "253 . User: 157 with distance measure of:  0.9475292178090384\n",
      "254 . User: 187 with distance measure of:  0.948084530324624\n",
      "255 . User: 208 with distance measure of:  0.9494254332866883\n",
      "256 . User: 186 with distance measure of:  0.952251434507405\n",
      "257 . User: 239 with distance measure of:  0.9523409412104118\n",
      "258 . User: 54 with distance measure of:  0.9536285621416264\n",
      "259 . User: 192 with distance measure of:  0.9543429532360833\n",
      "260 . User: 98 with distance measure of:  0.9546349719735391\n",
      "261 . User: 51 with distance measure of:  0.9546545364656225\n",
      "262 . User: 266 with distance measure of:  0.9548759975290069\n",
      "263 . User: 43 with distance measure of:  0.9557485049858484\n",
      "264 . User: 209 with distance measure of:  0.9567676768357254\n",
      "265 . User: 167 with distance measure of:  0.9570769637607112\n",
      "266 . User: 238 with distance measure of:  0.9587604293929215\n",
      "267 . User: 127 with distance measure of:  0.9588905914344\n",
      "268 . User: 40 with distance measure of:  0.9591525354702392\n",
      "269 . User: 160 with distance measure of:  0.9629264127261588\n",
      "270 . User: 11 with distance measure of:  0.9633840755767915\n",
      "271 . User: 271 with distance measure of:  0.9662888097252448\n",
      "272 . User: 235 with distance measure of:  0.9663549086548822\n",
      "273 . User: 165 with distance measure of:  0.9682763802800572\n",
      "274 . User: 173 with distance measure of:  0.9684920519580648\n",
      "275 . User: 195 with distance measure of:  0.9688536003660797\n",
      "276 . User: 175 with distance measure of:  0.9697141753362765\n",
      "277 . User: 259 with distance measure of:  0.9701593672984314\n",
      "278 . User: 102 with distance measure of:  0.970491356848022\n",
      "279 . User: 122 with distance measure of:  0.970932147706066\n",
      "280 . User: 267 with distance measure of:  0.9709963540918615\n",
      "281 . User: 63 with distance measure of:  0.9719988091890384\n",
      "282 . User: 244 with distance measure of:  0.972889993458914\n",
      "283 . User: 58 with distance measure of:  0.9737115686681058\n",
      "284 . User: 31 with distance measure of:  0.9753808275282237\n",
      "285 . User: 131 with distance measure of:  0.9758635651195748\n",
      "286 . User: 256 with distance measure of:  0.9768086559204325\n",
      "287 . User: 87 with distance measure of:  0.9770149484349789\n",
      "288 . User: 71 with distance measure of:  0.9782827878256843\n",
      "289 . User: 147 with distance measure of:  0.9787538554381243\n",
      "290 . User: 225 with distance measure of:  0.9824543125799029\n",
      "291 . User: 5 with distance measure of:  0.9846815007782498\n",
      "292 . User: 47 with distance measure of:  0.9903691384528659\n",
      "293 . User: 193 with distance measure of:  1.0\n",
      "294 . User: 145 with distance measure of:  1.0\n",
      "295 . User: 243 with distance measure of:  1.0\n"
     ]
    },
    {
     "data": {
      "text/plain": [
       "0.674129992579186"
      ]
     },
     "metadata": {},
     "output_type": "display_data"
    },
    {
     "data": {
      "text/plain": [
       "0.8661261148064746"
      ]
     },
     "metadata": {},
     "output_type": "display_data"
    },
    {
     "data": {
      "text/plain": [
       "0.7783277528005401"
      ]
     },
     "metadata": {},
     "output_type": "display_data"
    }
   ],
   "source": [
    "sim_close, user_close_distance = get_similar_users(user_id,5)\n",
    "sim_total, user_total_distance= get_similar_users(user_id,len(user_rating.index)-1)\n",
    "display(np.mean(user_close_distance))\n",
    "display(np.mean(user_total_distance))\n",
    "display((np.mean(user_close_distance)/np.mean(user_total_distance)))"
   ]
  },
  {
   "cell_type": "code",
   "execution_count": 34,
   "metadata": {},
   "outputs": [
    {
     "data": {
      "text/plain": [
       "(array([ 96, 226,  88, 276, 280]),\n",
       " array([0.64811683, 0.65429017, 0.67740633, 0.69268136, 0.69815527]))"
      ]
     },
     "execution_count": 34,
     "metadata": {},
     "output_type": "execute_result"
    }
   ],
   "source": [
    "similar_users, distances"
   ]
  },
  {
   "cell_type": "code",
   "execution_count": 35,
   "metadata": {},
   "outputs": [
    {
     "data": {
      "text/plain": [
       "array([0.19228245, 0.19411395, 0.20097202, 0.2055038 , 0.20712779])"
      ]
     },
     "execution_count": 35,
     "metadata": {},
     "output_type": "execute_result"
    }
   ],
   "source": [
    "normalised_distances = distances/np.sum(distances)\n",
    "normalised_distances"
   ]
  },
  {
   "cell_type": "code",
   "execution_count": 36,
   "metadata": {},
   "outputs": [
    {
     "data": {
      "text/plain": [
       "array([[0., 0., 0., ..., 0., 0., 0.],\n",
       "       [0., 0., 0., ..., 0., 0., 0.],\n",
       "       [0., 0., 0., ..., 0., 0., 0.],\n",
       "       [0., 0., 0., ..., 0., 0., 0.],\n",
       "       [0., 0., 0., ..., 0., 0., 0.]])"
      ]
     },
     "execution_count": 36,
     "metadata": {},
     "output_type": "execute_result"
    }
   ],
   "source": [
    "similar_users_ratings = user_rating.values[similar_users]\n",
    "similar_users_ratings"
   ]
  },
  {
   "cell_type": "code",
   "execution_count": 37,
   "metadata": {},
   "outputs": [
    {
     "data": {
      "text/plain": [
       "Index(['(500) days of summer', '10 cloverfield lane',\n",
       "       '10 things i hate about you', '10,000 bc', '101 dalmatians',\n",
       "       '12 angry men', '12 years a slave', '127 hours', '13 going on 30',\n",
       "       '1408',\n",
       "       ...\n",
       "       'young guns', 'young guns ii', 'young sherlock holmes',\n",
       "       'zack and miri make a porno', 'zero dark thirty', 'zero effect',\n",
       "       'zodiac', 'zombieland', 'zoolander', 'zootopia'],\n",
       "      dtype='object', name='title', length=1354)"
      ]
     },
     "execution_count": 37,
     "metadata": {},
     "output_type": "execute_result"
    }
   ],
   "source": [
    "movies_list = user_rating.columns\n",
    "movies_list"
   ]
  },
  {
   "cell_type": "code",
   "execution_count": 38,
   "metadata": {},
   "outputs": [
    {
     "data": {
      "text/plain": [
       "(5, 1354)"
      ]
     },
     "execution_count": 38,
     "metadata": {},
     "output_type": "execute_result"
    }
   ],
   "source": [
    "weights = normalised_distances[:,np.newaxis] + np.zeros(len(movies_list))\n",
    "weights.shape"
   ]
  },
  {
   "cell_type": "code",
   "execution_count": 39,
   "metadata": {},
   "outputs": [
    {
     "data": {
      "text/plain": [
       "array([0., 0., 0., ..., 0., 0., 0.])"
      ]
     },
     "execution_count": 39,
     "metadata": {},
     "output_type": "execute_result"
    }
   ],
   "source": [
    "new_rating_matrix = weights*similar_users_ratings\n",
    "mean_rating_list = new_rating_matrix.sum(axis =0)\n",
    "mean_rating_list"
   ]
  },
  {
   "cell_type": "code",
   "execution_count": 40,
   "metadata": {},
   "outputs": [
    {
     "name": "stdout",
     "output_type": "stream",
     "text": [
      "Movies recommended based on similar users are: \n",
      "NOTE: movies here might be repeated from the user's watch list\n",
      "['terminator 2: judgment day',\n",
      " 'braveheart',\n",
      " 'forrest gump',\n",
      " 'jurassic park',\n",
      " 'true lies',\n",
      " 'pulp fiction',\n",
      " 'sleepless in seattle',\n",
      " 'mrs. doubtfire',\n",
      " 'ghost',\n",
      " 'batman forever']\n"
     ]
    }
   ],
   "source": [
    "from pprint import pprint\n",
    "def recommend_movies(n,mean_ratings):\n",
    "    n = min(len(mean_ratings),n)\n",
    "    pprint(list(movies_list[np.argsort(mean_ratings)[::-1][:n]]))\n",
    "    \n",
    "print(\"Movies recommended based on similar users are: \")\n",
    "print(\"NOTE: movies here might be repeated from the user's watch list\")\n",
    "recommend_movies(10, mean_rating_list)"
   ]
  },
  {
   "cell_type": "code",
   "execution_count": 41,
   "metadata": {},
   "outputs": [],
   "source": [
    "def filtered_movie_recommendations(n,mean_ratings):\n",
    "  \n",
    "    first_zero_index = np.where(mean_ratings == 0)[0][-1]\n",
    "    sortd_index = np.argsort(mean_ratings)[::-1]\n",
    "    sortd_index = sortd_index[:list(sortd_index).index(first_zero_index)]\n",
    "    n = min(len(sortd_index),n)\n",
    "    movies_watched = list(data_2[data_2['user'] == user_id]['title'])\n",
    "    filtered_movie_list = list(movies_list[sortd_index])\n",
    "    count = 0\n",
    "    final_movie_list = []\n",
    "    for i in filtered_movie_list:\n",
    "        if i not in movies_watched:\n",
    "            count+=1\n",
    "            final_movie_list.append(i)\n",
    "        if count == n:\n",
    "            break\n",
    "    if count == 0:\n",
    "        print(\"user has watched everything that the similar users watched\")\n",
    "    else:\n",
    "        pprint(final_movie_list)"
   ]
  },
  {
   "cell_type": "code",
   "execution_count": 42,
   "metadata": {},
   "outputs": [
    {
     "name": "stdout",
     "output_type": "stream",
     "text": [
      "['forrest gump',\n",
      " 'true lies',\n",
      " 'pulp fiction',\n",
      " 'sleepless in seattle',\n",
      " 'mrs. doubtfire',\n",
      " 'ghost',\n",
      " 'batman forever',\n",
      " 'beauty and the beast',\n",
      " 'while you were sleeping',\n",
      " 'clear and present danger']\n"
     ]
    }
   ],
   "source": [
    "filtered_movie_recommendations(10,mean_rating_list)"
   ]
  },
  {
   "cell_type": "code",
   "execution_count": null,
   "metadata": {},
   "outputs": [],
   "source": []
  }
 ],
 "metadata": {
  "kernelspec": {
   "display_name": "Python 3",
   "language": "python",
   "name": "python3"
  },
  "language_info": {
   "codemirror_mode": {
    "name": "ipython",
    "version": 3
   },
   "file_extension": ".py",
   "mimetype": "text/x-python",
   "name": "python",
   "nbconvert_exporter": "python",
   "pygments_lexer": "ipython3",
   "version": "3.7.6"
  }
 },
 "nbformat": 4,
 "nbformat_minor": 4
}
