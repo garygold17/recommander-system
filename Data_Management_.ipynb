{
 "cells": [
  {
   "cell_type": "code",
   "execution_count": 88,
   "metadata": {},
   "outputs": [],
   "source": [
    "import pandas as pd\n",
    "pd.options.display.float_format = '{:,.2f}'.format\n",
    "pd.set_option('display.width', 75)\n",
    "pd.set_option('display.max_columns', 5)\n",
    "\n",
    "tag = pd.read_csv('tag.csv',\n",
    "    names=['userId','movieId','tag','timestamp'],\n",
    "    skiprows=1,\n",
    "    parse_dates=['timestamp'], infer_datetime_format=True)\n",
    "tag['Date'] = tag.timestamp.dt.date\n",
    "tag['Time'] = tag.timestamp.dt.time\n",
    "\n",
    "rating = pd.read_csv('rating.csv',\n",
    "    names=['userId','movieId','rating','timestamp'],\n",
    "    skiprows=1,\n",
    "    parse_dates=['timestamp'], infer_datetime_format=True)\n",
    "rating['Date'] = tag.timestamp.dt.date\n",
    "rating['Time'] = tag.timestamp.dt.time\n",
    "\n",
    "movie = pd.read_csv('movie.csv',\n",
    "    names=['movieId','title','genre'],\n",
    "    skiprows=1)\n",
    "\n",
    "gen_tag = pd.read_csv('genome_tags.csv',\n",
    "    names=['tagId','tag'],\n",
    "    skiprows=1)"
   ]
  },
  {
   "cell_type": "code",
   "execution_count": 89,
   "metadata": {},
   "outputs": [
    {
     "data": {
      "text/plain": [
       "38643"
      ]
     },
     "execution_count": 89,
     "metadata": {},
     "output_type": "execute_result"
    }
   ],
   "source": [
    "tag.tag.nunique()"
   ]
  },
  {
   "cell_type": "code",
   "execution_count": 90,
   "metadata": {},
   "outputs": [
    {
     "data": {
      "text/html": [
       "<div>\n",
       "<style scoped>\n",
       "    .dataframe tbody tr th:only-of-type {\n",
       "        vertical-align: middle;\n",
       "    }\n",
       "\n",
       "    .dataframe tbody tr th {\n",
       "        vertical-align: top;\n",
       "    }\n",
       "\n",
       "    .dataframe thead th {\n",
       "        text-align: right;\n",
       "    }\n",
       "</style>\n",
       "<table border=\"1\" class=\"dataframe\">\n",
       "  <thead>\n",
       "    <tr style=\"text-align: right;\">\n",
       "      <th></th>\n",
       "      <th>0</th>\n",
       "      <th>1</th>\n",
       "      <th>2</th>\n",
       "      <th>3</th>\n",
       "      <th>4</th>\n",
       "    </tr>\n",
       "  </thead>\n",
       "  <tbody>\n",
       "    <tr>\n",
       "      <th>userId</th>\n",
       "      <td>18</td>\n",
       "      <td>65</td>\n",
       "      <td>65</td>\n",
       "      <td>65</td>\n",
       "      <td>65</td>\n",
       "    </tr>\n",
       "    <tr>\n",
       "      <th>movieId</th>\n",
       "      <td>4141</td>\n",
       "      <td>208</td>\n",
       "      <td>353</td>\n",
       "      <td>521</td>\n",
       "      <td>592</td>\n",
       "    </tr>\n",
       "    <tr>\n",
       "      <th>tag</th>\n",
       "      <td>Mark Waters</td>\n",
       "      <td>dark hero</td>\n",
       "      <td>dark hero</td>\n",
       "      <td>noir thriller</td>\n",
       "      <td>dark hero</td>\n",
       "    </tr>\n",
       "    <tr>\n",
       "      <th>timestamp</th>\n",
       "      <td>2009-04-24 18:19:40</td>\n",
       "      <td>2013-05-10 01:41:18</td>\n",
       "      <td>2013-05-10 01:41:19</td>\n",
       "      <td>2013-05-10 01:39:43</td>\n",
       "      <td>2013-05-10 01:41:18</td>\n",
       "    </tr>\n",
       "    <tr>\n",
       "      <th>Date</th>\n",
       "      <td>2009-04-24</td>\n",
       "      <td>2013-05-10</td>\n",
       "      <td>2013-05-10</td>\n",
       "      <td>2013-05-10</td>\n",
       "      <td>2013-05-10</td>\n",
       "    </tr>\n",
       "    <tr>\n",
       "      <th>Time</th>\n",
       "      <td>18:19:40</td>\n",
       "      <td>01:41:18</td>\n",
       "      <td>01:41:19</td>\n",
       "      <td>01:39:43</td>\n",
       "      <td>01:41:18</td>\n",
       "    </tr>\n",
       "  </tbody>\n",
       "</table>\n",
       "</div>"
      ],
      "text/plain": [
       "                             0                    1                    2  \\\n",
       "userId                      18                   65                   65   \n",
       "movieId                   4141                  208                  353   \n",
       "tag                Mark Waters            dark hero            dark hero   \n",
       "timestamp  2009-04-24 18:19:40  2013-05-10 01:41:18  2013-05-10 01:41:19   \n",
       "Date                2009-04-24           2013-05-10           2013-05-10   \n",
       "Time                  18:19:40             01:41:18             01:41:19   \n",
       "\n",
       "                             3                    4  \n",
       "userId                      65                   65  \n",
       "movieId                    521                  592  \n",
       "tag              noir thriller            dark hero  \n",
       "timestamp  2013-05-10 01:39:43  2013-05-10 01:41:18  \n",
       "Date                2013-05-10           2013-05-10  \n",
       "Time                  01:39:43             01:41:18  "
      ]
     },
     "execution_count": 90,
     "metadata": {},
     "output_type": "execute_result"
    }
   ],
   "source": [
    "tag.head().T"
   ]
  },
  {
   "cell_type": "code",
   "execution_count": 91,
   "metadata": {},
   "outputs": [
    {
     "data": {
      "text/plain": [
       "(465564, 6)"
      ]
     },
     "execution_count": 91,
     "metadata": {},
     "output_type": "execute_result"
    }
   ],
   "source": [
    "tag.shape"
   ]
  },
  {
   "cell_type": "code",
   "execution_count": 92,
   "metadata": {},
   "outputs": [
    {
     "data": {
      "text/plain": [
       "userId        0\n",
       "movieId       0\n",
       "tag          16\n",
       "timestamp     0\n",
       "Date          0\n",
       "Time          0\n",
       "dtype: int64"
      ]
     },
     "execution_count": 92,
     "metadata": {},
     "output_type": "execute_result"
    }
   ],
   "source": [
    "tag.isnull().sum()"
   ]
  },
  {
   "cell_type": "code",
   "execution_count": 93,
   "metadata": {},
   "outputs": [
    {
     "data": {
      "text/html": [
       "<div>\n",
       "<style scoped>\n",
       "    .dataframe tbody tr th:only-of-type {\n",
       "        vertical-align: middle;\n",
       "    }\n",
       "\n",
       "    .dataframe tbody tr th {\n",
       "        vertical-align: top;\n",
       "    }\n",
       "\n",
       "    .dataframe thead th {\n",
       "        text-align: right;\n",
       "    }\n",
       "</style>\n",
       "<table border=\"1\" class=\"dataframe\">\n",
       "  <thead>\n",
       "    <tr style=\"text-align: right;\">\n",
       "      <th></th>\n",
       "      <th>userId</th>\n",
       "      <th>movieId</th>\n",
       "      <th>...</th>\n",
       "      <th>Date</th>\n",
       "      <th>Time</th>\n",
       "    </tr>\n",
       "  </thead>\n",
       "  <tbody>\n",
       "    <tr>\n",
       "      <th>373276</th>\n",
       "      <td>116460</td>\n",
       "      <td>123</td>\n",
       "      <td>...</td>\n",
       "      <td>2008-01-04</td>\n",
       "      <td>12:47:47</td>\n",
       "    </tr>\n",
       "    <tr>\n",
       "      <th>373277</th>\n",
       "      <td>116460</td>\n",
       "      <td>346</td>\n",
       "      <td>...</td>\n",
       "      <td>2008-01-04</td>\n",
       "      <td>13:05:46</td>\n",
       "    </tr>\n",
       "    <tr>\n",
       "      <th>373281</th>\n",
       "      <td>116460</td>\n",
       "      <td>1184</td>\n",
       "      <td>...</td>\n",
       "      <td>2008-01-04</td>\n",
       "      <td>13:11:01</td>\n",
       "    </tr>\n",
       "    <tr>\n",
       "      <th>373288</th>\n",
       "      <td>116460</td>\n",
       "      <td>1785</td>\n",
       "      <td>...</td>\n",
       "      <td>2008-01-04</td>\n",
       "      <td>13:06:46</td>\n",
       "    </tr>\n",
       "    <tr>\n",
       "      <th>373289</th>\n",
       "      <td>116460</td>\n",
       "      <td>2194</td>\n",
       "      <td>...</td>\n",
       "      <td>2008-01-04</td>\n",
       "      <td>12:44:37</td>\n",
       "    </tr>\n",
       "    <tr>\n",
       "      <th>373291</th>\n",
       "      <td>116460</td>\n",
       "      <td>2691</td>\n",
       "      <td>...</td>\n",
       "      <td>2008-01-04</td>\n",
       "      <td>12:50:02</td>\n",
       "    </tr>\n",
       "    <tr>\n",
       "      <th>373299</th>\n",
       "      <td>116460</td>\n",
       "      <td>4103</td>\n",
       "      <td>...</td>\n",
       "      <td>2008-01-04</td>\n",
       "      <td>13:05:20</td>\n",
       "    </tr>\n",
       "    <tr>\n",
       "      <th>373301</th>\n",
       "      <td>116460</td>\n",
       "      <td>4473</td>\n",
       "      <td>...</td>\n",
       "      <td>2008-01-04</td>\n",
       "      <td>12:50:40</td>\n",
       "    </tr>\n",
       "    <tr>\n",
       "      <th>373303</th>\n",
       "      <td>116460</td>\n",
       "      <td>4616</td>\n",
       "      <td>...</td>\n",
       "      <td>2008-01-04</td>\n",
       "      <td>13:14:01</td>\n",
       "    </tr>\n",
       "    <tr>\n",
       "      <th>373319</th>\n",
       "      <td>116460</td>\n",
       "      <td>7624</td>\n",
       "      <td>...</td>\n",
       "      <td>2008-01-04</td>\n",
       "      <td>13:11:06</td>\n",
       "    </tr>\n",
       "    <tr>\n",
       "      <th>373325</th>\n",
       "      <td>116460</td>\n",
       "      <td>8898</td>\n",
       "      <td>...</td>\n",
       "      <td>2008-01-04</td>\n",
       "      <td>12:45:57</td>\n",
       "    </tr>\n",
       "    <tr>\n",
       "      <th>373332</th>\n",
       "      <td>116460</td>\n",
       "      <td>32460</td>\n",
       "      <td>...</td>\n",
       "      <td>2008-01-04</td>\n",
       "      <td>12:48:21</td>\n",
       "    </tr>\n",
       "    <tr>\n",
       "      <th>373334</th>\n",
       "      <td>116460</td>\n",
       "      <td>33826</td>\n",
       "      <td>...</td>\n",
       "      <td>2008-01-04</td>\n",
       "      <td>12:45:03</td>\n",
       "    </tr>\n",
       "    <tr>\n",
       "      <th>373339</th>\n",
       "      <td>116460</td>\n",
       "      <td>36537</td>\n",
       "      <td>...</td>\n",
       "      <td>2008-01-04</td>\n",
       "      <td>12:45:36</td>\n",
       "    </tr>\n",
       "    <tr>\n",
       "      <th>373340</th>\n",
       "      <td>116460</td>\n",
       "      <td>55805</td>\n",
       "      <td>...</td>\n",
       "      <td>2008-01-04</td>\n",
       "      <td>12:49:01</td>\n",
       "    </tr>\n",
       "    <tr>\n",
       "      <th>454615</th>\n",
       "      <td>133634</td>\n",
       "      <td>33826</td>\n",
       "      <td>...</td>\n",
       "      <td>2008-09-15</td>\n",
       "      <td>03:55:08</td>\n",
       "    </tr>\n",
       "  </tbody>\n",
       "</table>\n",
       "<p>16 rows × 6 columns</p>\n",
       "</div>"
      ],
      "text/plain": [
       "        userId  movieId  ...        Date      Time\n",
       "373276  116460      123  ...  2008-01-04  12:47:47\n",
       "373277  116460      346  ...  2008-01-04  13:05:46\n",
       "373281  116460     1184  ...  2008-01-04  13:11:01\n",
       "373288  116460     1785  ...  2008-01-04  13:06:46\n",
       "373289  116460     2194  ...  2008-01-04  12:44:37\n",
       "373291  116460     2691  ...  2008-01-04  12:50:02\n",
       "373299  116460     4103  ...  2008-01-04  13:05:20\n",
       "373301  116460     4473  ...  2008-01-04  12:50:40\n",
       "373303  116460     4616  ...  2008-01-04  13:14:01\n",
       "373319  116460     7624  ...  2008-01-04  13:11:06\n",
       "373325  116460     8898  ...  2008-01-04  12:45:57\n",
       "373332  116460    32460  ...  2008-01-04  12:48:21\n",
       "373334  116460    33826  ...  2008-01-04  12:45:03\n",
       "373339  116460    36537  ...  2008-01-04  12:45:36\n",
       "373340  116460    55805  ...  2008-01-04  12:49:01\n",
       "454615  133634    33826  ...  2008-09-15  03:55:08\n",
       "\n",
       "[16 rows x 6 columns]"
      ]
     },
     "execution_count": 93,
     "metadata": {},
     "output_type": "execute_result"
    }
   ],
   "source": [
    "tag.loc[tag.tag.isnull()]"
   ]
  },
  {
   "cell_type": "code",
   "execution_count": 94,
   "metadata": {},
   "outputs": [],
   "source": [
    "tag = tag.dropna(subset=['tag'], inplace=True)"
   ]
  },
  {
   "cell_type": "code",
   "execution_count": 95,
   "metadata": {},
   "outputs": [
    {
     "data": {
      "text/html": [
       "<div>\n",
       "<style scoped>\n",
       "    .dataframe tbody tr th:only-of-type {\n",
       "        vertical-align: middle;\n",
       "    }\n",
       "\n",
       "    .dataframe tbody tr th {\n",
       "        vertical-align: top;\n",
       "    }\n",
       "\n",
       "    .dataframe thead th {\n",
       "        text-align: right;\n",
       "    }\n",
       "</style>\n",
       "<table border=\"1\" class=\"dataframe\">\n",
       "  <thead>\n",
       "    <tr style=\"text-align: right;\">\n",
       "      <th></th>\n",
       "      <th>0</th>\n",
       "      <th>1</th>\n",
       "      <th>2</th>\n",
       "      <th>3</th>\n",
       "      <th>4</th>\n",
       "    </tr>\n",
       "  </thead>\n",
       "  <tbody>\n",
       "    <tr>\n",
       "      <th>userId</th>\n",
       "      <td>1</td>\n",
       "      <td>1</td>\n",
       "      <td>1</td>\n",
       "      <td>1</td>\n",
       "      <td>1</td>\n",
       "    </tr>\n",
       "    <tr>\n",
       "      <th>movieId</th>\n",
       "      <td>2</td>\n",
       "      <td>29</td>\n",
       "      <td>32</td>\n",
       "      <td>47</td>\n",
       "      <td>50</td>\n",
       "    </tr>\n",
       "    <tr>\n",
       "      <th>rating</th>\n",
       "      <td>3.50</td>\n",
       "      <td>3.50</td>\n",
       "      <td>3.50</td>\n",
       "      <td>3.50</td>\n",
       "      <td>3.50</td>\n",
       "    </tr>\n",
       "    <tr>\n",
       "      <th>timestamp</th>\n",
       "      <td>2005-04-02 23:53:47</td>\n",
       "      <td>2005-04-02 23:31:16</td>\n",
       "      <td>2005-04-02 23:33:39</td>\n",
       "      <td>2005-04-02 23:32:07</td>\n",
       "      <td>2005-04-02 23:29:40</td>\n",
       "    </tr>\n",
       "    <tr>\n",
       "      <th>Date</th>\n",
       "      <td>2009-04-24</td>\n",
       "      <td>2013-05-10</td>\n",
       "      <td>2013-05-10</td>\n",
       "      <td>2013-05-10</td>\n",
       "      <td>2013-05-10</td>\n",
       "    </tr>\n",
       "    <tr>\n",
       "      <th>Time</th>\n",
       "      <td>18:19:40</td>\n",
       "      <td>01:41:18</td>\n",
       "      <td>01:41:19</td>\n",
       "      <td>01:39:43</td>\n",
       "      <td>01:41:18</td>\n",
       "    </tr>\n",
       "  </tbody>\n",
       "</table>\n",
       "</div>"
      ],
      "text/plain": [
       "                             0                    1                    2  \\\n",
       "userId                       1                    1                    1   \n",
       "movieId                      2                   29                   32   \n",
       "rating                    3.50                 3.50                 3.50   \n",
       "timestamp  2005-04-02 23:53:47  2005-04-02 23:31:16  2005-04-02 23:33:39   \n",
       "Date                2009-04-24           2013-05-10           2013-05-10   \n",
       "Time                  18:19:40             01:41:18             01:41:19   \n",
       "\n",
       "                             3                    4  \n",
       "userId                       1                    1  \n",
       "movieId                     47                   50  \n",
       "rating                    3.50                 3.50  \n",
       "timestamp  2005-04-02 23:32:07  2005-04-02 23:29:40  \n",
       "Date                2013-05-10           2013-05-10  \n",
       "Time                  01:39:43             01:41:18  "
      ]
     },
     "execution_count": 95,
     "metadata": {},
     "output_type": "execute_result"
    }
   ],
   "source": [
    "rating.head().T"
   ]
  },
  {
   "cell_type": "code",
   "execution_count": 96,
   "metadata": {},
   "outputs": [
    {
     "data": {
      "text/plain": [
       "(20000263, 6)"
      ]
     },
     "execution_count": 96,
     "metadata": {},
     "output_type": "execute_result"
    }
   ],
   "source": [
    "rating.shape"
   ]
  },
  {
   "cell_type": "code",
   "execution_count": 97,
   "metadata": {},
   "outputs": [
    {
     "data": {
      "text/html": [
       "<div>\n",
       "<style scoped>\n",
       "    .dataframe tbody tr th:only-of-type {\n",
       "        vertical-align: middle;\n",
       "    }\n",
       "\n",
       "    .dataframe tbody tr th {\n",
       "        vertical-align: top;\n",
       "    }\n",
       "\n",
       "    .dataframe thead th {\n",
       "        text-align: right;\n",
       "    }\n",
       "</style>\n",
       "<table border=\"1\" class=\"dataframe\">\n",
       "  <thead>\n",
       "    <tr style=\"text-align: right;\">\n",
       "      <th></th>\n",
       "      <th>movieId</th>\n",
       "      <th>title</th>\n",
       "      <th>genre</th>\n",
       "    </tr>\n",
       "  </thead>\n",
       "  <tbody>\n",
       "    <tr>\n",
       "      <th>0</th>\n",
       "      <td>1</td>\n",
       "      <td>Toy Story (1995)</td>\n",
       "      <td>Adventure|Animation|Children|Comedy|Fantasy</td>\n",
       "    </tr>\n",
       "    <tr>\n",
       "      <th>1</th>\n",
       "      <td>2</td>\n",
       "      <td>Jumanji (1995)</td>\n",
       "      <td>Adventure|Children|Fantasy</td>\n",
       "    </tr>\n",
       "    <tr>\n",
       "      <th>2</th>\n",
       "      <td>3</td>\n",
       "      <td>Grumpier Old Men (1995)</td>\n",
       "      <td>Comedy|Romance</td>\n",
       "    </tr>\n",
       "    <tr>\n",
       "      <th>3</th>\n",
       "      <td>4</td>\n",
       "      <td>Waiting to Exhale (1995)</td>\n",
       "      <td>Comedy|Drama|Romance</td>\n",
       "    </tr>\n",
       "    <tr>\n",
       "      <th>4</th>\n",
       "      <td>5</td>\n",
       "      <td>Father of the Bride Part II (1995)</td>\n",
       "      <td>Comedy</td>\n",
       "    </tr>\n",
       "  </tbody>\n",
       "</table>\n",
       "</div>"
      ],
      "text/plain": [
       "   movieId                               title  \\\n",
       "0        1                    Toy Story (1995)   \n",
       "1        2                      Jumanji (1995)   \n",
       "2        3             Grumpier Old Men (1995)   \n",
       "3        4            Waiting to Exhale (1995)   \n",
       "4        5  Father of the Bride Part II (1995)   \n",
       "\n",
       "                                         genre  \n",
       "0  Adventure|Animation|Children|Comedy|Fantasy  \n",
       "1                   Adventure|Children|Fantasy  \n",
       "2                               Comedy|Romance  \n",
       "3                         Comedy|Drama|Romance  \n",
       "4                                       Comedy  "
      ]
     },
     "execution_count": 97,
     "metadata": {},
     "output_type": "execute_result"
    }
   ],
   "source": [
    "movie.head()"
   ]
  },
  {
   "cell_type": "code",
   "execution_count": 98,
   "metadata": {},
   "outputs": [
    {
     "data": {
      "text/plain": [
       "(27278, 3)"
      ]
     },
     "execution_count": 98,
     "metadata": {},
     "output_type": "execute_result"
    }
   ],
   "source": [
    "movie.shape"
   ]
  },
  {
   "cell_type": "code",
   "execution_count": 99,
   "metadata": {},
   "outputs": [
    {
     "data": {
      "text/html": [
       "<div>\n",
       "<style scoped>\n",
       "    .dataframe tbody tr th:only-of-type {\n",
       "        vertical-align: middle;\n",
       "    }\n",
       "\n",
       "    .dataframe tbody tr th {\n",
       "        vertical-align: top;\n",
       "    }\n",
       "\n",
       "    .dataframe thead th {\n",
       "        text-align: right;\n",
       "    }\n",
       "</style>\n",
       "<table border=\"1\" class=\"dataframe\">\n",
       "  <thead>\n",
       "    <tr style=\"text-align: right;\">\n",
       "      <th></th>\n",
       "      <th>tagId</th>\n",
       "      <th>tag</th>\n",
       "    </tr>\n",
       "  </thead>\n",
       "  <tbody>\n",
       "    <tr>\n",
       "      <th>0</th>\n",
       "      <td>1</td>\n",
       "      <td>007</td>\n",
       "    </tr>\n",
       "    <tr>\n",
       "      <th>1</th>\n",
       "      <td>2</td>\n",
       "      <td>007 (series)</td>\n",
       "    </tr>\n",
       "    <tr>\n",
       "      <th>2</th>\n",
       "      <td>3</td>\n",
       "      <td>18th century</td>\n",
       "    </tr>\n",
       "    <tr>\n",
       "      <th>3</th>\n",
       "      <td>4</td>\n",
       "      <td>1920s</td>\n",
       "    </tr>\n",
       "    <tr>\n",
       "      <th>4</th>\n",
       "      <td>5</td>\n",
       "      <td>1930s</td>\n",
       "    </tr>\n",
       "  </tbody>\n",
       "</table>\n",
       "</div>"
      ],
      "text/plain": [
       "   tagId           tag\n",
       "0      1           007\n",
       "1      2  007 (series)\n",
       "2      3  18th century\n",
       "3      4         1920s\n",
       "4      5         1930s"
      ]
     },
     "execution_count": 99,
     "metadata": {},
     "output_type": "execute_result"
    }
   ],
   "source": [
    "gen_tag.head()"
   ]
  },
  {
   "cell_type": "code",
   "execution_count": 100,
   "metadata": {},
   "outputs": [
    {
     "data": {
      "text/plain": [
       "(1128, 2)"
      ]
     },
     "execution_count": 100,
     "metadata": {},
     "output_type": "execute_result"
    }
   ],
   "source": [
    "gen_tag.shape"
   ]
  },
  {
   "cell_type": "code",
   "execution_count": 101,
   "metadata": {},
   "outputs": [
    {
     "data": {
      "text/plain": [
       "1128"
      ]
     },
     "execution_count": 101,
     "metadata": {},
     "output_type": "execute_result"
    }
   ],
   "source": [
    "gen_tag.tag.nunique()"
   ]
  },
  {
   "cell_type": "code",
   "execution_count": 106,
   "metadata": {},
   "outputs": [
    {
     "ename": "AttributeError",
     "evalue": "'NoneType' object has no attribute 'describe'",
     "output_type": "error",
     "traceback": [
      "\u001b[0;31m---------------------------------------------------------------------------\u001b[0m",
      "\u001b[0;31mAttributeError\u001b[0m                            Traceback (most recent call last)",
      "\u001b[0;32m<ipython-input-106-be3060f40d14>\u001b[0m in \u001b[0;36m<module>\u001b[0;34m\u001b[0m\n\u001b[0;32m----> 1\u001b[0;31m \u001b[0mtag\u001b[0m\u001b[0;34m.\u001b[0m\u001b[0mdescribe\u001b[0m\u001b[0;34m(\u001b[0m\u001b[0;34m)\u001b[0m\u001b[0;34m\u001b[0m\u001b[0;34m\u001b[0m\u001b[0m\n\u001b[0m",
      "\u001b[0;31mAttributeError\u001b[0m: 'NoneType' object has no attribute 'describe'"
     ]
    }
   ],
   "source": []
  },
  {
   "cell_type": "code",
   "execution_count": null,
   "metadata": {},
   "outputs": [],
   "source": []
  }
 ],
 "metadata": {
  "kernelspec": {
   "display_name": "Python 3",
   "language": "python",
   "name": "python3"
  },
  "language_info": {
   "codemirror_mode": {
    "name": "ipython",
    "version": 3
   },
   "file_extension": ".py",
   "mimetype": "text/x-python",
   "name": "python",
   "nbconvert_exporter": "python",
   "pygments_lexer": "ipython3",
   "version": "3.7.6"
  }
 },
 "nbformat": 4,
 "nbformat_minor": 4
}
