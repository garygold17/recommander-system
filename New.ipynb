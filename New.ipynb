{
 "cells": [
  {
   "cell_type": "code",
   "execution_count": 1,
   "metadata": {},
   "outputs": [],
   "source": [
    "import pandas as pd\n",
    "import seaborn as sns\n",
    "import numpy as np\n",
    "\n",
    "import matplotlib.pyplot as plt\n",
    "%matplotlib inline"
   ]
  },
  {
   "cell_type": "code",
   "execution_count": 2,
   "metadata": {},
   "outputs": [],
   "source": [
    "# movies = pd.read_csv('movies.csv')\n",
    "# ratings = pd.read_csv('ratings.csv')\n",
    "# tags = pd.read_csv('tag.csv')\n",
    "# display(tags.head())\n",
    "# display(movies.head())\n",
    "# display(ratings.head())"
   ]
  },
  {
   "cell_type": "code",
   "execution_count": 3,
   "metadata": {},
   "outputs": [],
   "source": [
    "# merged_data = pd.merge(ratings, movies, on='item', how='left')\n",
    "# merged_data.head()"
   ]
  },
  {
   "cell_type": "code",
   "execution_count": 4,
   "metadata": {},
   "outputs": [],
   "source": [
    "def get_data():\n",
    "    \n",
    "    movies = pd.read_csv('movies.csv')\n",
    "    ratings = pd.read_csv('ratings.csv')\n",
    "    \n",
    "    data = pd.merge(ratings, movies, on='item', how='left')\n",
    "    \n",
    "    data = data.drop(['timestamp'], axis=1)\n",
    "    data = data.drop(['plot'],axis=1)\n",
    "    \n",
    "    return data"
   ]
  },
  {
   "cell_type": "code",
   "execution_count": 5,
   "metadata": {},
   "outputs": [
    {
     "data": {
      "text/html": [
       "<div>\n",
       "<style scoped>\n",
       "    .dataframe tbody tr th:only-of-type {\n",
       "        vertical-align: middle;\n",
       "    }\n",
       "\n",
       "    .dataframe tbody tr th {\n",
       "        vertical-align: top;\n",
       "    }\n",
       "\n",
       "    .dataframe thead th {\n",
       "        text-align: right;\n",
       "    }\n",
       "</style>\n",
       "<table border=\"1\" class=\"dataframe\">\n",
       "  <thead>\n",
       "    <tr style=\"text-align: right;\">\n",
       "      <th></th>\n",
       "      <th>user</th>\n",
       "      <th>item</th>\n",
       "      <th>rating</th>\n",
       "      <th>title</th>\n",
       "      <th>year</th>\n",
       "      <th>genres</th>\n",
       "    </tr>\n",
       "  </thead>\n",
       "  <tbody>\n",
       "    <tr>\n",
       "      <th>0</th>\n",
       "      <td>1</td>\n",
       "      <td>1</td>\n",
       "      <td>4.0</td>\n",
       "      <td>toy story</td>\n",
       "      <td>1995</td>\n",
       "      <td>Adventure|Animation|Children|Comedy|Fantasy</td>\n",
       "    </tr>\n",
       "    <tr>\n",
       "      <th>1</th>\n",
       "      <td>1</td>\n",
       "      <td>3</td>\n",
       "      <td>4.0</td>\n",
       "      <td>grumpier old men</td>\n",
       "      <td>1995</td>\n",
       "      <td>Comedy|Romance</td>\n",
       "    </tr>\n",
       "    <tr>\n",
       "      <th>2</th>\n",
       "      <td>1</td>\n",
       "      <td>6</td>\n",
       "      <td>4.0</td>\n",
       "      <td>heat</td>\n",
       "      <td>1995</td>\n",
       "      <td>Action|Crime|Thriller</td>\n",
       "    </tr>\n",
       "    <tr>\n",
       "      <th>3</th>\n",
       "      <td>1</td>\n",
       "      <td>70</td>\n",
       "      <td>3.0</td>\n",
       "      <td>from dusk till dawn</td>\n",
       "      <td>1996</td>\n",
       "      <td>Action|Comedy|Horror|Thriller</td>\n",
       "    </tr>\n",
       "    <tr>\n",
       "      <th>4</th>\n",
       "      <td>1</td>\n",
       "      <td>101</td>\n",
       "      <td>5.0</td>\n",
       "      <td>bottle rocket</td>\n",
       "      <td>1996</td>\n",
       "      <td>Adventure|Comedy|Crime|Romance</td>\n",
       "    </tr>\n",
       "  </tbody>\n",
       "</table>\n",
       "</div>"
      ],
      "text/plain": [
       "   user  item  rating                title  year  \\\n",
       "0     1     1     4.0            toy story  1995   \n",
       "1     1     3     4.0     grumpier old men  1995   \n",
       "2     1     6     4.0                 heat  1995   \n",
       "3     1    70     3.0  from dusk till dawn  1996   \n",
       "4     1   101     5.0        bottle rocket  1996   \n",
       "\n",
       "                                        genres  \n",
       "0  Adventure|Animation|Children|Comedy|Fantasy  \n",
       "1                               Comedy|Romance  \n",
       "2                        Action|Crime|Thriller  \n",
       "3                Action|Comedy|Horror|Thriller  \n",
       "4               Adventure|Comedy|Crime|Romance  "
      ]
     },
     "execution_count": 5,
     "metadata": {},
     "output_type": "execute_result"
    }
   ],
   "source": [
    "data = get_data()\n",
    "data.head()"
   ]
  },
  {
   "cell_type": "code",
   "execution_count": 6,
   "metadata": {},
   "outputs": [],
   "source": [
    "def get_sparsity(data):\n",
    "    return 1 - (len(data['rating']) / (len(data['user'].unique())*len(data['item'].unique())))"
   ]
  },
  {
   "cell_type": "code",
   "execution_count": 7,
   "metadata": {},
   "outputs": [
    {
     "data": {
      "text/plain": [
       "0.9771597696056712"
      ]
     },
     "execution_count": 7,
     "metadata": {},
     "output_type": "execute_result"
    }
   ],
   "source": [
    "sparsity = get_sparsity(data)\n",
    "sparsity"
   ]
  },
  {
   "cell_type": "code",
   "execution_count": 8,
   "metadata": {},
   "outputs": [],
   "source": [
    "# len_ratings = len(data['rating'])\n",
    "# len_users = len(data['user'].unique())\n",
    "# len_items = len(data['item'].unique())\n",
    "\n",
    "# sparsity = 1 - (len_ratings / (len_users*len_items))\n",
    "# sparsity"
   ]
  },
  {
   "cell_type": "code",
   "execution_count": 9,
   "metadata": {},
   "outputs": [
    {
     "name": "stdout",
     "output_type": "stream",
     "text": [
      "number of low rated users\n"
     ]
    },
    {
     "data": {
      "text/plain": [
       "313"
      ]
     },
     "metadata": {},
     "output_type": "display_data"
    },
    {
     "name": "stdout",
     "output_type": "stream",
     "text": [
      "total users\n"
     ]
    },
    {
     "data": {
      "text/plain": [
       "610"
      ]
     },
     "metadata": {},
     "output_type": "display_data"
    },
    {
     "name": "stdout",
     "output_type": "stream",
     "text": [
      "high rating users\n"
     ]
    },
    {
     "data": {
      "text/plain": [
       "296"
      ]
     },
     "metadata": {},
     "output_type": "display_data"
    },
    {
     "name": "stdout",
     "output_type": "stream",
     "text": [
      "ratio:\n"
     ]
    },
    {
     "data": {
      "text/plain": [
       "0.5131147540983606"
      ]
     },
     "metadata": {},
     "output_type": "display_data"
    }
   ],
   "source": [
    "data_bin = data.groupby('user').filter(lambda x: len(x)<50)\n",
    "print('number of low rated users')\n",
    "display(data_bin['user'].nunique())\n",
    "print('total users')\n",
    "display(data['user'].nunique())\n",
    "print('high rating users')\n",
    "display((data.groupby('user').filter(lambda x: len(x)>50))['user'].nunique())\n",
    "print('ratio:')\n",
    "display(data_bin['user'].nunique()/data['user'].nunique())"
   ]
  },
  {
   "cell_type": "code",
   "execution_count": 10,
   "metadata": {},
   "outputs": [
    {
     "name": "stdout",
     "output_type": "stream",
     "text": [
      "number of low rated movies\n"
     ]
    },
    {
     "data": {
      "text/plain": [
       "3124"
      ]
     },
     "metadata": {},
     "output_type": "display_data"
    },
    {
     "name": "stdout",
     "output_type": "stream",
     "text": [
      "total number of movies\n"
     ]
    },
    {
     "data": {
      "text/plain": [
       "4625"
      ]
     },
     "metadata": {},
     "output_type": "display_data"
    },
    {
     "name": "stdout",
     "output_type": "stream",
     "text": [
      "number of highly rated movies\n"
     ]
    },
    {
     "data": {
      "text/plain": [
       "1421"
      ]
     },
     "metadata": {},
     "output_type": "display_data"
    },
    {
     "name": "stdout",
     "output_type": "stream",
     "text": [
      "ratio:\n"
     ]
    },
    {
     "data": {
      "text/plain": [
       "0.6754594594594595"
      ]
     },
     "metadata": {},
     "output_type": "display_data"
    }
   ],
   "source": [
    "data_bin2 = data.groupby('item').filter(lambda x: len(x)<10)\n",
    "print('number of low rated movies')\n",
    "display(data_bin2['item'].nunique())\n",
    "print('total number of movies')\n",
    "display(data['item'].nunique())\n",
    "print('number of highly rated movies')\n",
    "display((data.groupby('item').filter(lambda x: len(x)>10))['item'].nunique())\n",
    "print('ratio:')\n",
    "display(data_bin2['item'].nunique()/data['item'].nunique())"
   ]
  },
  {
   "cell_type": "code",
   "execution_count": 11,
   "metadata": {},
   "outputs": [],
   "source": [
    "def filter_data(data):\n",
    "    data = data.groupby('user').filter(lambda x: len(x)>50)\n",
    "    data = data.groupby('item').filter(lambda x: len(x)>10)\n",
    "    return data"
   ]
  },
  {
   "cell_type": "code",
   "execution_count": 12,
   "metadata": {},
   "outputs": [],
   "source": [
    "# data = data.groupby('user').filter(lambda x: len(x)>50)\n",
    "# data = data.groupby('item').filter(lambda x: len(x)>10)"
   ]
  },
  {
   "cell_type": "code",
   "execution_count": 13,
   "metadata": {},
   "outputs": [],
   "source": [
    "# len_ratings = len(data['rating'])\n",
    "# len_unique_users = len(data['user'].unique())\n",
    "# len_unique_items = len(data['item'].unique())\n",
    "\n",
    "# sparsity = 1 - (len_ratings / (len_unique_users*len_unique_items))\n",
    "# sparsity"
   ]
  },
  {
   "cell_type": "code",
   "execution_count": 14,
   "metadata": {},
   "outputs": [
    {
     "data": {
      "text/plain": [
       "0.8863128268593556"
      ]
     },
     "metadata": {},
     "output_type": "display_data"
    }
   ],
   "source": [
    "data = filter_data(data)\n",
    "display(get_sparsity(data))"
   ]
  },
  {
   "cell_type": "code",
   "execution_count": 15,
   "metadata": {},
   "outputs": [
    {
     "data": {
      "text/plain": [
       "user      0\n",
       "item      0\n",
       "rating    0\n",
       "title     0\n",
       "year      0\n",
       "genres    0\n",
       "dtype: int64"
      ]
     },
     "execution_count": 15,
     "metadata": {},
     "output_type": "execute_result"
    }
   ],
   "source": [
    "data.isna().sum()"
   ]
  },
  {
   "cell_type": "code",
   "execution_count": 16,
   "metadata": {},
   "outputs": [
    {
     "data": {
      "text/plain": [
       "forrest gump                220\n",
       "pulp fiction                199\n",
       "jurassic park               166\n",
       "fight club                  157\n",
       "toy story                   154\n",
       "                           ... \n",
       "what dreams may come         11\n",
       "marie antoinette             11\n",
       "kick-ass 2                   11\n",
       "the amazing spider-man 2     11\n",
       "sex and the city             11\n",
       "Name: title, Length: 1354, dtype: int64"
      ]
     },
     "execution_count": 16,
     "metadata": {},
     "output_type": "execute_result"
    }
   ],
   "source": [
    "data['title'].value_counts()"
   ]
  },
  {
   "cell_type": "code",
   "execution_count": 17,
   "metadata": {},
   "outputs": [
    {
     "data": {
      "text/plain": [
       "414    1040\n",
       "599     879\n",
       "68      743\n",
       "448     694\n",
       "474     669\n",
       "       ... \n",
       "503      41\n",
       "342      40\n",
       "108      38\n",
       "184      34\n",
       "571      28\n",
       "Name: user, Length: 296, dtype: int64"
      ]
     },
     "execution_count": 17,
     "metadata": {},
     "output_type": "execute_result"
    }
   ],
   "source": [
    "data['user'].value_counts()"
   ]
  },
  {
   "cell_type": "code",
   "execution_count": 18,
   "metadata": {},
   "outputs": [
    {
     "data": {
      "text/plain": [
       "4.0    12416\n",
       "3.0     9175\n",
       "3.5     6255\n",
       "5.0     5598\n",
       "4.5     3885\n",
       "2.0     3259\n",
       "2.5     2558\n",
       "1.0     1181\n",
       "1.5      716\n",
       "0.5      521\n",
       "Name: rating, dtype: int64"
      ]
     },
     "execution_count": 18,
     "metadata": {},
     "output_type": "execute_result"
    }
   ],
   "source": [
    "data['rating'].value_counts()"
   ]
  },
  {
   "cell_type": "code",
   "execution_count": 19,
   "metadata": {},
   "outputs": [],
   "source": [
    "# data.groupby(['user']).count().sort_values(by='rating')"
   ]
  },
  {
   "cell_type": "code",
   "execution_count": 20,
   "metadata": {},
   "outputs": [
    {
     "data": {
      "text/plain": [
       "title\n",
       "paths of glory                      4.545455\n",
       "guess who's coming to dinner        4.545455\n",
       "patton                              4.444444\n",
       "ran                                 4.433333\n",
       "his girl friday                     4.392857\n",
       "                                      ...   \n",
       "beethoven                           1.772727\n",
       "superman iv: the quest for peace    1.687500\n",
       "battlefield earth                   1.676471\n",
       "speed 2: cruise control             1.638889\n",
       "problem child                       1.583333\n",
       "Name: rating, Length: 1354, dtype: float64"
      ]
     },
     "execution_count": 20,
     "metadata": {},
     "output_type": "execute_result"
    }
   ],
   "source": [
    "data.groupby('title').mean()['rating'].sort_values(ascending=False)"
   ]
  },
  {
   "cell_type": "code",
   "execution_count": 21,
   "metadata": {},
   "outputs": [],
   "source": [
    "# plt.figure(figsize=(10,5))\n",
    "# topmovies = data.groupby('title').mean()['rating'].sort_values(ascending=False).head(10)\n",
    "# sns.barplot(topmovies.index, topmovies.values)\n",
    "# plt.title('Top 10 Highest Rated Movies')\n",
    "# plt.xticks(rotation=80);"
   ]
  },
  {
   "cell_type": "code",
   "execution_count": 22,
   "metadata": {},
   "outputs": [
    {
     "data": {
      "image/png": "[encoded data removed]",
      "text/plain": [
       "<Figure size 432x288 with 1 Axes>"
      ]
     },
     "metadata": {
      "needs_background": "light"
     },
     "output_type": "display_data"
    }
   ],
   "source": [
    "plt.hist(data['rating'],bins=30)\n",
    "plt.xlabel('Value of rating')\n",
    "plt.ylabel('Frequency of ratings')\n",
    "plt.show()"
   ]
  },
  {
   "cell_type": "code",
   "execution_count": 23,
   "metadata": {},
   "outputs": [],
   "source": [
    "# plt.figure(figsize=(12,7))\n",
    "# topmovies = data.groupby('title').size().sort_values(ascending=False).head(10)\n",
    "# sns.barplot(topmovies.index, topmovies.values)\n",
    "# plt.title('Top 10 most-watched movies')\n",
    "# plt.xticks(rotation=80);"
   ]
  },
  {
   "cell_type": "code",
   "execution_count": 24,
   "metadata": {},
   "outputs": [],
   "source": [
    "def get_genre_labels(data):\n",
    "    genrelabels = set()\n",
    "    for i in data['genres'].str.split('|').values:\n",
    "        genrelabels = genrelabels.union(set(i))\n",
    "    \n",
    "    return genrelabels"
   ]
  },
  {
   "cell_type": "code",
   "execution_count": 25,
   "metadata": {},
   "outputs": [
    {
     "data": {
      "text/plain": [
       "{'Action',\n",
       " 'Adventure',\n",
       " 'Animation',\n",
       " 'Children',\n",
       " 'Comedy',\n",
       " 'Crime',\n",
       " 'Documentary',\n",
       " 'Drama',\n",
       " 'Fantasy',\n",
       " 'Film-Noir',\n",
       " 'Horror',\n",
       " 'IMAX',\n",
       " 'Musical',\n",
       " 'Mystery',\n",
       " 'Romance',\n",
       " 'Sci-Fi',\n",
       " 'Thriller',\n",
       " 'War',\n",
       " 'Western'}"
      ]
     },
     "execution_count": 25,
     "metadata": {},
     "output_type": "execute_result"
    }
   ],
   "source": [
    "# genrelabels = set()\n",
    "# for i in data['genres'].str.split('|').values:\n",
    "#     genrelabels = genrelabels.union(set(i))\n",
    "\n",
    "genrelabels = get_genre_labels(data)\n",
    "genrelabels"
   ]
  },
  {
   "cell_type": "code",
   "execution_count": 26,
   "metadata": {},
   "outputs": [],
   "source": [
    "def genrecounts(df, col, labels):\n",
    "    count = dict()\n",
    "    for i in labels: count[i] = 0\n",
    "    for value in df[col].str.split('|'):\n",
    "        if type(value) == float and pd.isnull(value): continue\n",
    "        for i in value: \n",
    "            if pd.notnull(i): count[i] += 1\n",
    "    genres = pd.DataFrame(list(count.items()),columns = ['Genre','Frequency'])\n",
    "    return genres"
   ]
  },
  {
   "cell_type": "code",
   "execution_count": 27,
   "metadata": {},
   "outputs": [
    {
     "data": {
      "text/html": [
       "<div>\n",
       "<style scoped>\n",
       "    .dataframe tbody tr th:only-of-type {\n",
       "        vertical-align: middle;\n",
       "    }\n",
       "\n",
       "    .dataframe tbody tr th {\n",
       "        vertical-align: top;\n",
       "    }\n",
       "\n",
       "    .dataframe thead th {\n",
       "        text-align: right;\n",
       "    }\n",
       "</style>\n",
       "<table border=\"1\" class=\"dataframe\">\n",
       "  <thead>\n",
       "    <tr style=\"text-align: right;\">\n",
       "      <th></th>\n",
       "      <th>Genre</th>\n",
       "      <th>Frequency</th>\n",
       "    </tr>\n",
       "  </thead>\n",
       "  <tbody>\n",
       "    <tr>\n",
       "      <th>0</th>\n",
       "      <td>Comedy</td>\n",
       "      <td>19566</td>\n",
       "    </tr>\n",
       "    <tr>\n",
       "      <th>11</th>\n",
       "      <td>Drama</td>\n",
       "      <td>18142</td>\n",
       "    </tr>\n",
       "    <tr>\n",
       "      <th>13</th>\n",
       "      <td>Action</td>\n",
       "      <td>14725</td>\n",
       "    </tr>\n",
       "    <tr>\n",
       "      <th>16</th>\n",
       "      <td>Thriller</td>\n",
       "      <td>12077</td>\n",
       "    </tr>\n",
       "    <tr>\n",
       "      <th>18</th>\n",
       "      <td>Adventure</td>\n",
       "      <td>12017</td>\n",
       "    </tr>\n",
       "    <tr>\n",
       "      <th>6</th>\n",
       "      <td>Romance</td>\n",
       "      <td>9308</td>\n",
       "    </tr>\n",
       "    <tr>\n",
       "      <th>3</th>\n",
       "      <td>Sci-Fi</td>\n",
       "      <td>8824</td>\n",
       "    </tr>\n",
       "    <tr>\n",
       "      <th>4</th>\n",
       "      <td>Crime</td>\n",
       "      <td>7796</td>\n",
       "    </tr>\n",
       "    <tr>\n",
       "      <th>7</th>\n",
       "      <td>Fantasy</td>\n",
       "      <td>5706</td>\n",
       "    </tr>\n",
       "    <tr>\n",
       "      <th>1</th>\n",
       "      <td>Children</td>\n",
       "      <td>4338</td>\n",
       "    </tr>\n",
       "    <tr>\n",
       "      <th>10</th>\n",
       "      <td>Mystery</td>\n",
       "      <td>3482</td>\n",
       "    </tr>\n",
       "    <tr>\n",
       "      <th>2</th>\n",
       "      <td>Animation</td>\n",
       "      <td>3010</td>\n",
       "    </tr>\n",
       "    <tr>\n",
       "      <th>12</th>\n",
       "      <td>Horror</td>\n",
       "      <td>2591</td>\n",
       "    </tr>\n",
       "    <tr>\n",
       "      <th>14</th>\n",
       "      <td>War</td>\n",
       "      <td>2496</td>\n",
       "    </tr>\n",
       "    <tr>\n",
       "      <th>15</th>\n",
       "      <td>IMAX</td>\n",
       "      <td>2356</td>\n",
       "    </tr>\n",
       "    <tr>\n",
       "      <th>17</th>\n",
       "      <td>Musical</td>\n",
       "      <td>1766</td>\n",
       "    </tr>\n",
       "    <tr>\n",
       "      <th>5</th>\n",
       "      <td>Western</td>\n",
       "      <td>937</td>\n",
       "    </tr>\n",
       "    <tr>\n",
       "      <th>8</th>\n",
       "      <td>Film-Noir</td>\n",
       "      <td>490</td>\n",
       "    </tr>\n",
       "    <tr>\n",
       "      <th>9</th>\n",
       "      <td>Documentary</td>\n",
       "      <td>15</td>\n",
       "    </tr>\n",
       "  </tbody>\n",
       "</table>\n",
       "</div>"
      ],
      "text/plain": [
       "          Genre  Frequency\n",
       "0        Comedy      19566\n",
       "11        Drama      18142\n",
       "13       Action      14725\n",
       "16     Thriller      12077\n",
       "18    Adventure      12017\n",
       "6       Romance       9308\n",
       "3        Sci-Fi       8824\n",
       "4         Crime       7796\n",
       "7       Fantasy       5706\n",
       "1      Children       4338\n",
       "10      Mystery       3482\n",
       "2     Animation       3010\n",
       "12       Horror       2591\n",
       "14          War       2496\n",
       "15         IMAX       2356\n",
       "17      Musical       1766\n",
       "5       Western        937\n",
       "8     Film-Noir        490\n",
       "9   Documentary         15"
      ]
     },
     "execution_count": 27,
     "metadata": {},
     "output_type": "execute_result"
    }
   ],
   "source": [
    "genre_count = genrecounts(data, 'genres', genrelabels)\n",
    "genres = genre_count.sort_values(by='Frequency', ascending=False)\n",
    "genres"
   ]
  },
  {
   "cell_type": "code",
   "execution_count": 28,
   "metadata": {},
   "outputs": [
    {
     "data": {
      "image/png": "[encoded data removed]",
      "text/plain": [
       "<Figure size 864x504 with 1 Axes>"
      ]
     },
     "metadata": {
      "needs_background": "light"
     },
     "output_type": "display_data"
    }
   ],
   "source": [
    "plt.figure(figsize=(12,7))\n",
    "sns.barplot(genres['Genre'], genres['Frequency'])\n",
    "plt.title('Most Popular Genres')\n",
    "plt.xticks(rotation=80);"
   ]
  },
  {
   "cell_type": "code",
   "execution_count": 29,
   "metadata": {},
   "outputs": [],
   "source": [
    "# for genre in genrelabels:\n",
    "#     data[genre] = data['genres'].apply(lambda x: genre in x)\n",
    "    \n",
    "# pd.set_option('max_columns', None)\n",
    "# data.head(2)"
   ]
  },
  {
   "cell_type": "markdown",
   "metadata": {},
   "source": [
    "## Model"
   ]
  },
  {
   "cell_type": "code",
   "execution_count": 30,
   "metadata": {},
   "outputs": [],
   "source": [
    "data_2 = data[['user','title','rating']]"
   ]
  },
  {
   "cell_type": "code",
   "execution_count": 31,
   "metadata": {},
   "outputs": [
    {
     "data": {
      "text/html": [
       "<div>\n",
       "<style scoped>\n",
       "    .dataframe tbody tr th:only-of-type {\n",
       "        vertical-align: middle;\n",
       "    }\n",
       "\n",
       "    .dataframe tbody tr th {\n",
       "        vertical-align: top;\n",
       "    }\n",
       "\n",
       "    .dataframe thead th {\n",
       "        text-align: right;\n",
       "    }\n",
       "</style>\n",
       "<table border=\"1\" class=\"dataframe\">\n",
       "  <thead>\n",
       "    <tr style=\"text-align: right;\">\n",
       "      <th>title</th>\n",
       "      <th>(500) days of summer</th>\n",
       "      <th>10 cloverfield lane</th>\n",
       "      <th>10 things i hate about you</th>\n",
       "      <th>10,000 bc</th>\n",
       "      <th>101 dalmatians</th>\n",
       "      <th>12 angry men</th>\n",
       "      <th>12 years a slave</th>\n",
       "      <th>127 hours</th>\n",
       "      <th>13 going on 30</th>\n",
       "      <th>1408</th>\n",
       "      <th>...</th>\n",
       "      <th>young guns</th>\n",
       "      <th>young guns ii</th>\n",
       "      <th>young sherlock holmes</th>\n",
       "      <th>zack and miri make a porno</th>\n",
       "      <th>zero dark thirty</th>\n",
       "      <th>zero effect</th>\n",
       "      <th>zodiac</th>\n",
       "      <th>zombieland</th>\n",
       "      <th>zoolander</th>\n",
       "      <th>zootopia</th>\n",
       "    </tr>\n",
       "    <tr>\n",
       "      <th>user</th>\n",
       "      <th></th>\n",
       "      <th></th>\n",
       "      <th></th>\n",
       "      <th></th>\n",
       "      <th></th>\n",
       "      <th></th>\n",
       "      <th></th>\n",
       "      <th></th>\n",
       "      <th></th>\n",
       "      <th></th>\n",
       "      <th></th>\n",
       "      <th></th>\n",
       "      <th></th>\n",
       "      <th></th>\n",
       "      <th></th>\n",
       "      <th></th>\n",
       "      <th></th>\n",
       "      <th></th>\n",
       "      <th></th>\n",
       "      <th></th>\n",
       "      <th></th>\n",
       "    </tr>\n",
       "  </thead>\n",
       "  <tbody>\n",
       "    <tr>\n",
       "      <th>1</th>\n",
       "      <td>0.0</td>\n",
       "      <td>0.0</td>\n",
       "      <td>0.0</td>\n",
       "      <td>0.0</td>\n",
       "      <td>0.0</td>\n",
       "      <td>0.0</td>\n",
       "      <td>0.0</td>\n",
       "      <td>0.0</td>\n",
       "      <td>0.0</td>\n",
       "      <td>0.0</td>\n",
       "      <td>...</td>\n",
       "      <td>0.0</td>\n",
       "      <td>0.0</td>\n",
       "      <td>3.0</td>\n",
       "      <td>0.0</td>\n",
       "      <td>0.0</td>\n",
       "      <td>0.0</td>\n",
       "      <td>0.0</td>\n",
       "      <td>0.0</td>\n",
       "      <td>0.0</td>\n",
       "      <td>0.0</td>\n",
       "    </tr>\n",
       "    <tr>\n",
       "      <th>4</th>\n",
       "      <td>0.0</td>\n",
       "      <td>0.0</td>\n",
       "      <td>0.0</td>\n",
       "      <td>0.0</td>\n",
       "      <td>0.0</td>\n",
       "      <td>5.0</td>\n",
       "      <td>0.0</td>\n",
       "      <td>0.0</td>\n",
       "      <td>0.0</td>\n",
       "      <td>0.0</td>\n",
       "      <td>...</td>\n",
       "      <td>0.0</td>\n",
       "      <td>0.0</td>\n",
       "      <td>0.0</td>\n",
       "      <td>0.0</td>\n",
       "      <td>0.0</td>\n",
       "      <td>0.0</td>\n",
       "      <td>0.0</td>\n",
       "      <td>0.0</td>\n",
       "      <td>0.0</td>\n",
       "      <td>0.0</td>\n",
       "    </tr>\n",
       "    <tr>\n",
       "      <th>6</th>\n",
       "      <td>0.0</td>\n",
       "      <td>0.0</td>\n",
       "      <td>0.0</td>\n",
       "      <td>0.0</td>\n",
       "      <td>0.0</td>\n",
       "      <td>0.0</td>\n",
       "      <td>0.0</td>\n",
       "      <td>0.0</td>\n",
       "      <td>0.0</td>\n",
       "      <td>0.0</td>\n",
       "      <td>...</td>\n",
       "      <td>0.0</td>\n",
       "      <td>0.0</td>\n",
       "      <td>0.0</td>\n",
       "      <td>0.0</td>\n",
       "      <td>0.0</td>\n",
       "      <td>0.0</td>\n",
       "      <td>0.0</td>\n",
       "      <td>0.0</td>\n",
       "      <td>0.0</td>\n",
       "      <td>0.0</td>\n",
       "    </tr>\n",
       "    <tr>\n",
       "      <th>7</th>\n",
       "      <td>0.0</td>\n",
       "      <td>0.0</td>\n",
       "      <td>0.0</td>\n",
       "      <td>0.0</td>\n",
       "      <td>0.0</td>\n",
       "      <td>0.0</td>\n",
       "      <td>0.0</td>\n",
       "      <td>0.0</td>\n",
       "      <td>0.0</td>\n",
       "      <td>0.0</td>\n",
       "      <td>...</td>\n",
       "      <td>0.0</td>\n",
       "      <td>0.0</td>\n",
       "      <td>0.0</td>\n",
       "      <td>0.0</td>\n",
       "      <td>0.0</td>\n",
       "      <td>0.0</td>\n",
       "      <td>0.0</td>\n",
       "      <td>0.0</td>\n",
       "      <td>0.0</td>\n",
       "      <td>0.0</td>\n",
       "    </tr>\n",
       "    <tr>\n",
       "      <th>10</th>\n",
       "      <td>0.0</td>\n",
       "      <td>0.0</td>\n",
       "      <td>0.0</td>\n",
       "      <td>0.0</td>\n",
       "      <td>0.0</td>\n",
       "      <td>0.0</td>\n",
       "      <td>0.0</td>\n",
       "      <td>0.0</td>\n",
       "      <td>0.0</td>\n",
       "      <td>0.0</td>\n",
       "      <td>...</td>\n",
       "      <td>0.0</td>\n",
       "      <td>0.0</td>\n",
       "      <td>0.0</td>\n",
       "      <td>0.0</td>\n",
       "      <td>0.0</td>\n",
       "      <td>0.0</td>\n",
       "      <td>0.0</td>\n",
       "      <td>0.0</td>\n",
       "      <td>0.0</td>\n",
       "      <td>0.0</td>\n",
       "    </tr>\n",
       "  </tbody>\n",
       "</table>\n",
       "<p>5 rows × 1354 columns</p>\n",
       "</div>"
      ],
      "text/plain": [
       "title  (500) days of summer  10 cloverfield lane  10 things i hate about you  \\\n",
       "user                                                                           \n",
       "1                       0.0                  0.0                         0.0   \n",
       "4                       0.0                  0.0                         0.0   \n",
       "6                       0.0                  0.0                         0.0   \n",
       "7                       0.0                  0.0                         0.0   \n",
       "10                      0.0                  0.0                         0.0   \n",
       "\n",
       "title  10,000 bc  101 dalmatians  12 angry men  12 years a slave  127 hours  \\\n",
       "user                                                                          \n",
       "1            0.0             0.0           0.0               0.0        0.0   \n",
       "4            0.0             0.0           5.0               0.0        0.0   \n",
       "6            0.0             0.0           0.0               0.0        0.0   \n",
       "7            0.0             0.0           0.0               0.0        0.0   \n",
       "10           0.0             0.0           0.0               0.0        0.0   \n",
       "\n",
       "title  13 going on 30  1408  ...  young guns  young guns ii  \\\n",
       "user                         ...                              \n",
       "1                 0.0   0.0  ...         0.0            0.0   \n",
       "4                 0.0   0.0  ...         0.0            0.0   \n",
       "6                 0.0   0.0  ...         0.0            0.0   \n",
       "7                 0.0   0.0  ...         0.0            0.0   \n",
       "10                0.0   0.0  ...         0.0            0.0   \n",
       "\n",
       "title  young sherlock holmes  zack and miri make a porno  zero dark thirty  \\\n",
       "user                                                                         \n",
       "1                        3.0                         0.0               0.0   \n",
       "4                        0.0                         0.0               0.0   \n",
       "6                        0.0                         0.0               0.0   \n",
       "7                        0.0                         0.0               0.0   \n",
       "10                       0.0                         0.0               0.0   \n",
       "\n",
       "title  zero effect  zodiac  zombieland  zoolander  zootopia  \n",
       "user                                                         \n",
       "1              0.0     0.0         0.0        0.0       0.0  \n",
       "4              0.0     0.0         0.0        0.0       0.0  \n",
       "6              0.0     0.0         0.0        0.0       0.0  \n",
       "7              0.0     0.0         0.0        0.0       0.0  \n",
       "10             0.0     0.0         0.0        0.0       0.0  \n",
       "\n",
       "[5 rows x 1354 columns]"
      ]
     },
     "execution_count": 31,
     "metadata": {},
     "output_type": "execute_result"
    }
   ],
   "source": [
    "user_rating = data_2.pivot(index='user',columns='title',values='rating').fillna(0)\n",
    "user_rating.head()"
   ]
  },
  {
   "cell_type": "code",
   "execution_count": 32,
   "metadata": {},
   "outputs": [
    {
     "data": {
      "text/plain": [
       "matrix([[0. , 0. , 0. , ..., 0. , 0. , 0. ],\n",
       "        [0. , 0. , 0. , ..., 0. , 0. , 0. ],\n",
       "        [0. , 0. , 0. , ..., 0. , 0. , 0. ],\n",
       "        ...,\n",
       "        [0. , 0. , 0. , ..., 0. , 0. , 0. ],\n",
       "        [0. , 0. , 0. , ..., 0. , 3. , 0. ],\n",
       "        [3.5, 4. , 0. , ..., 3.5, 4. , 4. ]])"
      ]
     },
     "execution_count": 32,
     "metadata": {},
     "output_type": "execute_result"
    }
   ],
   "source": [
    "import matplotlib.pyplot as plt\n",
    "from scipy.sparse import csr_matrix\n",
    "from sklearn.neighbors import NearestNeighbors\n",
    "\n",
    "user_rating_vectors = csr_matrix(user_rating.values)\n",
    "user_rating_vectors.todense()"
   ]
  },
  {
   "cell_type": "code",
   "execution_count": 33,
   "metadata": {},
   "outputs": [
    {
     "data": {
      "text/plain": [
       "NearestNeighbors(algorithm='brute', leaf_size=30, metric='cosine',\n",
       "                 metric_params=None, n_jobs=None, n_neighbors=5, p=2,\n",
       "                 radius=1.0)"
      ]
     },
     "execution_count": 33,
     "metadata": {},
     "output_type": "execute_result"
    }
   ],
   "source": [
    "knn = NearestNeighbors(metric='cosine', algorithm='brute')\n",
    "knn.fit(user_rating_vectors)"
   ]
  },
  {
   "cell_type": "code",
   "execution_count": 34,
   "metadata": {},
   "outputs": [],
   "source": [
    "def get_similar_users(user, n = 5):\n",
    "\n",
    "#     knn_input = np.asarray([user_rating.values[user-1]])\n",
    "    knn_input = np.asarray(user_rating.loc[user_rating.index==user])\n",
    "    distances, indices = knn.kneighbors(knn_input, n_neighbors=n+1)\n",
    "  \n",
    "    print(n,\"similar users to the user \",user, \"are: \")\n",
    "    print(\" \")\n",
    "    for i in range(1,len(distances[0])):\n",
    "        print(i,\". User:\", indices[0][i]+1, \"with distance measure of: \",distances[0][i])\n",
    "    return indices.flatten()[1:] + 1, distances.flatten()[1:]"
   ]
  },
  {
   "cell_type": "code",
   "execution_count": 35,
   "metadata": {},
   "outputs": [],
   "source": [
    "def get_random_user():\n",
    "    total_users = data_2.groupby(['user']).count()\n",
    "    total_users = total_users.index\n",
    "    selected_user = np.random.choice(total_users)\n",
    "    \n",
    "    return selected_user"
   ]
  },
  {
   "cell_type": "code",
   "execution_count": 56,
   "metadata": {},
   "outputs": [],
   "source": [
    "def get_mean_distance(user, n):\n",
    "    \n",
    "    knn_input = np.asarray(user_rating.loc[user_rating.index==user])\n",
    "    distances, indices = knn.kneighbors(knn_input, n_neighbors=n+1)\n",
    "    mean_distance = np.mean(distances)\n",
    "    \n",
    "    return mean_distance"
   ]
  },
  {
   "cell_type": "code",
   "execution_count": 36,
   "metadata": {},
   "outputs": [],
   "source": [
    "# knn_input = np.asarray(user_rating.loc[user_rating.index==4])\n",
    "# inp = np.asarray([user_rating.values[1]])\n",
    "# display(knn_input)\n",
    "# display(inp)\n",
    "# print(np.array_equal(knn_input,inp))"
   ]
  },
  {
   "cell_type": "code",
   "execution_count": 37,
   "metadata": {},
   "outputs": [
    {
     "name": "stdout",
     "output_type": "stream",
     "text": [
      "random user: 7\n",
      "movies seen by 7:\n",
      "['toy story',\n",
      " 'apollo 13',\n",
      " 'forrest gump',\n",
      " 'true lies',\n",
      " 'hot shots! part deux',\n",
      " 'jurassic park',\n",
      " 'ghost',\n",
      " 'aladdin',\n",
      " 'terminator 2: judgment day',\n",
      " 'batman']\n",
      "5 similar users to the user  7 are: \n",
      " \n",
      "1 . User: 215 with distance measure of:  0.6139182240880293\n",
      "2 . User: 115 with distance measure of:  0.6276751579407093\n",
      "3 . User: 295 with distance measure of:  0.6409701727518191\n",
      "4 . User: 105 with distance measure of:  0.647189694657055\n",
      "5 . User: 112 with distance measure of:  0.65745531015694\n"
     ]
    }
   ],
   "source": [
    "from pprint import pprint\n",
    "user_id = get_random_user()\n",
    "print(\"random user: \" + str(user_id))\n",
    "print(\"movies seen by \"+str(user_id) + \":\")\n",
    "pprint(list(data_2[data_2['user'] == user_id]['title'])[:10])\n",
    "similar_users, distances = get_similar_users(user_id,5)"
   ]
  },
  {
   "cell_type": "code",
   "execution_count": 63,
   "metadata": {},
   "outputs": [
    {
     "name": "stdout",
     "output_type": "stream",
     "text": [
      "5 similar users to the user  7 are: \n",
      " \n",
      "1 . User: 215 with distance measure of:  0.6139182240880293\n",
      "2 . User: 115 with distance measure of:  0.6276751579407093\n",
      "3 . User: 295 with distance measure of:  0.6409701727518191\n",
      "4 . User: 105 with distance measure of:  0.647189694657055\n",
      "5 . User: 112 with distance measure of:  0.65745531015694\n",
      "295 similar users to the user  7 are: \n",
      " \n",
      "1 . User: 215 with distance measure of:  0.6139182240880293\n",
      "2 . User: 115 with distance measure of:  0.6276751579407093\n",
      "3 . User: 295 with distance measure of:  0.6409701727518191\n",
      "4 . User: 105 with distance measure of:  0.647189694657055\n",
      "5 . User: 112 with distance measure of:  0.65745531015694\n",
      "6 . User: 80 with distance measure of:  0.6582761302638467\n",
      "7 . User: 276 with distance measure of:  0.6648653302743721\n",
      "8 . User: 232 with distance measure of:  0.673438388971637\n",
      "9 . User: 207 with distance measure of:  0.6747098630329166\n",
      "10 . User: 132 with distance measure of:  0.6749992886671559\n",
      "11 . User: 170 with distance measure of:  0.677570854975665\n",
      "12 . User: 48 with distance measure of:  0.6778077406914453\n",
      "13 . User: 184 with distance measure of:  0.6799746806303729\n",
      "14 . User: 270 with distance measure of:  0.6816023466269321\n",
      "15 . User: 228 with distance measure of:  0.6829163964459349\n",
      "16 . User: 280 with distance measure of:  0.6874596648236158\n",
      "17 . User: 104 with distance measure of:  0.6889121169427677\n",
      "18 . User: 136 with distance measure of:  0.6911911533387027\n",
      "19 . User: 212 with distance measure of:  0.6931544376155396\n",
      "20 . User: 185 with distance measure of:  0.6965620165340334\n",
      "21 . User: 39 with distance measure of:  0.6981863259261774\n",
      "22 . User: 79 with distance measure of:  0.699716340089126\n",
      "23 . User: 120 with distance measure of:  0.702185788247607\n",
      "24 . User: 94 with distance measure of:  0.7062625122939218\n",
      "25 . User: 73 with distance measure of:  0.7066637751320567\n",
      "26 . User: 67 with distance measure of:  0.7070513041374997\n",
      "27 . User: 273 with distance measure of:  0.7075500122043488\n",
      "28 . User: 66 with distance measure of:  0.7081591130115322\n",
      "29 . User: 234 with distance measure of:  0.7082236213785388\n",
      "30 . User: 159 with distance measure of:  0.7087256380330383\n",
      "31 . User: 9 with distance measure of:  0.7096519150818457\n",
      "32 . User: 84 with distance measure of:  0.7099877404623698\n",
      "33 . User: 255 with distance measure of:  0.7108852550717607\n",
      "34 . User: 27 with distance measure of:  0.7133303419717849\n",
      "35 . User: 237 with distance measure of:  0.7160108038809976\n",
      "36 . User: 121 with distance measure of:  0.7179503951906644\n",
      "37 . User: 172 with distance measure of:  0.722614609298158\n",
      "38 . User: 109 with distance measure of:  0.723040856703351\n",
      "39 . User: 128 with distance measure of:  0.7242598135147684\n",
      "40 . User: 233 with distance measure of:  0.7255144722229736\n",
      "41 . User: 204 with distance measure of:  0.725992299932152\n",
      "42 . User: 200 with distance measure of:  0.7278543365676167\n",
      "43 . User: 158 with distance measure of:  0.7278938223580914\n",
      "44 . User: 72 with distance measure of:  0.7282418858907422\n",
      "45 . User: 12 with distance measure of:  0.728488232584861\n",
      "46 . User: 93 with distance measure of:  0.728912951009677\n",
      "47 . User: 230 with distance measure of:  0.7309423730928561\n",
      "48 . User: 36 with distance measure of:  0.7312689102476917\n",
      "49 . User: 138 with distance measure of:  0.7328865857775392\n",
      "50 . User: 111 with distance measure of:  0.7331388460193348\n",
      "51 . User: 164 with distance measure of:  0.7337224118719131\n",
      "52 . User: 251 with distance measure of:  0.737272654516498\n",
      "53 . User: 124 with distance measure of:  0.7375107953802951\n",
      "54 . User: 161 with distance measure of:  0.737623907467787\n",
      "55 . User: 55 with distance measure of:  0.7379316374249918\n",
      "56 . User: 44 with distance measure of:  0.7386912328299257\n",
      "57 . User: 86 with distance measure of:  0.7390949294615137\n",
      "58 . User: 82 with distance measure of:  0.7400802382116218\n",
      "59 . User: 78 with distance measure of:  0.7401780282897554\n",
      "60 . User: 253 with distance measure of:  0.7421620642854279\n",
      "61 . User: 264 with distance measure of:  0.742464548306016\n",
      "62 . User: 54 with distance measure of:  0.7429036370755149\n",
      "63 . User: 37 with distance measure of:  0.7444155198439109\n",
      "64 . User: 287 with distance measure of:  0.7457951303183165\n",
      "65 . User: 221 with distance measure of:  0.7467099017468137\n",
      "66 . User: 293 with distance measure of:  0.7486228028026916\n",
      "67 . User: 146 with distance measure of:  0.7496311374385738\n",
      "68 . User: 292 with distance measure of:  0.7509675310064633\n",
      "69 . User: 141 with distance measure of:  0.7510784275982666\n",
      "70 . User: 286 with distance measure of:  0.7516512617542914\n",
      "71 . User: 218 with distance measure of:  0.7518166119745662\n",
      "72 . User: 284 with distance measure of:  0.7533211502026196\n",
      "73 . User: 211 with distance measure of:  0.7535841870467856\n",
      "74 . User: 173 with distance measure of:  0.7546174701109641\n",
      "75 . User: 182 with distance measure of:  0.7548809197591555\n",
      "76 . User: 142 with distance measure of:  0.7575121303539569\n",
      "77 . User: 263 with distance measure of:  0.7575584453866023\n",
      "78 . User: 208 with distance measure of:  0.7575784214606914\n",
      "79 . User: 74 with distance measure of:  0.7580024919444316\n",
      "80 . User: 17 with distance measure of:  0.7584849292859523\n",
      "81 . User: 210 with distance measure of:  0.7633337742066388\n",
      "82 . User: 119 with distance measure of:  0.7634526427034403\n",
      "83 . User: 296 with distance measure of:  0.7647586752831215\n",
      "84 . User: 229 with distance measure of:  0.7661544409700105\n",
      "85 . User: 149 with distance measure of:  0.769115718612534\n",
      "86 . User: 162 with distance measure of:  0.7727727522899394\n",
      "87 . User: 220 with distance measure of:  0.7738499036385584\n",
      "88 . User: 219 with distance measure of:  0.7753292702600387\n",
      "89 . User: 282 with distance measure of:  0.7767135223495103\n",
      "90 . User: 95 with distance measure of:  0.7777255626784377\n",
      "91 . User: 32 with distance measure of:  0.7821784645521493\n",
      "92 . User: 11 with distance measure of:  0.7836266493879752\n",
      "93 . User: 247 with distance measure of:  0.7838895403033581\n",
      "94 . User: 50 with distance measure of:  0.7847733423632872\n",
      "95 . User: 189 with distance measure of:  0.7851024440685712\n",
      "96 . User: 188 with distance measure of:  0.7861435734806947\n",
      "97 . User: 176 with distance measure of:  0.7865312511470186\n",
      "98 . User: 92 with distance measure of:  0.7873662301645346\n",
      "99 . User: 6 with distance measure of:  0.7875170606494377\n",
      "100 . User: 257 with distance measure of:  0.7905742306054628\n",
      "101 . User: 153 with distance measure of:  0.7913483446977471\n",
      "102 . User: 96 with distance measure of:  0.7928195859844034\n",
      "103 . User: 223 with distance measure of:  0.7941430389817359\n",
      "104 . User: 88 with distance measure of:  0.7943221313675028\n",
      "105 . User: 131 with distance measure of:  0.7949525626731795\n",
      "106 . User: 129 with distance measure of:  0.7951836695323302\n",
      "107 . User: 283 with distance measure of:  0.7957197195546211\n",
      "108 . User: 45 with distance measure of:  0.7957242356809102\n",
      "109 . User: 61 with distance measure of:  0.7970202082477726\n",
      "110 . User: 171 with distance measure of:  0.7979074715733\n",
      "111 . User: 241 with distance measure of:  0.7979164294885162\n",
      "112 . User: 191 with distance measure of:  0.7980238233312711\n",
      "113 . User: 16 with distance measure of:  0.7990512667348155\n",
      "114 . User: 294 with distance measure of:  0.8013206700872648\n",
      "115 . User: 144 with distance measure of:  0.8024421001906066\n",
      "116 . User: 71 with distance measure of:  0.8025236889970192\n",
      "117 . User: 278 with distance measure of:  0.8028482131754906\n",
      "118 . User: 107 with distance measure of:  0.8052618424184388\n",
      "119 . User: 35 with distance measure of:  0.8056311535890728\n",
      "120 . User: 113 with distance measure of:  0.8058803149918571\n",
      "121 . User: 250 with distance measure of:  0.8061767078128509\n",
      "122 . User: 7 with distance measure of:  0.8068806588292337\n",
      "123 . User: 76 with distance measure of:  0.8085423082506944\n",
      "124 . User: 77 with distance measure of:  0.8089033254080619\n",
      "125 . User: 244 with distance measure of:  0.8092292837982471\n",
      "126 . User: 134 with distance measure of:  0.8102553158209755\n",
      "127 . User: 38 with distance measure of:  0.8104033520379352\n",
      "128 . User: 70 with distance measure of:  0.8124458535613417\n",
      "129 . User: 58 with distance measure of:  0.8125839924922825\n",
      "130 . User: 248 with distance measure of:  0.8135074541446059\n",
      "131 . User: 154 with distance measure of:  0.814408243095271\n",
      "132 . User: 274 with distance measure of:  0.8174773093670393\n",
      "133 . User: 222 with distance measure of:  0.8188193660081364\n",
      "134 . User: 186 with distance measure of:  0.8193462811678142\n",
      "135 . User: 29 with distance measure of:  0.819523800527076\n",
      "136 . User: 143 with distance measure of:  0.8207540539435674\n",
      "137 . User: 246 with distance measure of:  0.8215299783328833\n",
      "138 . User: 192 with distance measure of:  0.8215627331671881\n",
      "139 . User: 8 with distance measure of:  0.8218758424485422\n",
      "140 . User: 174 with distance measure of:  0.8219597039273957\n",
      "141 . User: 63 with distance measure of:  0.8223259163630814\n",
      "142 . User: 177 with distance measure of:  0.8235983517701746\n",
      "143 . User: 150 with distance measure of:  0.8245195855994483\n",
      "144 . User: 225 with distance measure of:  0.824861351753264\n",
      "145 . User: 43 with distance measure of:  0.8261676017869606\n",
      "146 . User: 152 with distance measure of:  0.8285475980250059\n",
      "147 . User: 269 with distance measure of:  0.8285558786904444\n",
      "148 . User: 22 with distance measure of:  0.8288738731633785\n",
      "149 . User: 209 with distance measure of:  0.8289035450499477\n",
      "150 . User: 193 with distance measure of:  0.8289290506936956\n",
      "151 . User: 236 with distance measure of:  0.83048427787603\n",
      "152 . User: 281 with distance measure of:  0.8306146815773118\n",
      "153 . User: 147 with distance measure of:  0.8310082111865732\n",
      "154 . User: 265 with distance measure of:  0.8317716448801478\n",
      "155 . User: 24 with distance measure of:  0.8329290211201936\n",
      "156 . User: 261 with distance measure of:  0.8329935779024301\n",
      "157 . User: 227 with distance measure of:  0.8340366018227544\n",
      "158 . User: 125 with distance measure of:  0.8347180426640437\n",
      "159 . User: 53 with distance measure of:  0.8356854787564698\n",
      "160 . User: 83 with distance measure of:  0.8363423988979839\n",
      "161 . User: 1 with distance measure of:  0.8373359629326835\n",
      "162 . User: 52 with distance measure of:  0.8374442951830383\n",
      "163 . User: 256 with distance measure of:  0.8389787105639758\n",
      "164 . User: 226 with distance measure of:  0.8398592467696927\n",
      "165 . User: 18 with distance measure of:  0.8398920265781287\n",
      "166 . User: 213 with distance measure of:  0.8402009867810853\n",
      "167 . User: 285 with distance measure of:  0.8407955051881805\n",
      "168 . User: 56 with distance measure of:  0.8413430264422941\n",
      "169 . User: 179 with distance measure of:  0.8429130856872703\n",
      "170 . User: 118 with distance measure of:  0.843055710090685\n",
      "171 . User: 288 with distance measure of:  0.8432483893076937\n",
      "172 . User: 60 with distance measure of:  0.8434322604887055\n",
      "173 . User: 68 with distance measure of:  0.844701938476069\n",
      "174 . User: 97 with distance measure of:  0.8448058605141923\n",
      "175 . User: 10 with distance measure of:  0.8449645724943852\n",
      "176 . User: 99 with distance measure of:  0.8460921039819475\n",
      "177 . User: 151 with distance measure of:  0.8462639106922429\n",
      "178 . User: 262 with distance measure of:  0.8470266587893539\n",
      "179 . User: 217 with distance measure of:  0.8481204674681151\n",
      "180 . User: 175 with distance measure of:  0.8481473476949027\n",
      "181 . User: 272 with distance measure of:  0.8487338179425629\n",
      "182 . User: 40 with distance measure of:  0.8492371100481544\n",
      "183 . User: 254 with distance measure of:  0.8492811927645146\n",
      "184 . User: 47 with distance measure of:  0.8493806009575358\n",
      "185 . User: 275 with distance measure of:  0.8499195462027689\n",
      "186 . User: 26 with distance measure of:  0.8507005020496938\n",
      "187 . User: 277 with distance measure of:  0.8518284773941127\n",
      "188 . User: 21 with distance measure of:  0.8523065839101667\n",
      "189 . User: 13 with distance measure of:  0.8523263405407195\n",
      "190 . User: 249 with distance measure of:  0.8524753806345555\n",
      "191 . User: 114 with distance measure of:  0.852981649126801\n",
      "192 . User: 130 with distance measure of:  0.8558492951134307\n",
      "193 . User: 42 with distance measure of:  0.8560243216394254\n",
      "194 . User: 180 with distance measure of:  0.8560858066171768\n",
      "195 . User: 240 with distance measure of:  0.8566645033895008\n",
      "196 . User: 290 with distance measure of:  0.8566664494839544\n",
      "197 . User: 156 with distance measure of:  0.8574997356088956\n",
      "198 . User: 51 with distance measure of:  0.8578976616515959\n",
      "199 . User: 160 with distance measure of:  0.8578998848759927\n",
      "200 . User: 34 with distance measure of:  0.8580441934750629\n",
      "201 . User: 89 with distance measure of:  0.8585982750361462\n",
      "202 . User: 202 with distance measure of:  0.8594847668286225\n",
      "203 . User: 243 with distance measure of:  0.8597468011369342\n",
      "204 . User: 198 with distance measure of:  0.8600417700995671\n",
      "205 . User: 258 with distance measure of:  0.8612259431673923\n",
      "206 . User: 25 with distance measure of:  0.8625677650911133\n",
      "207 . User: 216 with distance measure of:  0.8627319887994442\n",
      "208 . User: 201 with distance measure of:  0.864292287527409\n",
      "209 . User: 100 with distance measure of:  0.8648476865690954\n",
      "210 . User: 135 with distance measure of:  0.8676360105124348\n",
      "211 . User: 126 with distance measure of:  0.867706003216316\n",
      "212 . User: 91 with distance measure of:  0.8684520785421774\n",
      "213 . User: 49 with distance measure of:  0.8684810885478504\n",
      "214 . User: 183 with distance measure of:  0.868507925132522\n",
      "215 . User: 64 with distance measure of:  0.8701603284325123\n",
      "216 . User: 103 with distance measure of:  0.870699663504983\n",
      "217 . User: 81 with distance measure of:  0.871595930146056\n",
      "218 . User: 166 with distance measure of:  0.8727723841805511\n",
      "219 . User: 122 with distance measure of:  0.8742743205674194\n",
      "220 . User: 268 with distance measure of:  0.875112387962854\n",
      "221 . User: 28 with distance measure of:  0.8752561808969345\n",
      "222 . User: 106 with distance measure of:  0.8756787838839158\n",
      "223 . User: 33 with distance measure of:  0.8766603953659579\n",
      "224 . User: 137 with distance measure of:  0.8769161794756826\n",
      "225 . User: 116 with distance measure of:  0.8792091344018876\n",
      "226 . User: 133 with distance measure of:  0.8798182575726792\n",
      "227 . User: 252 with distance measure of:  0.8804214839378225\n",
      "228 . User: 224 with distance measure of:  0.8804639802500962\n",
      "229 . User: 5 with distance measure of:  0.882562258893473\n",
      "230 . User: 85 with distance measure of:  0.8826461426675699\n",
      "231 . User: 167 with distance measure of:  0.8827512801681124\n",
      "232 . User: 65 with distance measure of:  0.8838835342876588\n",
      "233 . User: 62 with distance measure of:  0.8842892481325716\n",
      "234 . User: 235 with distance measure of:  0.8847196306460673\n",
      "235 . User: 181 with distance measure of:  0.8847426007346131\n",
      "236 . User: 203 with distance measure of:  0.885298397807667\n",
      "237 . User: 102 with distance measure of:  0.8886792450533973\n",
      "238 . User: 238 with distance measure of:  0.8893785185924652\n",
      "239 . User: 46 with distance measure of:  0.8898259171571673\n",
      "240 . User: 242 with distance measure of:  0.8903588668545686\n",
      "241 . User: 2 with distance measure of:  0.8906727019729741\n",
      "242 . User: 101 with distance measure of:  0.891142483847792\n",
      "243 . User: 168 with distance measure of:  0.8925741096163105\n",
      "244 . User: 75 with distance measure of:  0.8930930961602285\n",
      "245 . User: 279 with distance measure of:  0.8946752182801516\n",
      "246 . User: 245 with distance measure of:  0.894690651853763\n",
      "247 . User: 289 with distance measure of:  0.8987911788204404\n",
      "248 . User: 194 with distance measure of:  0.9009563997911267\n",
      "249 . User: 3 with distance measure of:  0.9014508288060934\n",
      "250 . User: 267 with distance measure of:  0.903658148730538\n",
      "251 . User: 117 with distance measure of:  0.9043531170756299\n",
      "252 . User: 57 with distance measure of:  0.9056886639684472\n",
      "253 . User: 127 with distance measure of:  0.9064500286691192\n",
      "254 . User: 155 with distance measure of:  0.9076358002517654\n",
      "255 . User: 214 with distance measure of:  0.9080382707353842\n",
      "256 . User: 199 with distance measure of:  0.9093094972329888\n",
      "257 . User: 260 with distance measure of:  0.9095226348280707\n",
      "258 . User: 108 with distance measure of:  0.9102800525352055\n",
      "259 . User: 98 with distance measure of:  0.9103496363331793\n",
      "260 . User: 20 with distance measure of:  0.910894380479032\n",
      "261 . User: 110 with distance measure of:  0.9123581785793519\n",
      "262 . User: 23 with distance measure of:  0.9133505148784944\n",
      "263 . User: 266 with distance measure of:  0.9137308787612098\n",
      "264 . User: 205 with distance measure of:  0.9147115430601994\n",
      "265 . User: 187 with distance measure of:  0.9187050172894424\n",
      "266 . User: 14 with distance measure of:  0.9188254215081108\n",
      "267 . User: 195 with distance measure of:  0.9194582765176935\n",
      "268 . User: 157 with distance measure of:  0.9199091471198014\n",
      "269 . User: 139 with distance measure of:  0.9218396681910954\n",
      "270 . User: 145 with distance measure of:  0.9245933870752843\n",
      "271 . User: 259 with distance measure of:  0.9247003303469608\n",
      "272 . User: 41 with distance measure of:  0.9266696920227473\n",
      "273 . User: 178 with distance measure of:  0.9273522733748374\n",
      "274 . User: 231 with distance measure of:  0.9280894673373928\n",
      "275 . User: 169 with distance measure of:  0.9286838255932636\n",
      "276 . User: 30 with distance measure of:  0.9292651572086581\n",
      "277 . User: 59 with distance measure of:  0.9333806676052379\n",
      "278 . User: 31 with distance measure of:  0.9340310858015274\n",
      "279 . User: 271 with distance measure of:  0.9360576142679851\n",
      "280 . User: 148 with distance measure of:  0.9399776974837535\n",
      "281 . User: 291 with distance measure of:  0.9405257939063589\n",
      "282 . User: 190 with distance measure of:  0.9446161212673005\n",
      "283 . User: 140 with distance measure of:  0.9459631335753292\n",
      "284 . User: 69 with distance measure of:  0.9503395298484574\n",
      "285 . User: 197 with distance measure of:  0.9514042952966555\n",
      "286 . User: 15 with distance measure of:  0.9514871044680613\n",
      "287 . User: 123 with distance measure of:  0.9526749853404557\n",
      "288 . User: 206 with distance measure of:  0.9539046873979943\n",
      "289 . User: 165 with distance measure of:  0.9566592595569687\n",
      "290 . User: 90 with distance measure of:  0.958366845450739\n",
      "291 . User: 19 with distance measure of:  0.959089129819648\n",
      "292 . User: 196 with distance measure of:  0.9592448717839113\n",
      "293 . User: 87 with distance measure of:  0.9596067256737661\n",
      "294 . User: 163 with distance measure of:  0.9618551560399682\n",
      "295 . User: 239 with distance measure of:  0.9662891866967703\n"
     ]
    },
    {
     "data": {
      "text/plain": [
       "0.6374417119189106"
      ]
     },
     "metadata": {},
     "output_type": "display_data"
    },
    {
     "data": {
      "text/plain": [
       "0.8186643061292155"
      ]
     },
     "metadata": {},
     "output_type": "display_data"
    },
    {
     "data": {
      "text/plain": [
       "0.7786362580443306"
      ]
     },
     "metadata": {},
     "output_type": "display_data"
    }
   ],
   "source": [
    "sim_close, user_close_distance = get_similar_users(user_id,5)\n",
    "sim_total, user_total_distance= get_similar_users(user_id,len(user_rating.index)-1)\n",
    "display(np.mean(user_close_distance))\n",
    "display(np.mean(user_total_distance))\n",
    "display((np.mean(user_close_distance)/np.mean(user_total_distance)))"
   ]
  },
  {
   "cell_type": "code",
   "execution_count": 60,
   "metadata": {},
   "outputs": [
    {
     "data": {
      "text/plain": [
       "(array([215, 115, 295, 105, 112]),\n",
       " array([0.61391822, 0.62767516, 0.64097017, 0.64718969, 0.65745531]))"
      ]
     },
     "execution_count": 60,
     "metadata": {},
     "output_type": "execute_result"
    }
   ],
   "source": [
    "similar_users, distances"
   ]
  },
  {
   "cell_type": "code",
   "execution_count": 39,
   "metadata": {},
   "outputs": [
    {
     "data": {
      "text/plain": [
       "array([0.19261941, 0.1969357 , 0.20110707, 0.20305847, 0.20627935])"
      ]
     },
     "execution_count": 39,
     "metadata": {},
     "output_type": "execute_result"
    }
   ],
   "source": [
    "normalised_distances = distances/np.sum(distances)\n",
    "normalised_distances"
   ]
  },
  {
   "cell_type": "code",
   "execution_count": 40,
   "metadata": {},
   "outputs": [
    {
     "data": {
      "text/plain": [
       "array([[0. , 0. , 0. , ..., 0. , 0. , 0. ],\n",
       "       [0. , 0. , 0. , ..., 0. , 0. , 0. ],\n",
       "       [3.5, 4. , 0. , ..., 3.5, 4. , 4. ],\n",
       "       [0. , 0. , 0. , ..., 0. , 0. , 0. ],\n",
       "       [0. , 0. , 0. , ..., 0. , 0. , 0. ]])"
      ]
     },
     "execution_count": 40,
     "metadata": {},
     "output_type": "execute_result"
    }
   ],
   "source": [
    "similar_users_ratings = user_rating.values[similar_users]\n",
    "similar_users_ratings"
   ]
  },
  {
   "cell_type": "code",
   "execution_count": 41,
   "metadata": {},
   "outputs": [
    {
     "data": {
      "text/plain": [
       "Index(['(500) days of summer', '10 cloverfield lane',\n",
       "       '10 things i hate about you', '10,000 bc', '101 dalmatians',\n",
       "       '12 angry men', '12 years a slave', '127 hours', '13 going on 30',\n",
       "       '1408',\n",
       "       ...\n",
       "       'young guns', 'young guns ii', 'young sherlock holmes',\n",
       "       'zack and miri make a porno', 'zero dark thirty', 'zero effect',\n",
       "       'zodiac', 'zombieland', 'zoolander', 'zootopia'],\n",
       "      dtype='object', name='title', length=1354)"
      ]
     },
     "execution_count": 41,
     "metadata": {},
     "output_type": "execute_result"
    }
   ],
   "source": [
    "movies_list = user_rating.columns\n",
    "movies_list"
   ]
  },
  {
   "cell_type": "code",
   "execution_count": 42,
   "metadata": {},
   "outputs": [
    {
     "data": {
      "text/plain": [
       "(5, 1354)"
      ]
     },
     "execution_count": 42,
     "metadata": {},
     "output_type": "execute_result"
    }
   ],
   "source": [
    "weights = normalised_distances[:,np.newaxis] + np.zeros(len(movies_list))\n",
    "weights.shape"
   ]
  },
  {
   "cell_type": "code",
   "execution_count": 43,
   "metadata": {},
   "outputs": [
    {
     "data": {
      "text/plain": [
       "array([0.70387474, 0.80442828, 0.        , ..., 0.70387474, 0.80442828,\n",
       "       0.80442828])"
      ]
     },
     "execution_count": 43,
     "metadata": {},
     "output_type": "execute_result"
    }
   ],
   "source": [
    "new_rating_matrix = weights*similar_users_ratings\n",
    "mean_rating_list = new_rating_matrix.sum(axis =0)\n",
    "mean_rating_list"
   ]
  },
  {
   "cell_type": "code",
   "execution_count": 44,
   "metadata": {},
   "outputs": [
    {
     "name": "stdout",
     "output_type": "stream",
     "text": [
      "Movies recommended based on similar users are: \n",
      "NOTE: movies here might be repeated from the user's watch list\n",
      "['pulp fiction',\n",
      " 'forrest gump',\n",
      " 'terminator 2: judgment day',\n",
      " 'jurassic park',\n",
      " \"schindler's list\",\n",
      " 'eternal sunshine of the spotless mind',\n",
      " 'fight club',\n",
      " 'fargo',\n",
      " '25th hour',\n",
      " 'trainspotting']\n"
     ]
    }
   ],
   "source": [
    "from pprint import pprint\n",
    "def recommend_movies(n,mean_ratings):\n",
    "    n = min(len(mean_ratings),n)\n",
    "    pprint(list(movies_list[np.argsort(mean_ratings)[::-1][:n]]))\n",
    "    \n",
    "print(\"Movies recommended based on similar users are: \")\n",
    "print(\"NOTE: movies here might be repeated from the user's watch list\")\n",
    "recommend_movies(10, mean_rating_list)"
   ]
  },
  {
   "cell_type": "code",
   "execution_count": 45,
   "metadata": {},
   "outputs": [],
   "source": [
    "def filtered_movie_recommendations(n,mean_ratings):\n",
    "  \n",
    "    first_zero_index = np.where(mean_ratings == 0)[0][-1]\n",
    "    sortd_index = np.argsort(mean_ratings)[::-1]\n",
    "    sortd_index = sortd_index[:list(sortd_index).index(first_zero_index)]\n",
    "    n = min(len(sortd_index),n)\n",
    "    movies_watched = list(data_2[data_2['user'] == user_id]['title'])\n",
    "    filtered_movie_list = list(movies_list[sortd_index])\n",
    "    count = 0\n",
    "    final_movie_list = []\n",
    "    for i in filtered_movie_list:\n",
    "        if i not in movies_watched:\n",
    "            count+=1\n",
    "            final_movie_list.append(i)\n",
    "        if count == n:\n",
    "            break\n",
    "    if count == 0:\n",
    "        print(\"user has watched everything that the similar users watched\")\n",
    "    else:\n",
    "        pprint(final_movie_list)"
   ]
  },
  {
   "cell_type": "code",
   "execution_count": 46,
   "metadata": {},
   "outputs": [
    {
     "name": "stdout",
     "output_type": "stream",
     "text": [
      "['pulp fiction',\n",
      " \"schindler's list\",\n",
      " 'eternal sunshine of the spotless mind',\n",
      " 'fight club',\n",
      " 'fargo',\n",
      " '25th hour',\n",
      " 'trainspotting',\n",
      " 'speed',\n",
      " 'braveheart',\n",
      " 'broken arrow']\n"
     ]
    }
   ],
   "source": [
    "filtered_movie_recommendations(10,mean_rating_list)"
   ]
  },
  {
   "cell_type": "code",
   "execution_count": null,
   "metadata": {},
   "outputs": [],
   "source": []
  }
 ],
 "metadata": {
  "kernelspec": {
   "display_name": "Python 3",
   "language": "python",
   "name": "python3"
  },
  "language_info": {
   "codemirror_mode": {
    "name": "ipython",
    "version": 3
   },
   "file_extension": ".py",
   "mimetype": "text/x-python",
   "name": "python",
   "nbconvert_exporter": "python",
   "pygments_lexer": "ipython3",
   "version": "3.7.6"
  }
 },
 "nbformat": 4,
 "nbformat_minor": 4
}
