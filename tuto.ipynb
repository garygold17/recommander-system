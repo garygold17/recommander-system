{
 "cells": [
  {
   "cell_type": "markdown",
   "id": "b14b354d",
   "metadata": {},
   "source": [
    "# Individual Recommender Systems - Tutorial 1 (Lab 1)\n",
    "\n",
    "\n",
    "In this tutorial, we will see some implementations of strategies for individual recommender systems seen in the first lectures of the course. At the same time, we will introduce some libraries useful for machine learning applications in python. After completing this tutorial, you will be able to: \n",
    "- Create a non-personalized recommender system in the domain of movies for individual users.\n",
    "- Create a personalized recommender system using either a content based or a collaborative filtering approach.\n",
    "- Evaluate the performance of the recommender systems, using different evaluation protocols.\n"
   ]
  },
  {
   "cell_type": "markdown",
   "id": "1723e6c6",
   "metadata": {},
   "source": [
    "#### Summary\n",
    "\n",
    "1. Dataset\n",
    "2. Non personalized recommendations: ordering by average rating\n",
    "3. Towards personalization: Filtering by genre\n",
    "4. Content Based Recommender System\n",
    "5. Collaborative Filtering Recommender System\n",
    "6. Evaluation of Recommender Systems\n",
    "    1. Evaluation of a CB recommender\n",
    "    2. Evaluation of a CF recommender\n",
    "\n"
   ]
  },
  {
   "cell_type": "markdown",
   "id": "22df946d",
   "metadata": {},
   "source": [
    "#### 1. Dataset\n",
    "\n",
    "\n",
    "We will use the preprocessed dataset provided in the folder *preprocessed_dataset*. The dataset has been obtained from the \n",
    "[Movielens latest small](https://www.kaggle.com/grouplens/movielens-latest-small) dataset (providing user's ratings) and the [Wikipedia Movie Plots](https://www.kaggle.com/jrobischon/wikipedia-movie-plots) dataset (providing movies' information). Check the notebook **Dataset Preprocessing** for details on how the datasets have been preprocessed and merged.\n",
    "\n",
    "The dataset contains two CSV files, following  the structure of the Movielens dataset:\n",
    "1. ratings.csv: contains the information about the feedback of the users for the movies. Each row contains the id of a user,the id of a movie, and the rating that the user gave to the movie. It also contains the timestamp, but we will not use it in this tutorial.\n",
    "2. movies.csv: contains the information about the movies. In particular, we will use the genre and the plot.\n",
    "\n"
   ]
  },
  {
   "cell_type": "markdown",
   "id": "3c6303b7",
   "metadata": {},
   "source": [
    "We start using the [pandas](https://pandas.pydata.org/) library to read the content of the CSV files and use it. Let us have a look at the first 10 rows of each file, to check which contents are provided by the *ratings.csv* and the *movies.csv* files. To do so, we use the *read_csv* method which returns a pandas [Dataframe](https://pandas.pydata.org/docs/reference/api/pandas.DataFrame.html) object containing the information read from the csv file. Such object provides several methods to manipulate the data in it, and we will use the [head](https://pandas.pydata.org/docs/reference/api/pandas.DataFrame.head.html) method, which returns the first *n* rows of the dataframe. We use also the [display](https://ipython.readthedocs.io/en/stable/api/generated/IPython.display.html#IPython.display.display) method, that allows to print information nicely in a jupyter notebook."
   ]
  },
  {
   "cell_type": "code",
   "execution_count": 4,
   "id": "9f29eb60",
   "metadata": {},
   "outputs": [],
   "source": [
    "\n",
    "\n",
    "import pandas as pd"
   ]
  },
  {
   "cell_type": "code",
   "execution_count": 5,
   "id": "479d9c57",
   "metadata": {},
   "outputs": [
    {
     "data": {
      "text/plain": "   userId  movieId  rating   timestamp\n0       1        2     3.5  1112486027\n1       1       29     3.5  1112484676\n2       1       32     3.5  1112484819\n3       1       47     3.5  1112484727\n4       1       50     3.5  1112484580\n5       1      112     3.5  1094785740\n6       1      151     4.0  1094785734\n7       1      223     4.0  1112485573\n8       1      253     4.0  1112484940\n9       1      260     4.0  1112484826",
      "text/html": "<div>\n<style scoped>\n    .dataframe tbody tr th:only-of-type {\n        vertical-align: middle;\n    }\n\n    .dataframe tbody tr th {\n        vertical-align: top;\n    }\n\n    .dataframe thead th {\n        text-align: right;\n    }\n</style>\n<table border=\"1\" class=\"dataframe\">\n  <thead>\n    <tr style=\"text-align: right;\">\n      <th></th>\n      <th>userId</th>\n      <th>movieId</th>\n      <th>rating</th>\n      <th>timestamp</th>\n    </tr>\n  </thead>\n  <tbody>\n    <tr>\n      <th>0</th>\n      <td>1</td>\n      <td>2</td>\n      <td>3.5</td>\n      <td>1112486027</td>\n    </tr>\n    <tr>\n      <th>1</th>\n      <td>1</td>\n      <td>29</td>\n      <td>3.5</td>\n      <td>1112484676</td>\n    </tr>\n    <tr>\n      <th>2</th>\n      <td>1</td>\n      <td>32</td>\n      <td>3.5</td>\n      <td>1112484819</td>\n    </tr>\n    <tr>\n      <th>3</th>\n      <td>1</td>\n      <td>47</td>\n      <td>3.5</td>\n      <td>1112484727</td>\n    </tr>\n    <tr>\n      <th>4</th>\n      <td>1</td>\n      <td>50</td>\n      <td>3.5</td>\n      <td>1112484580</td>\n    </tr>\n    <tr>\n      <th>5</th>\n      <td>1</td>\n      <td>112</td>\n      <td>3.5</td>\n      <td>1094785740</td>\n    </tr>\n    <tr>\n      <th>6</th>\n      <td>1</td>\n      <td>151</td>\n      <td>4.0</td>\n      <td>1094785734</td>\n    </tr>\n    <tr>\n      <th>7</th>\n      <td>1</td>\n      <td>223</td>\n      <td>4.0</td>\n      <td>1112485573</td>\n    </tr>\n    <tr>\n      <th>8</th>\n      <td>1</td>\n      <td>253</td>\n      <td>4.0</td>\n      <td>1112484940</td>\n    </tr>\n    <tr>\n      <th>9</th>\n      <td>1</td>\n      <td>260</td>\n      <td>4.0</td>\n      <td>1112484826</td>\n    </tr>\n  </tbody>\n</table>\n</div>"
     },
     "metadata": {},
     "output_type": "display_data"
    }
   ],
   "source": [
    "ratings_df = pd.read_csv(\"ratings.csv\")\n",
    "display(ratings_df.head(10))"
   ]
  },
  {
   "cell_type": "code",
   "execution_count": 7,
   "id": "68cd94e2",
   "metadata": {},
   "outputs": [
    {
     "data": {
      "text/plain": "                                      title  \\\nmovieId                                       \n1                          Toy Story (1995)   \n2                            Jumanji (1995)   \n3                   Grumpier Old Men (1995)   \n4                  Waiting to Exhale (1995)   \n5        Father of the Bride Part II (1995)   \n6                               Heat (1995)   \n7                            Sabrina (1995)   \n8                       Tom and Huck (1995)   \n9                       Sudden Death (1995)   \n10                         GoldenEye (1995)   \n\n                                              genres  \nmovieId                                               \n1        Adventure|Animation|Children|Comedy|Fantasy  \n2                         Adventure|Children|Fantasy  \n3                                     Comedy|Romance  \n4                               Comedy|Drama|Romance  \n5                                             Comedy  \n6                              Action|Crime|Thriller  \n7                                     Comedy|Romance  \n8                                 Adventure|Children  \n9                                             Action  \n10                         Action|Adventure|Thriller  ",
      "text/html": "<div>\n<style scoped>\n    .dataframe tbody tr th:only-of-type {\n        vertical-align: middle;\n    }\n\n    .dataframe tbody tr th {\n        vertical-align: top;\n    }\n\n    .dataframe thead th {\n        text-align: right;\n    }\n</style>\n<table border=\"1\" class=\"dataframe\">\n  <thead>\n    <tr style=\"text-align: right;\">\n      <th></th>\n      <th>title</th>\n      <th>genres</th>\n    </tr>\n    <tr>\n      <th>movieId</th>\n      <th></th>\n      <th></th>\n    </tr>\n  </thead>\n  <tbody>\n    <tr>\n      <th>1</th>\n      <td>Toy Story (1995)</td>\n      <td>Adventure|Animation|Children|Comedy|Fantasy</td>\n    </tr>\n    <tr>\n      <th>2</th>\n      <td>Jumanji (1995)</td>\n      <td>Adventure|Children|Fantasy</td>\n    </tr>\n    <tr>\n      <th>3</th>\n      <td>Grumpier Old Men (1995)</td>\n      <td>Comedy|Romance</td>\n    </tr>\n    <tr>\n      <th>4</th>\n      <td>Waiting to Exhale (1995)</td>\n      <td>Comedy|Drama|Romance</td>\n    </tr>\n    <tr>\n      <th>5</th>\n      <td>Father of the Bride Part II (1995)</td>\n      <td>Comedy</td>\n    </tr>\n    <tr>\n      <th>6</th>\n      <td>Heat (1995)</td>\n      <td>Action|Crime|Thriller</td>\n    </tr>\n    <tr>\n      <th>7</th>\n      <td>Sabrina (1995)</td>\n      <td>Comedy|Romance</td>\n    </tr>\n    <tr>\n      <th>8</th>\n      <td>Tom and Huck (1995)</td>\n      <td>Adventure|Children</td>\n    </tr>\n    <tr>\n      <th>9</th>\n      <td>Sudden Death (1995)</td>\n      <td>Action</td>\n    </tr>\n    <tr>\n      <th>10</th>\n      <td>GoldenEye (1995)</td>\n      <td>Action|Adventure|Thriller</td>\n    </tr>\n  </tbody>\n</table>\n</div>"
     },
     "metadata": {},
     "output_type": "display_data"
    }
   ],
   "source": [
    "movies_df = pd.read_csv(\"movies.csv\", index_col=\"movieId\")\n",
    "display(movies_df.head(10))"
   ]
  },
  {
   "cell_type": "markdown",
   "id": "43a54c51",
   "metadata": {},
   "source": [
    "Let us have a look at the number of ratings we have for each movie. First, we select the columns *user* and *item*. Then, we can use the [groupby](https://pandas.pydata.org/docs/reference/api/pandas.DataFrame.groupby.html) method to group the columns given a specific column value. The method returns a [Groupby](https://pandas.pydata.org/docs/reference/groupby.html) object, which provides methods to aggregate the values of each group. We aggregate by *item*, to count the number of users that rated each item. To compute this, we use the [count](https://pandas.pydata.org/docs/reference/api/pandas.core.groupby.GroupBy.count.html) method which returns a Dataframe object, in which we will have a row for each movie, and the number of users who rated each movie in the *user* column.\n",
    "\n",
    "Then, we visualize the distribution of the number of evaluations for each movie using the [seaborn](https://seaborn.pydata.org/) library. We use the [displot](https://seaborn.pydata.org/generated/seaborn.histplot.html#seaborn.displot) method, specifying `x='user'`."
   ]
  },
  {
   "cell_type": "code",
   "execution_count": 11,
   "id": "69aab684",
   "metadata": {},
   "outputs": [
    {
     "data": {
      "text/plain": "         userId\nmovieId        \n1         49695\n2         22243\n3         12735\n4          2756\n5         12161\n...         ...\n131254        1\n131256        1\n131258        1\n131260        1\n131262        1\n\n[26744 rows x 1 columns]",
      "text/html": "<div>\n<style scoped>\n    .dataframe tbody tr th:only-of-type {\n        vertical-align: middle;\n    }\n\n    .dataframe tbody tr th {\n        vertical-align: top;\n    }\n\n    .dataframe thead th {\n        text-align: right;\n    }\n</style>\n<table border=\"1\" class=\"dataframe\">\n  <thead>\n    <tr style=\"text-align: right;\">\n      <th></th>\n      <th>userId</th>\n    </tr>\n    <tr>\n      <th>movieId</th>\n      <th></th>\n    </tr>\n  </thead>\n  <tbody>\n    <tr>\n      <th>1</th>\n      <td>49695</td>\n    </tr>\n    <tr>\n      <th>2</th>\n      <td>22243</td>\n    </tr>\n    <tr>\n      <th>3</th>\n      <td>12735</td>\n    </tr>\n    <tr>\n      <th>4</th>\n      <td>2756</td>\n    </tr>\n    <tr>\n      <th>5</th>\n      <td>12161</td>\n    </tr>\n    <tr>\n      <th>...</th>\n      <td>...</td>\n    </tr>\n    <tr>\n      <th>131254</th>\n      <td>1</td>\n    </tr>\n    <tr>\n      <th>131256</th>\n      <td>1</td>\n    </tr>\n    <tr>\n      <th>131258</th>\n      <td>1</td>\n    </tr>\n    <tr>\n      <th>131260</th>\n      <td>1</td>\n    </tr>\n    <tr>\n      <th>131262</th>\n      <td>1</td>\n    </tr>\n  </tbody>\n</table>\n<p>26744 rows × 1 columns</p>\n</div>"
     },
     "metadata": {},
     "output_type": "display_data"
    }
   ],
   "source": [
    "import seaborn as sns\n",
    "\n",
    "count_ratings_df = ratings_df[['userId','movieId']].groupby(['movieId']).count()\n",
    "display(count_ratings_df)\n",
    "# sns.displot(data=count_ratings_df, x='userId', binwidth=1)"
   ]
  },
  {
   "cell_type": "markdown",
   "id": "1eb25285",
   "metadata": {},
   "source": [
    "Note that here, we have on the horizontal axe the number of users that evaluated a movie, and on the vertical axe the number of movies having the corresponding number of evaluations. We migh want to visuaize instead on the horizontal axe the movies, and on the vertical axe the number of users who evaluated it. There are different ways to do it, we will just sort the previous Dataframe by *user* (i.e. the number of user evaluations for the corresponding movie) in a descending order, using the [sort_values](https://pandas.pydata.org/docs/reference/api/pandas.DataFrame.sort_values.html) method of the Dataframe object, and then reset the index two times, in order to have a progressive id for the movies (the [reset_index](https://pandas.pydata.org/pandas-docs/stable/reference/api/pandas.DataFrame.reset_index.html) function will create a nerw index assigning a progressive identifier to each row in the Dataframe). The, we just plot the line having *index* on the horizontal axe and *user* on the vertical axe. "
   ]
  },
  {
   "cell_type": "code",
   "execution_count": 12,
   "id": "8bcb5159",
   "metadata": {},
   "outputs": [
    {
     "data": {
      "text/plain": "       index  movieId  userId\n0          0      296   67310\n1          1      356   66172\n2          2      318   63366\n3          3      593   63299\n4          4      480   59715\n...      ...      ...     ...\n26739  26739   110807       1\n26740  26740   110811       1\n26741  26741    78984       1\n26742  26742   110818       1\n26743  26743   131262       1\n\n[26744 rows x 3 columns]",
      "text/html": "<div>\n<style scoped>\n    .dataframe tbody tr th:only-of-type {\n        vertical-align: middle;\n    }\n\n    .dataframe tbody tr th {\n        vertical-align: top;\n    }\n\n    .dataframe thead th {\n        text-align: right;\n    }\n</style>\n<table border=\"1\" class=\"dataframe\">\n  <thead>\n    <tr style=\"text-align: right;\">\n      <th></th>\n      <th>index</th>\n      <th>movieId</th>\n      <th>userId</th>\n    </tr>\n  </thead>\n  <tbody>\n    <tr>\n      <th>0</th>\n      <td>0</td>\n      <td>296</td>\n      <td>67310</td>\n    </tr>\n    <tr>\n      <th>1</th>\n      <td>1</td>\n      <td>356</td>\n      <td>66172</td>\n    </tr>\n    <tr>\n      <th>2</th>\n      <td>2</td>\n      <td>318</td>\n      <td>63366</td>\n    </tr>\n    <tr>\n      <th>3</th>\n      <td>3</td>\n      <td>593</td>\n      <td>63299</td>\n    </tr>\n    <tr>\n      <th>4</th>\n      <td>4</td>\n      <td>480</td>\n      <td>59715</td>\n    </tr>\n    <tr>\n      <th>...</th>\n      <td>...</td>\n      <td>...</td>\n      <td>...</td>\n    </tr>\n    <tr>\n      <th>26739</th>\n      <td>26739</td>\n      <td>110807</td>\n      <td>1</td>\n    </tr>\n    <tr>\n      <th>26740</th>\n      <td>26740</td>\n      <td>110811</td>\n      <td>1</td>\n    </tr>\n    <tr>\n      <th>26741</th>\n      <td>26741</td>\n      <td>78984</td>\n      <td>1</td>\n    </tr>\n    <tr>\n      <th>26742</th>\n      <td>26742</td>\n      <td>110818</td>\n      <td>1</td>\n    </tr>\n    <tr>\n      <th>26743</th>\n      <td>26743</td>\n      <td>131262</td>\n      <td>1</td>\n    </tr>\n  </tbody>\n</table>\n<p>26744 rows × 3 columns</p>\n</div>"
     },
     "metadata": {},
     "output_type": "display_data"
    }
   ],
   "source": [
    "count_ratings_df_ord = count_ratings_df.sort_values(by=\"userId\", ascending=False).reset_index().reset_index()\n",
    "display(count_ratings_df_ord)\n",
    "#sns.lineplot(data=count_ratings_df_ord, x='movieId', y='userId')"
   ]
  },
  {
   "cell_type": "markdown",
   "id": "47b576e5",
   "metadata": {},
   "source": [
    "Is this what you expected? Does this reming you of something?\n",
    "\n",
    "![title](img/The-long-tail-dinosaur.png)"
   ]
  },
  {
   "cell_type": "markdown",
   "id": "1b304341",
   "metadata": {},
   "source": [
    "#### 2. Non personalized recommendations: ordering by average rating\n",
    "\n",
    "A first idea to provide recommendations for our users can be to use the ratings provided and determine the highest rated movies. To do so, we first need to compute the average rating for each movie, and then determine the top rated. Let's use again the functions provided by the Dataframe object. We can use the [groupby](https://pandas.pydata.org/docs/reference/api/pandas.DataFrame.groupby.html) again. To compute the average ratings, we use the [mean](https://pandas.pydata.org/docs/reference/api/pandas.core.groupby.GroupBy.mean.html) method which returns a Dataframe object, in which we will have a row for each movie, and the average rating will be in the *rating* column. Finally, we use the [sort_values](https://pandas.pydata.org/docs/reference/api/pandas.DataFrame.sort_values.html) method to sort the movies by rating, and we print the first 10 movies."
   ]
  },
  {
   "cell_type": "code",
   "execution_count": 13,
   "id": "8414f383",
   "metadata": {},
   "outputs": [
    {
     "data": {
      "text/plain": "           userId  rating     timestamp\nmovieId                                \n95517    135399.0     5.0  1.341366e+09\n105846    68026.0     5.0  1.382644e+09\n89133     29086.0     5.0  1.425168e+09\n105187    83331.0     5.0  1.380285e+09\n105191    83331.0     5.0  1.380286e+09\n88488     30317.0     5.0  1.399737e+09\n126945    28916.0     5.0  1.422623e+09\n105526   117718.0     5.0  1.381669e+09\n105529   117718.0     5.0  1.381670e+09\n105841    68026.0     5.0  1.382644e+09",
      "text/html": "<div>\n<style scoped>\n    .dataframe tbody tr th:only-of-type {\n        vertical-align: middle;\n    }\n\n    .dataframe tbody tr th {\n        vertical-align: top;\n    }\n\n    .dataframe thead th {\n        text-align: right;\n    }\n</style>\n<table border=\"1\" class=\"dataframe\">\n  <thead>\n    <tr style=\"text-align: right;\">\n      <th></th>\n      <th>userId</th>\n      <th>rating</th>\n      <th>timestamp</th>\n    </tr>\n    <tr>\n      <th>movieId</th>\n      <th></th>\n      <th></th>\n      <th></th>\n    </tr>\n  </thead>\n  <tbody>\n    <tr>\n      <th>95517</th>\n      <td>135399.0</td>\n      <td>5.0</td>\n      <td>1.341366e+09</td>\n    </tr>\n    <tr>\n      <th>105846</th>\n      <td>68026.0</td>\n      <td>5.0</td>\n      <td>1.382644e+09</td>\n    </tr>\n    <tr>\n      <th>89133</th>\n      <td>29086.0</td>\n      <td>5.0</td>\n      <td>1.425168e+09</td>\n    </tr>\n    <tr>\n      <th>105187</th>\n      <td>83331.0</td>\n      <td>5.0</td>\n      <td>1.380285e+09</td>\n    </tr>\n    <tr>\n      <th>105191</th>\n      <td>83331.0</td>\n      <td>5.0</td>\n      <td>1.380286e+09</td>\n    </tr>\n    <tr>\n      <th>88488</th>\n      <td>30317.0</td>\n      <td>5.0</td>\n      <td>1.399737e+09</td>\n    </tr>\n    <tr>\n      <th>126945</th>\n      <td>28916.0</td>\n      <td>5.0</td>\n      <td>1.422623e+09</td>\n    </tr>\n    <tr>\n      <th>105526</th>\n      <td>117718.0</td>\n      <td>5.0</td>\n      <td>1.381669e+09</td>\n    </tr>\n    <tr>\n      <th>105529</th>\n      <td>117718.0</td>\n      <td>5.0</td>\n      <td>1.381670e+09</td>\n    </tr>\n    <tr>\n      <th>105841</th>\n      <td>68026.0</td>\n      <td>5.0</td>\n      <td>1.382644e+09</td>\n    </tr>\n  </tbody>\n</table>\n</div>"
     },
     "metadata": {},
     "output_type": "display_data"
    }
   ],
   "source": [
    "average_ratings_df = ratings_df.groupby(['movieId']).mean()\n",
    "sorted_avg_ratings_df = average_ratings_df.sort_values(by=\"rating\", ascending=False)\n",
    "\n",
    "display(sorted_avg_ratings_df.head(10))"
   ]
  },
  {
   "cell_type": "markdown",
   "id": "97a45c5e",
   "metadata": {},
   "source": [
    "Let's use the information in the *movies_df* to associate the title on each movie, and then print the list of recommended movies. We will use the [join](https://pandas.pydata.org/docs/reference/api/pandas.DataFrame.join.html) method of the Dataframe object. Remember that the attribute you specify with the *on* parameter must be the index of the second dataframe."
   ]
  },
  {
   "cell_type": "code",
   "execution_count": 15,
   "id": "8ba01c00",
   "metadata": {},
   "outputs": [
    {
     "data": {
      "text/plain": "           userId  rating     timestamp  \\\nmovieId                                   \n95517    135399.0     5.0  1.341366e+09   \n105846    68026.0     5.0  1.382644e+09   \n89133     29086.0     5.0  1.425168e+09   \n105187    83331.0     5.0  1.380285e+09   \n105191    83331.0     5.0  1.380286e+09   \n88488     30317.0     5.0  1.399737e+09   \n126945    28916.0     5.0  1.422623e+09   \n105526   117718.0     5.0  1.381669e+09   \n105529   117718.0     5.0  1.381670e+09   \n105841    68026.0     5.0  1.382644e+09   \n\n                                                  title               genres  \nmovieId                                                                       \n95517                 Barchester Chronicles, The (1982)                Drama  \n105846                             Only Daughter (2013)                Drama  \n89133                              Boys (Drenge) (1977)                Drama  \n105187                        Linotype: The Film (2012)          Documentary  \n105191                              Rocaterrania (2009)  Documentary|Fantasy  \n88488               Summer Wishes, Winter Dreams (1973)                Drama  \n126945                               Small Roads (2011)   (no genres listed)  \n105526   Year Zero: The Silent Death of Cambodia (1979)          Documentary  \n105529                         Stealing a Nation (2004)          Documentary  \n105841                                    B-Side (2013)       Comedy|Romance  ",
      "text/html": "<div>\n<style scoped>\n    .dataframe tbody tr th:only-of-type {\n        vertical-align: middle;\n    }\n\n    .dataframe tbody tr th {\n        vertical-align: top;\n    }\n\n    .dataframe thead th {\n        text-align: right;\n    }\n</style>\n<table border=\"1\" class=\"dataframe\">\n  <thead>\n    <tr style=\"text-align: right;\">\n      <th></th>\n      <th>userId</th>\n      <th>rating</th>\n      <th>timestamp</th>\n      <th>title</th>\n      <th>genres</th>\n    </tr>\n    <tr>\n      <th>movieId</th>\n      <th></th>\n      <th></th>\n      <th></th>\n      <th></th>\n      <th></th>\n    </tr>\n  </thead>\n  <tbody>\n    <tr>\n      <th>95517</th>\n      <td>135399.0</td>\n      <td>5.0</td>\n      <td>1.341366e+09</td>\n      <td>Barchester Chronicles, The (1982)</td>\n      <td>Drama</td>\n    </tr>\n    <tr>\n      <th>105846</th>\n      <td>68026.0</td>\n      <td>5.0</td>\n      <td>1.382644e+09</td>\n      <td>Only Daughter (2013)</td>\n      <td>Drama</td>\n    </tr>\n    <tr>\n      <th>89133</th>\n      <td>29086.0</td>\n      <td>5.0</td>\n      <td>1.425168e+09</td>\n      <td>Boys (Drenge) (1977)</td>\n      <td>Drama</td>\n    </tr>\n    <tr>\n      <th>105187</th>\n      <td>83331.0</td>\n      <td>5.0</td>\n      <td>1.380285e+09</td>\n      <td>Linotype: The Film (2012)</td>\n      <td>Documentary</td>\n    </tr>\n    <tr>\n      <th>105191</th>\n      <td>83331.0</td>\n      <td>5.0</td>\n      <td>1.380286e+09</td>\n      <td>Rocaterrania (2009)</td>\n      <td>Documentary|Fantasy</td>\n    </tr>\n    <tr>\n      <th>88488</th>\n      <td>30317.0</td>\n      <td>5.0</td>\n      <td>1.399737e+09</td>\n      <td>Summer Wishes, Winter Dreams (1973)</td>\n      <td>Drama</td>\n    </tr>\n    <tr>\n      <th>126945</th>\n      <td>28916.0</td>\n      <td>5.0</td>\n      <td>1.422623e+09</td>\n      <td>Small Roads (2011)</td>\n      <td>(no genres listed)</td>\n    </tr>\n    <tr>\n      <th>105526</th>\n      <td>117718.0</td>\n      <td>5.0</td>\n      <td>1.381669e+09</td>\n      <td>Year Zero: The Silent Death of Cambodia (1979)</td>\n      <td>Documentary</td>\n    </tr>\n    <tr>\n      <th>105529</th>\n      <td>117718.0</td>\n      <td>5.0</td>\n      <td>1.381670e+09</td>\n      <td>Stealing a Nation (2004)</td>\n      <td>Documentary</td>\n    </tr>\n    <tr>\n      <th>105841</th>\n      <td>68026.0</td>\n      <td>5.0</td>\n      <td>1.382644e+09</td>\n      <td>B-Side (2013)</td>\n      <td>Comedy|Romance</td>\n    </tr>\n  </tbody>\n</table>\n</div>"
     },
     "metadata": {},
     "output_type": "display_data"
    }
   ],
   "source": [
    "joined_df = sorted_avg_ratings_df.join(movies_df, on='movieId')\n",
    "display(joined_df.head(10))"
   ]
  },
  {
   "cell_type": "markdown",
   "id": "59b86779",
   "metadata": {},
   "source": [
    "The movie we recommend are not so famous. Why is this happening? Let's check how many people rated each of these movies. We use again the *group_by* method, and then we use the [agg](https://pandas.pydata.org/docs/reference/api/pandas.core.groupby.GroupBy.agg.html) method of the Groupby onject to specify different aggregations: for the *user*, we are going to count the number of users in the group, using the *'size'* input, while for the rating we want the average value, so we specify *'mean'*. The rest of the operations are the same as before:"
   ]
  },
  {
   "cell_type": "code",
   "execution_count": 16,
   "id": "7a316651",
   "metadata": {},
   "outputs": [
    {
     "data": {
      "text/plain": "                                                title  count  rating\n19152               Barchester Chronicles, The (1982)      1     5.0\n21842                            Only Daughter (2013)      1     5.0\n17703                            Boys (Drenge) (1977)      1     5.0\n21656                       Linotype: The Film (2012)      1     5.0\n21658                             Rocaterrania (2009)      1     5.0\n17556             Summer Wishes, Winter Dreams (1973)      1     5.0\n25936                              Small Roads (2011)      1     5.0\n21762  Year Zero: The Silent Death of Cambodia (1979)      1     5.0\n21763                        Stealing a Nation (2004)      1     5.0\n21840                                   B-Side (2013)      1     5.0",
      "text/html": "<div>\n<style scoped>\n    .dataframe tbody tr th:only-of-type {\n        vertical-align: middle;\n    }\n\n    .dataframe tbody tr th {\n        vertical-align: top;\n    }\n\n    .dataframe thead th {\n        text-align: right;\n    }\n</style>\n<table border=\"1\" class=\"dataframe\">\n  <thead>\n    <tr style=\"text-align: right;\">\n      <th></th>\n      <th>title</th>\n      <th>count</th>\n      <th>rating</th>\n    </tr>\n  </thead>\n  <tbody>\n    <tr>\n      <th>19152</th>\n      <td>Barchester Chronicles, The (1982)</td>\n      <td>1</td>\n      <td>5.0</td>\n    </tr>\n    <tr>\n      <th>21842</th>\n      <td>Only Daughter (2013)</td>\n      <td>1</td>\n      <td>5.0</td>\n    </tr>\n    <tr>\n      <th>17703</th>\n      <td>Boys (Drenge) (1977)</td>\n      <td>1</td>\n      <td>5.0</td>\n    </tr>\n    <tr>\n      <th>21656</th>\n      <td>Linotype: The Film (2012)</td>\n      <td>1</td>\n      <td>5.0</td>\n    </tr>\n    <tr>\n      <th>21658</th>\n      <td>Rocaterrania (2009)</td>\n      <td>1</td>\n      <td>5.0</td>\n    </tr>\n    <tr>\n      <th>17556</th>\n      <td>Summer Wishes, Winter Dreams (1973)</td>\n      <td>1</td>\n      <td>5.0</td>\n    </tr>\n    <tr>\n      <th>25936</th>\n      <td>Small Roads (2011)</td>\n      <td>1</td>\n      <td>5.0</td>\n    </tr>\n    <tr>\n      <th>21762</th>\n      <td>Year Zero: The Silent Death of Cambodia (1979)</td>\n      <td>1</td>\n      <td>5.0</td>\n    </tr>\n    <tr>\n      <th>21763</th>\n      <td>Stealing a Nation (2004)</td>\n      <td>1</td>\n      <td>5.0</td>\n    </tr>\n    <tr>\n      <th>21840</th>\n      <td>B-Side (2013)</td>\n      <td>1</td>\n      <td>5.0</td>\n    </tr>\n  </tbody>\n</table>\n</div>"
     },
     "metadata": {},
     "output_type": "display_data"
    }
   ],
   "source": [
    "average_ratings_df = ratings_df.groupby(['movieId']).agg(count=('userId', 'size'), rating=('rating', 'mean')).reset_index()\n",
    "sorted_avg_ratings_df = average_ratings_df.sort_values(by=\"rating\", ascending=False)\n",
    "joined_df = sorted_avg_ratings_df.join(movies_df, on='movieId')\n",
    "display(joined_df[['title', 'count', 'rating']].head(10))"
   ]
  },
  {
   "cell_type": "markdown",
   "id": "e345c6af",
   "metadata": {},
   "source": [
    "We can see that all the movies we selected have been rated by only one user. Let's try to recommend only movies that have been rated by at least 20 users. Note that the *item* column is the index for the Dataframe object obtained using the *mean* and *count* methods. We will use the [loc](https://pandas.pydata.org/docs/reference/api/pandas.DataFrame.loc.html) attribute of the Dataframe object, which allows to access a group of rows and columns by label(s) or a boolean array. In particular, we will determine a Series of boolean: The instruction `rating_counts_df['rating'] > minimum_ratings` evaluate the condition for each row of the *rating* column. Hence, *loc* will only return the rows for which such condition is true."
   ]
  },
  {
   "cell_type": "code",
   "execution_count": 17,
   "id": "b4e1056e",
   "metadata": {
    "scrolled": true
   },
   "outputs": [
    {
     "data": {
      "text/plain": "                                               title    rating\nmovieId                                                       \n318                 Shawshank Redemption, The (1994)  4.446990\n858                            Godfather, The (1972)  4.364732\n50                        Usual Suspects, The (1995)  4.334372\n527                          Schindler's List (1993)  4.310175\n101850      Death on the Staircase (Soupçons) (2004)  4.285714\n1221                  Godfather: Part II, The (1974)  4.275641\n2019     Seven Samurai (Shichinin no samurai) (1954)  4.274180\n904                               Rear Window (1954)  4.271334\n7502                         Band of Brothers (2001)  4.263182\n912                                Casablanca (1942)  4.258327",
      "text/html": "<div>\n<style scoped>\n    .dataframe tbody tr th:only-of-type {\n        vertical-align: middle;\n    }\n\n    .dataframe tbody tr th {\n        vertical-align: top;\n    }\n\n    .dataframe thead th {\n        text-align: right;\n    }\n</style>\n<table border=\"1\" class=\"dataframe\">\n  <thead>\n    <tr style=\"text-align: right;\">\n      <th></th>\n      <th>title</th>\n      <th>rating</th>\n    </tr>\n    <tr>\n      <th>movieId</th>\n      <th></th>\n      <th></th>\n    </tr>\n  </thead>\n  <tbody>\n    <tr>\n      <th>318</th>\n      <td>Shawshank Redemption, The (1994)</td>\n      <td>4.446990</td>\n    </tr>\n    <tr>\n      <th>858</th>\n      <td>Godfather, The (1972)</td>\n      <td>4.364732</td>\n    </tr>\n    <tr>\n      <th>50</th>\n      <td>Usual Suspects, The (1995)</td>\n      <td>4.334372</td>\n    </tr>\n    <tr>\n      <th>527</th>\n      <td>Schindler's List (1993)</td>\n      <td>4.310175</td>\n    </tr>\n    <tr>\n      <th>101850</th>\n      <td>Death on the Staircase (Soupçons) (2004)</td>\n      <td>4.285714</td>\n    </tr>\n    <tr>\n      <th>1221</th>\n      <td>Godfather: Part II, The (1974)</td>\n      <td>4.275641</td>\n    </tr>\n    <tr>\n      <th>2019</th>\n      <td>Seven Samurai (Shichinin no samurai) (1954)</td>\n      <td>4.274180</td>\n    </tr>\n    <tr>\n      <th>904</th>\n      <td>Rear Window (1954)</td>\n      <td>4.271334</td>\n    </tr>\n    <tr>\n      <th>7502</th>\n      <td>Band of Brothers (2001)</td>\n      <td>4.263182</td>\n    </tr>\n    <tr>\n      <th>912</th>\n      <td>Casablanca (1942)</td>\n      <td>4.258327</td>\n    </tr>\n  </tbody>\n</table>\n</div>"
     },
     "metadata": {},
     "output_type": "display_data"
    }
   ],
   "source": [
    "minimum_ratings = 20\n",
    "average_ratings_df = ratings_df.groupby(['movieId']).mean() #compute the average ratings for each movie\n",
    "rating_counts_df = ratings_df.groupby(['movieId']).count() #compute the number of evaluations for each movie\n",
    "average_ratings_df = average_ratings_df.loc[rating_counts_df['rating'] > minimum_ratings] #select the movies having the required number of evaluations\n",
    "sorted_avg_ratings_df = average_ratings_df.sort_values(by=\"rating\", ascending=False) #sort the movies according to the average ratings\n",
    "joined_df = sorted_avg_ratings_df.join(movies_df['title'], on='movieId') #associate the title\n",
    "display(joined_df[['title','rating']].head(10))"
   ]
  },
  {
   "cell_type": "markdown",
   "id": "8ca3cbdf",
   "metadata": {},
   "source": [
    "We can see now that the recommendation contains more famous movies."
   ]
  },
  {
   "cell_type": "markdown",
   "id": "986b3aee",
   "metadata": {},
   "source": [
    "#### 3. Towards personalization: filtering by genre\n",
    "\n",
    "Now, let us try to make a personalized recommender system. One possible solution is to suggest movies having the highest ratings for a specific genre. We also want to only select movies evaluated by at least 20 users. We use the same methods used in the previous example. To select the movies by genre, we need to check if the value in the column *genre* contains the specified genre. We can write the conditions as `average_ratings_df['genres'].str.contains(genre)`. "
   ]
  },
  {
   "cell_type": "code",
   "execution_count": 18,
   "id": "7a330a4f",
   "metadata": {
    "scrolled": true
   },
   "outputs": [
    {
     "data": {
      "text/plain": "                                                     title    rating  \\\nmovieId                                                                \n2019           Seven Samurai (Shichinin no samurai) (1954)  4.274180   \n7502                               Band of Brothers (2001)  4.263182   \n6016                   City of God (Cidade de Deus) (2002)  4.235410   \n908                              North by Northwest (1959)  4.233538   \n2959                                     Fight Club (1999)  4.227123   \n58559                              Dark Knight, The (2008)  4.220129   \n1198     Raiders of the Lost Ark (Indiana Jones and the...  4.219009   \n3030                                        Yojimbo (1961)  4.211717   \n260              Star Wars: Episode IV - A New Hope (1977)  4.190672   \n1196     Star Wars: Episode V - The Empire Strikes Back...  4.188202   \n\n                                            genres  \nmovieId                                             \n2019                        Action|Adventure|Drama  \n7502                              Action|Drama|War  \n6016         Action|Adventure|Crime|Drama|Thriller  \n908      Action|Adventure|Mystery|Romance|Thriller  \n2959                   Action|Crime|Drama|Thriller  \n58559                      Action|Crime|Drama|IMAX  \n1198                              Action|Adventure  \n3030                              Action|Adventure  \n260                        Action|Adventure|Sci-Fi  \n1196                       Action|Adventure|Sci-Fi  ",
      "text/html": "<div>\n<style scoped>\n    .dataframe tbody tr th:only-of-type {\n        vertical-align: middle;\n    }\n\n    .dataframe tbody tr th {\n        vertical-align: top;\n    }\n\n    .dataframe thead th {\n        text-align: right;\n    }\n</style>\n<table border=\"1\" class=\"dataframe\">\n  <thead>\n    <tr style=\"text-align: right;\">\n      <th></th>\n      <th>title</th>\n      <th>rating</th>\n      <th>genres</th>\n    </tr>\n    <tr>\n      <th>movieId</th>\n      <th></th>\n      <th></th>\n      <th></th>\n    </tr>\n  </thead>\n  <tbody>\n    <tr>\n      <th>2019</th>\n      <td>Seven Samurai (Shichinin no samurai) (1954)</td>\n      <td>4.274180</td>\n      <td>Action|Adventure|Drama</td>\n    </tr>\n    <tr>\n      <th>7502</th>\n      <td>Band of Brothers (2001)</td>\n      <td>4.263182</td>\n      <td>Action|Drama|War</td>\n    </tr>\n    <tr>\n      <th>6016</th>\n      <td>City of God (Cidade de Deus) (2002)</td>\n      <td>4.235410</td>\n      <td>Action|Adventure|Crime|Drama|Thriller</td>\n    </tr>\n    <tr>\n      <th>908</th>\n      <td>North by Northwest (1959)</td>\n      <td>4.233538</td>\n      <td>Action|Adventure|Mystery|Romance|Thriller</td>\n    </tr>\n    <tr>\n      <th>2959</th>\n      <td>Fight Club (1999)</td>\n      <td>4.227123</td>\n      <td>Action|Crime|Drama|Thriller</td>\n    </tr>\n    <tr>\n      <th>58559</th>\n      <td>Dark Knight, The (2008)</td>\n      <td>4.220129</td>\n      <td>Action|Crime|Drama|IMAX</td>\n    </tr>\n    <tr>\n      <th>1198</th>\n      <td>Raiders of the Lost Ark (Indiana Jones and the...</td>\n      <td>4.219009</td>\n      <td>Action|Adventure</td>\n    </tr>\n    <tr>\n      <th>3030</th>\n      <td>Yojimbo (1961)</td>\n      <td>4.211717</td>\n      <td>Action|Adventure</td>\n    </tr>\n    <tr>\n      <th>260</th>\n      <td>Star Wars: Episode IV - A New Hope (1977)</td>\n      <td>4.190672</td>\n      <td>Action|Adventure|Sci-Fi</td>\n    </tr>\n    <tr>\n      <th>1196</th>\n      <td>Star Wars: Episode V - The Empire Strikes Back...</td>\n      <td>4.188202</td>\n      <td>Action|Adventure|Sci-Fi</td>\n    </tr>\n  </tbody>\n</table>\n</div>"
     },
     "metadata": {},
     "output_type": "display_data"
    }
   ],
   "source": [
    "genre = 'Action'\n",
    "minimum_ratings = 20\n",
    "\n",
    "average_ratings_df = ratings_df.groupby(['movieId']).mean() #compute the average ratings for each movie\n",
    "rating_counts_df = ratings_df.groupby(['movieId']).count() #compute the number of evaluations for each movie\n",
    "average_ratings_df = average_ratings_df.loc[rating_counts_df['rating'] > minimum_ratings] #select the movies having the required number of evaluations\n",
    "average_ratings_df = average_ratings_df.join(movies_df['genres'], on='movieId')\n",
    "average_ratings_df = average_ratings_df.loc[average_ratings_df['genres'].str.contains(genre)]\n",
    "sorted_avg_ratings_df = average_ratings_df.sort_values(by=\"rating\", ascending=False) #sort the movies according to the average ratings\n",
    "joined_df = sorted_avg_ratings_df.join(movies_df['title'], on='movieId') #associate the title\n",
    "display(joined_df[['title','rating','genres']].head(10))"
   ]
  },
  {
   "cell_type": "markdown",
   "id": "58c0ef02",
   "metadata": {},
   "source": [
    "We can see here the genres associated to the chosen movies. A movie can belong to multiple genres, some of which a user likes, and some he/she dislike. "
   ]
  },
  {
   "cell_type": "markdown",
   "id": "6dba86c5",
   "metadata": {},
   "source": [
    "#### 4. Content Based Recommender System\n",
    "\n",
    "Let us try to implement a strategies seen during the lectures to provide more personalized recommendations. We start from a content based approach. In the next steps, we will implementing a CB recommender for a specific user, and generate a recommendation list considering the movies the user didn't rate. We will see the following steps:\n",
    "- Selection of a random user\n",
    "- Retrieving the information of the rated and unrated movies for the selected user\n",
    "- Compute a feature representation for the movie's contents (TF-IDF)\n",
    "- Train a regressor, compute the predicted ratings for unrated movies, and recommending the movies with higher predicted ratings"
   ]
  },
  {
   "cell_type": "markdown",
   "id": "d92dc4ad",
   "metadata": {},
   "source": [
    "##### 4.1 Selection of a random user\n",
    "\n",
    "\n",
    "For simplicity, we select a random user from the *ratings_df* Dataframe having more than 200 evaluations. First, we select all the users with more than 200 evaluations, and then we use the [sample](https://pandas.pydata.org/docs/reference/api/pandas.core.groupby.DataFrameGroupBy.sample.html) method to extract a random row. Finally, we extract the *user* column and we read the content with the [iloc](https://pandas.pydata.org/docs/reference/api/pandas.DataFrame.iloc.html) method."
   ]
  },
  {
   "cell_type": "code",
   "execution_count": 19,
   "id": "b555c6af",
   "metadata": {},
   "outputs": [
    {
     "name": "stdout",
     "output_type": "stream",
     "text": [
      "Selected user: 84873\n"
     ]
    }
   ],
   "source": [
    "users_ratings = ratings_df.groupby(['userId']).count()\n",
    "\n",
    "selected = users_ratings['rating'] > 200\n",
    "selected_users = users_ratings.loc[selected]\n",
    "random_selected = selected_users.sample() # sample() returns a random row from the dataframe. The returned object is a dataframe with one row. If you pass a number as argument you specify to select more than one row.\n",
    "select_column_df = random_selected.reset_index()['userId'] # reset_index() create a new index, and the user became a column. Then, we can filter using the column name\n",
    "selected_user = select_column_df.iloc[0] # iloc select by index, since our dataframe only has one row we read it from the index 0\n",
    "print(\"Selected user: \" + str(selected_user))"
   ]
  },
  {
   "cell_type": "markdown",
   "id": "dc6c40d6",
   "metadata": {},
   "source": [
    "##### 4.2 Retrieving the information of the rated and unrated movies for the selected user\n",
    "\n",
    "Now, we need to select the user evaluations, that we will use to train our recommender. We print the number of ratings that we have for the considered user, and the extracted dataset, ordered by ratings."
   ]
  },
  {
   "cell_type": "code",
   "execution_count": 20,
   "id": "2ee0e87b",
   "metadata": {},
   "outputs": [
    {
     "name": "stdout",
     "output_type": "stream",
     "text": [
      "Rated movies: 422\n"
     ]
    },
    {
     "data": {
      "text/plain": "          userId  movieId  rating   timestamp\n12288349   84873        1     3.5  1128881437\n12288350   84873        5     2.0  1128883050\n12288351   84873       17     4.5  1128880206\n12288352   84873       25     4.0  1128880235\n12288353   84873       29     4.5  1120098065\n12288354   84873       31     3.0  1128877916\n12288355   84873       32     4.0  1112509185\n12288356   84873       34     4.5  1128878812\n12288357   84873       45     3.5  1128881991\n12288358   84873       46     2.0  1128880577",
      "text/html": "<div>\n<style scoped>\n    .dataframe tbody tr th:only-of-type {\n        vertical-align: middle;\n    }\n\n    .dataframe tbody tr th {\n        vertical-align: top;\n    }\n\n    .dataframe thead th {\n        text-align: right;\n    }\n</style>\n<table border=\"1\" class=\"dataframe\">\n  <thead>\n    <tr style=\"text-align: right;\">\n      <th></th>\n      <th>userId</th>\n      <th>movieId</th>\n      <th>rating</th>\n      <th>timestamp</th>\n    </tr>\n  </thead>\n  <tbody>\n    <tr>\n      <th>12288349</th>\n      <td>84873</td>\n      <td>1</td>\n      <td>3.5</td>\n      <td>1128881437</td>\n    </tr>\n    <tr>\n      <th>12288350</th>\n      <td>84873</td>\n      <td>5</td>\n      <td>2.0</td>\n      <td>1128883050</td>\n    </tr>\n    <tr>\n      <th>12288351</th>\n      <td>84873</td>\n      <td>17</td>\n      <td>4.5</td>\n      <td>1128880206</td>\n    </tr>\n    <tr>\n      <th>12288352</th>\n      <td>84873</td>\n      <td>25</td>\n      <td>4.0</td>\n      <td>1128880235</td>\n    </tr>\n    <tr>\n      <th>12288353</th>\n      <td>84873</td>\n      <td>29</td>\n      <td>4.5</td>\n      <td>1120098065</td>\n    </tr>\n    <tr>\n      <th>12288354</th>\n      <td>84873</td>\n      <td>31</td>\n      <td>3.0</td>\n      <td>1128877916</td>\n    </tr>\n    <tr>\n      <th>12288355</th>\n      <td>84873</td>\n      <td>32</td>\n      <td>4.0</td>\n      <td>1112509185</td>\n    </tr>\n    <tr>\n      <th>12288356</th>\n      <td>84873</td>\n      <td>34</td>\n      <td>4.5</td>\n      <td>1128878812</td>\n    </tr>\n    <tr>\n      <th>12288357</th>\n      <td>84873</td>\n      <td>45</td>\n      <td>3.5</td>\n      <td>1128881991</td>\n    </tr>\n    <tr>\n      <th>12288358</th>\n      <td>84873</td>\n      <td>46</td>\n      <td>2.0</td>\n      <td>1128880577</td>\n    </tr>\n  </tbody>\n</table>\n</div>"
     },
     "metadata": {},
     "output_type": "display_data"
    }
   ],
   "source": [
    "selected_user_ratings = ratings_df.loc[ratings_df['userId'] == selected_user]\n",
    "selected_user_ratings = selected_user_ratings.sort_values(by='movieId', ascending=True)\n",
    "print(\"Rated movies: \" + str(selected_user_ratings.shape[0]))\n",
    "display(selected_user_ratings.head(10))"
   ]
  },
  {
   "cell_type": "markdown",
   "id": "36a84f8c",
   "metadata": {},
   "source": [
    "Now, we need the select content of the rated movies, that we will need to compute the features that our model will use. We do it by selecting the rows from our *movies_df* dataframe having a *item* that is in the list of *item* of the *selected_user_ratings* Dataframe, which only contains the evaluations of the considered user. We do this using the [isin](https://pandas.pydata.org/docs/reference/api/pandas.Series.isin.html) method. Since the *item* is the index in the *movies_df* Dataframe, we can select directly pass the list of *item* we want to select to *loc*, and it will return the rows for which the index is in the considered list. Finally, we only select the columns *title* and *plot*."
   ]
  },
  {
   "cell_type": "code",
   "execution_count": 23,
   "id": "b107e4f0",
   "metadata": {},
   "outputs": [
    {
     "name": "stdout",
     "output_type": "stream",
     "text": [
      "Rated movies: 422\n"
     ]
    },
    {
     "data": {
      "text/plain": "                                                     title  \\\nmovieId                                                      \n1                                         Toy Story (1995)   \n5                       Father of the Bride Part II (1995)   \n17                            Sense and Sensibility (1995)   \n25                                Leaving Las Vegas (1995)   \n29       City of Lost Children, The (Cité des enfants p...   \n31                                  Dangerous Minds (1995)   \n32               Twelve Monkeys (a.k.a. 12 Monkeys) (1995)   \n34                                             Babe (1995)   \n45                                       To Die For (1995)   \n46                    How to Make an American Quilt (1995)   \n\n                                              genres  \nmovieId                                               \n1        Adventure|Animation|Children|Comedy|Fantasy  \n5                                             Comedy  \n17                                     Drama|Romance  \n25                                     Drama|Romance  \n29            Adventure|Drama|Fantasy|Mystery|Sci-Fi  \n31                                             Drama  \n32                           Mystery|Sci-Fi|Thriller  \n34                                    Children|Drama  \n45                             Comedy|Drama|Thriller  \n46                                     Drama|Romance  ",
      "text/html": "<div>\n<style scoped>\n    .dataframe tbody tr th:only-of-type {\n        vertical-align: middle;\n    }\n\n    .dataframe tbody tr th {\n        vertical-align: top;\n    }\n\n    .dataframe thead th {\n        text-align: right;\n    }\n</style>\n<table border=\"1\" class=\"dataframe\">\n  <thead>\n    <tr style=\"text-align: right;\">\n      <th></th>\n      <th>title</th>\n      <th>genres</th>\n    </tr>\n    <tr>\n      <th>movieId</th>\n      <th></th>\n      <th></th>\n    </tr>\n  </thead>\n  <tbody>\n    <tr>\n      <th>1</th>\n      <td>Toy Story (1995)</td>\n      <td>Adventure|Animation|Children|Comedy|Fantasy</td>\n    </tr>\n    <tr>\n      <th>5</th>\n      <td>Father of the Bride Part II (1995)</td>\n      <td>Comedy</td>\n    </tr>\n    <tr>\n      <th>17</th>\n      <td>Sense and Sensibility (1995)</td>\n      <td>Drama|Romance</td>\n    </tr>\n    <tr>\n      <th>25</th>\n      <td>Leaving Las Vegas (1995)</td>\n      <td>Drama|Romance</td>\n    </tr>\n    <tr>\n      <th>29</th>\n      <td>City of Lost Children, The (Cité des enfants p...</td>\n      <td>Adventure|Drama|Fantasy|Mystery|Sci-Fi</td>\n    </tr>\n    <tr>\n      <th>31</th>\n      <td>Dangerous Minds (1995)</td>\n      <td>Drama</td>\n    </tr>\n    <tr>\n      <th>32</th>\n      <td>Twelve Monkeys (a.k.a. 12 Monkeys) (1995)</td>\n      <td>Mystery|Sci-Fi|Thriller</td>\n    </tr>\n    <tr>\n      <th>34</th>\n      <td>Babe (1995)</td>\n      <td>Children|Drama</td>\n    </tr>\n    <tr>\n      <th>45</th>\n      <td>To Die For (1995)</td>\n      <td>Comedy|Drama|Thriller</td>\n    </tr>\n    <tr>\n      <th>46</th>\n      <td>How to Make an American Quilt (1995)</td>\n      <td>Drama|Romance</td>\n    </tr>\n  </tbody>\n</table>\n</div>"
     },
     "metadata": {},
     "output_type": "display_data"
    }
   ],
   "source": [
    "rated_movies_df = movies_df.loc[list(selected_user_ratings['movieId'])]\n",
    "rated_movies_df = rated_movies_df[['title', 'genres']]\n",
    "print(\"Rated movies: \" + str(rated_movies_df.shape[0]))\n",
    "display(rated_movies_df.head(10))"
   ]
  },
  {
   "cell_type": "markdown",
   "id": "32a9e9cd",
   "metadata": {},
   "source": [
    "We use a similar approach to select the unrated movies. We compute the set of movies index that are not rated using the set subtraction operator. We access the index of the *movies_df* and the *rated_movies_df* Dataframes, create two sets containing such indexes, compute the difference set *diff*, and select the movies having an  index in the *diff* set."
   ]
  },
  {
   "cell_type": "code",
   "execution_count": 24,
   "id": "815b1e8a",
   "metadata": {},
   "outputs": [
    {
     "name": "stdout",
     "output_type": "stream",
     "text": [
      "Unrated movies: 26856\n"
     ]
    },
    {
     "data": {
      "text/plain": "                                  title                      genres\nmovieId                                                            \n131072          Jesus liebt mich (2012)                      Comedy\n2                        Jumanji (1995)  Adventure|Children|Fantasy\n3               Grumpier Old Men (1995)              Comedy|Romance\n4              Waiting to Exhale (1995)        Comedy|Drama|Romance\n6                           Heat (1995)       Action|Crime|Thriller\n7                        Sabrina (1995)              Comedy|Romance\n8                   Tom and Huck (1995)          Adventure|Children\n9                   Sudden Death (1995)                      Action\n10                     GoldenEye (1995)   Action|Adventure|Thriller\n11       American President, The (1995)        Comedy|Drama|Romance",
      "text/html": "<div>\n<style scoped>\n    .dataframe tbody tr th:only-of-type {\n        vertical-align: middle;\n    }\n\n    .dataframe tbody tr th {\n        vertical-align: top;\n    }\n\n    .dataframe thead th {\n        text-align: right;\n    }\n</style>\n<table border=\"1\" class=\"dataframe\">\n  <thead>\n    <tr style=\"text-align: right;\">\n      <th></th>\n      <th>title</th>\n      <th>genres</th>\n    </tr>\n    <tr>\n      <th>movieId</th>\n      <th></th>\n      <th></th>\n    </tr>\n  </thead>\n  <tbody>\n    <tr>\n      <th>131072</th>\n      <td>Jesus liebt mich (2012)</td>\n      <td>Comedy</td>\n    </tr>\n    <tr>\n      <th>2</th>\n      <td>Jumanji (1995)</td>\n      <td>Adventure|Children|Fantasy</td>\n    </tr>\n    <tr>\n      <th>3</th>\n      <td>Grumpier Old Men (1995)</td>\n      <td>Comedy|Romance</td>\n    </tr>\n    <tr>\n      <th>4</th>\n      <td>Waiting to Exhale (1995)</td>\n      <td>Comedy|Drama|Romance</td>\n    </tr>\n    <tr>\n      <th>6</th>\n      <td>Heat (1995)</td>\n      <td>Action|Crime|Thriller</td>\n    </tr>\n    <tr>\n      <th>7</th>\n      <td>Sabrina (1995)</td>\n      <td>Comedy|Romance</td>\n    </tr>\n    <tr>\n      <th>8</th>\n      <td>Tom and Huck (1995)</td>\n      <td>Adventure|Children</td>\n    </tr>\n    <tr>\n      <th>9</th>\n      <td>Sudden Death (1995)</td>\n      <td>Action</td>\n    </tr>\n    <tr>\n      <th>10</th>\n      <td>GoldenEye (1995)</td>\n      <td>Action|Adventure|Thriller</td>\n    </tr>\n    <tr>\n      <th>11</th>\n      <td>American President, The (1995)</td>\n      <td>Comedy|Drama|Romance</td>\n    </tr>\n  </tbody>\n</table>\n</div>"
     },
     "metadata": {},
     "output_type": "display_data"
    }
   ],
   "source": [
    "diff = set(movies_df.index) - set(rated_movies_df.index)\n",
    "unrated_movies_df = movies_df.loc[diff]\n",
    "unrated_movies_df = unrated_movies_df[['title', 'genres']]\n",
    "print(\"Unrated movies: \" + str(unrated_movies_df.shape[0]))\n",
    "display(unrated_movies_df.head(10))"
   ]
  },
  {
   "cell_type": "markdown",
   "id": "986f6f74",
   "metadata": {},
   "source": [
    "Finally, we can add the rating so that we just need to work with a single Dataframe. We do it using the *join* method. We specify the *item* as idex in the *selected_user_ratings* Dataframe to procede with the join. The we select the *rating* column."
   ]
  },
  {
   "cell_type": "code",
   "execution_count": 25,
   "id": "5fd46bd0",
   "metadata": {},
   "outputs": [
    {
     "name": "stdout",
     "output_type": "stream",
     "text": [
      "Rated movies: 422\n"
     ]
    },
    {
     "data": {
      "text/plain": "                                                     title  \\\nmovieId                                                      \n1                                         Toy Story (1995)   \n5                       Father of the Bride Part II (1995)   \n17                            Sense and Sensibility (1995)   \n25                                Leaving Las Vegas (1995)   \n29       City of Lost Children, The (Cité des enfants p...   \n31                                  Dangerous Minds (1995)   \n32               Twelve Monkeys (a.k.a. 12 Monkeys) (1995)   \n34                                             Babe (1995)   \n45                                       To Die For (1995)   \n46                    How to Make an American Quilt (1995)   \n\n                                              genres  rating  \nmovieId                                                       \n1        Adventure|Animation|Children|Comedy|Fantasy     3.5  \n5                                             Comedy     2.0  \n17                                     Drama|Romance     4.5  \n25                                     Drama|Romance     4.0  \n29            Adventure|Drama|Fantasy|Mystery|Sci-Fi     4.5  \n31                                             Drama     3.0  \n32                           Mystery|Sci-Fi|Thriller     4.0  \n34                                    Children|Drama     4.5  \n45                             Comedy|Drama|Thriller     3.5  \n46                                     Drama|Romance     2.0  ",
      "text/html": "<div>\n<style scoped>\n    .dataframe tbody tr th:only-of-type {\n        vertical-align: middle;\n    }\n\n    .dataframe tbody tr th {\n        vertical-align: top;\n    }\n\n    .dataframe thead th {\n        text-align: right;\n    }\n</style>\n<table border=\"1\" class=\"dataframe\">\n  <thead>\n    <tr style=\"text-align: right;\">\n      <th></th>\n      <th>title</th>\n      <th>genres</th>\n      <th>rating</th>\n    </tr>\n    <tr>\n      <th>movieId</th>\n      <th></th>\n      <th></th>\n      <th></th>\n    </tr>\n  </thead>\n  <tbody>\n    <tr>\n      <th>1</th>\n      <td>Toy Story (1995)</td>\n      <td>Adventure|Animation|Children|Comedy|Fantasy</td>\n      <td>3.5</td>\n    </tr>\n    <tr>\n      <th>5</th>\n      <td>Father of the Bride Part II (1995)</td>\n      <td>Comedy</td>\n      <td>2.0</td>\n    </tr>\n    <tr>\n      <th>17</th>\n      <td>Sense and Sensibility (1995)</td>\n      <td>Drama|Romance</td>\n      <td>4.5</td>\n    </tr>\n    <tr>\n      <th>25</th>\n      <td>Leaving Las Vegas (1995)</td>\n      <td>Drama|Romance</td>\n      <td>4.0</td>\n    </tr>\n    <tr>\n      <th>29</th>\n      <td>City of Lost Children, The (Cité des enfants p...</td>\n      <td>Adventure|Drama|Fantasy|Mystery|Sci-Fi</td>\n      <td>4.5</td>\n    </tr>\n    <tr>\n      <th>31</th>\n      <td>Dangerous Minds (1995)</td>\n      <td>Drama</td>\n      <td>3.0</td>\n    </tr>\n    <tr>\n      <th>32</th>\n      <td>Twelve Monkeys (a.k.a. 12 Monkeys) (1995)</td>\n      <td>Mystery|Sci-Fi|Thriller</td>\n      <td>4.0</td>\n    </tr>\n    <tr>\n      <th>34</th>\n      <td>Babe (1995)</td>\n      <td>Children|Drama</td>\n      <td>4.5</td>\n    </tr>\n    <tr>\n      <th>45</th>\n      <td>To Die For (1995)</td>\n      <td>Comedy|Drama|Thriller</td>\n      <td>3.5</td>\n    </tr>\n    <tr>\n      <th>46</th>\n      <td>How to Make an American Quilt (1995)</td>\n      <td>Drama|Romance</td>\n      <td>2.0</td>\n    </tr>\n  </tbody>\n</table>\n</div>"
     },
     "metadata": {},
     "output_type": "display_data"
    }
   ],
   "source": [
    "rated_movies_df = rated_movies_df.join(selected_user_ratings.set_index('movieId')['rating'], on='movieId')\n",
    "print(\"Rated movies: \" + str(rated_movies_df.shape[0]))\n",
    "display(rated_movies_df.head(10))"
   ]
  },
  {
   "cell_type": "markdown",
   "id": "1efb4456",
   "metadata": {},
   "source": [
    "Now, we have all the data we need to train a content based recomemnder system for our user."
   ]
  },
  {
   "cell_type": "markdown",
   "id": "1f628b40",
   "metadata": {},
   "source": [
    "##### 4.3 Compute a feature representation for the movie's contents (TF-IDF)\n",
    "\n",
    "We will use the well-known pythion library [sklearn](https://scikit-learn.org/stable/) to train our recommender. First, we need to extract features from our content (the plots of the movies). Remember that we need a vector representing each document, in order to compare them. We use the TF-IDF model, hance we will use the [TfidfVectorizer](https://scikit-learn.org/stable/modules/generated/sklearn.feature_extraction.text.TfidfVectorizer.html) class, which allows us to easily compute TF-IDF vectors for our movies. We need to instantiate the a *TfidfVectorizer* object, and then we need to use the [fit_transform](https://scikit-learn.org/stable/modules/generated/sklearn.feature_extraction.text.TfidfVectorizer.html#sklearn.feature_extraction.text.TfidfVectorizer.fit_transform) method. The method fits (trains) the features model, and then transform our data, returning the TF-IDF matrix representation. We use the [shape](https://numpy.org/doc/stable/reference/generated/numpy.ndarray.shape.html#numpy.ndarray.shape) attribute of the matrix to check the dimensions of our features matrix."
   ]
  },
  {
   "cell_type": "code",
   "execution_count": 26,
   "id": "44b0a9e7",
   "metadata": {},
   "outputs": [
    {
     "name": "stdout",
     "output_type": "stream",
     "text": [
      "(422, 19)\n"
     ]
    }
   ],
   "source": [
    "import sklearn\n",
    "from sklearn.feature_extraction.text import TfidfVectorizer\n",
    "\n",
    "vectorizer = TfidfVectorizer()\n",
    "X = vectorizer.fit_transform(rated_movies_df['genres'])\n",
    "print(X.shape)"
   ]
  },
  {
   "cell_type": "markdown",
   "id": "50fe3396",
   "metadata": {},
   "source": [
    "##### 4.4 Train a regressor, computing of the predicted ratings for unrated movies, and recommending the movies with higher predicted ratings\n",
    "\n",
    "Now, we have our features. In this example, we will train a regressor, that is able to determine, for each unrated movie, an extimation of the rating that the user would assign to it. Of course, we could use a different approach, treating the problem as a classification problem. In that case, we would need to transform our ratings to obtain labels. We will see that later today. Now, for simplicity, we will work with the ratings. \n",
    "\n",
    "For the regressor, we will use the [KNeighborsRegressor](https://scikit-learn.org/stable/modules/generated/sklearn.neighbors.KNeighborsRegressor.html) class of the sklearn library. We need to create an instance of *KNeighborsRegressor*. Remember that the KNN algorithm uses the similarity between items to compute the predictions. In the case of regression, the rating assigned to new item is computed based on the mean of the ratings of its nearest neighbors.\n",
    "\n",
    "In the constructor, we specify the number of neighbors to use. We set it at 5. Finally, we can train our model, using the [fit](https://scikit-learn.org/stable/modules/generated/sklearn.neighbors.KNeighborsRegressor.html#sklearn.neighbors.KNeighborsRegressor.fit) method, passing as arguments the features matrix *X* and the corresponding ratings vector *y*."
   ]
  },
  {
   "cell_type": "code",
   "execution_count": 27,
   "id": "dec5f0aa",
   "metadata": {},
   "outputs": [
    {
     "data": {
      "text/plain": "KNeighborsRegressor()"
     },
     "execution_count": 27,
     "metadata": {},
     "output_type": "execute_result"
    }
   ],
   "source": [
    "from sklearn.neighbors import KNeighborsRegressor\n",
    "\n",
    "y = rated_movies_df['rating']\n",
    "neigh = KNeighborsRegressor(n_neighbors=5)\n",
    "neigh.fit(X, y)"
   ]
  },
  {
   "cell_type": "markdown",
   "id": "b944a0af",
   "metadata": {},
   "source": [
    "We can now use the trained model to compute our recommendations. First, we need to extract the features from our unrated movies plots. We can do it using the previously trained *TfidfVectorizer* *vectorizer*, passing to its method [transform](https://scikit-learn.org/stable/modules/generated/sklearn.feature_extraction.text.TfidfVectorizer.html#sklearn.feature_extraction.text.TfidfVectorizer.transform) the *Plot* column if the *unrated_movies* Dataframe. \n",
    "\n",
    "Then, we use the trained *KNeighborsRegressor* *neigh*, passing the features matrix of the unrated movies *x_unrated* to its [predict](https://scikit-learn.org/stable/modules/generated/sklearn.neighbors.KNeighborsRegressor.html#sklearn.neighbors.KNeighborsRegressor.predict) method, determining the predicted ratings *y_unrated*."
   ]
  },
  {
   "cell_type": "code",
   "execution_count": 28,
   "id": "d6744747",
   "metadata": {},
   "outputs": [
    {
     "name": "stdout",
     "output_type": "stream",
     "text": [
      "(26856, 19)\n",
      "(26856,)\n"
     ]
    }
   ],
   "source": [
    "X_unrated = vectorizer.transform(unrated_movies_df['genres'])\n",
    "print(X_unrated.shape)\n",
    "y_unrated = neigh.predict(X_unrated)\n",
    "print(y_unrated.shape)"
   ]
  },
  {
   "cell_type": "markdown",
   "id": "c6eea7f0",
   "metadata": {},
   "source": [
    "Finally, we can combine the predicted ratings with the information in the unrated_movies Dataframe, order the movies by predicted ratings, and determine the best 10 movies to recommend to the user."
   ]
  },
  {
   "cell_type": "code",
   "execution_count": 29,
   "id": "f28ffa6b",
   "metadata": {},
   "outputs": [
    {
     "data": {
      "text/plain": "                                                     title  \\\nmovieId                                                      \n5736                               Faces of Death 3 (1985)   \n107266                       I Heart Monster Movies (2012)   \n49359    Celine and Julie Go Boating (Celine et Julie v...   \n120871   A Night at the Movies: The Horrors of Stephen ...   \n84442                       Dark Forces (Harlequin) (1980)   \n37955                                     Innocence (2004)   \n50705                                      Neverwas (2005)   \n96653                     Vampir (Cuadecuc, vampir) (1971)   \n5734                               Faces of Death 2 (1981)   \n5735                                 Faces of Death (1978)   \n\n                        genres  predicted_ratings_KNN  \nmovieId                                                \n5736        Documentary|Horror                    4.4  \n107266      Documentary|Horror                    4.4  \n49359    Drama|Fantasy|Mystery                    4.4  \n120871      Documentary|Horror                    4.4  \n84442    Drama|Fantasy|Mystery                    4.4  \n37955    Drama|Fantasy|Mystery                    4.4  \n50705    Drama|Fantasy|Mystery                    4.4  \n96653       Documentary|Horror                    4.4  \n5734        Documentary|Horror                    4.4  \n5735        Documentary|Horror                    4.4  ",
      "text/html": "<div>\n<style scoped>\n    .dataframe tbody tr th:only-of-type {\n        vertical-align: middle;\n    }\n\n    .dataframe tbody tr th {\n        vertical-align: top;\n    }\n\n    .dataframe thead th {\n        text-align: right;\n    }\n</style>\n<table border=\"1\" class=\"dataframe\">\n  <thead>\n    <tr style=\"text-align: right;\">\n      <th></th>\n      <th>title</th>\n      <th>genres</th>\n      <th>predicted_ratings_KNN</th>\n    </tr>\n    <tr>\n      <th>movieId</th>\n      <th></th>\n      <th></th>\n      <th></th>\n    </tr>\n  </thead>\n  <tbody>\n    <tr>\n      <th>5736</th>\n      <td>Faces of Death 3 (1985)</td>\n      <td>Documentary|Horror</td>\n      <td>4.4</td>\n    </tr>\n    <tr>\n      <th>107266</th>\n      <td>I Heart Monster Movies (2012)</td>\n      <td>Documentary|Horror</td>\n      <td>4.4</td>\n    </tr>\n    <tr>\n      <th>49359</th>\n      <td>Celine and Julie Go Boating (Celine et Julie v...</td>\n      <td>Drama|Fantasy|Mystery</td>\n      <td>4.4</td>\n    </tr>\n    <tr>\n      <th>120871</th>\n      <td>A Night at the Movies: The Horrors of Stephen ...</td>\n      <td>Documentary|Horror</td>\n      <td>4.4</td>\n    </tr>\n    <tr>\n      <th>84442</th>\n      <td>Dark Forces (Harlequin) (1980)</td>\n      <td>Drama|Fantasy|Mystery</td>\n      <td>4.4</td>\n    </tr>\n    <tr>\n      <th>37955</th>\n      <td>Innocence (2004)</td>\n      <td>Drama|Fantasy|Mystery</td>\n      <td>4.4</td>\n    </tr>\n    <tr>\n      <th>50705</th>\n      <td>Neverwas (2005)</td>\n      <td>Drama|Fantasy|Mystery</td>\n      <td>4.4</td>\n    </tr>\n    <tr>\n      <th>96653</th>\n      <td>Vampir (Cuadecuc, vampir) (1971)</td>\n      <td>Documentary|Horror</td>\n      <td>4.4</td>\n    </tr>\n    <tr>\n      <th>5734</th>\n      <td>Faces of Death 2 (1981)</td>\n      <td>Documentary|Horror</td>\n      <td>4.4</td>\n    </tr>\n    <tr>\n      <th>5735</th>\n      <td>Faces of Death (1978)</td>\n      <td>Documentary|Horror</td>\n      <td>4.4</td>\n    </tr>\n  </tbody>\n</table>\n</div>"
     },
     "metadata": {},
     "output_type": "display_data"
    }
   ],
   "source": [
    "unrated_movies_df['predicted_ratings_KNN'] = y_unrated\n",
    "unrated_movies_df_KNN_ordering = unrated_movies_df.sort_values(by='predicted_ratings_KNN', ascending=False)\n",
    "display(unrated_movies_df_KNN_ordering.head(10))"
   ]
  },
  {
   "cell_type": "markdown",
   "id": "c011b9e6",
   "metadata": {},
   "source": [
    "#### EXERCISE\n",
    "\n",
    "Following the example above, implement a second content-based recommender system using the [SVR](http://scikit-learn.org/stable/modules/generated/sklearn.svm.SVR.html) regressor of the Sklearn library (use a *linear* kernel and the default hyperparameters)."
   ]
  },
  {
   "cell_type": "markdown",
   "id": "306c27bd",
   "metadata": {},
   "source": [
    "##### Solution"
   ]
  },
  {
   "cell_type": "code",
   "execution_count": 30,
   "outputs": [
    {
     "data": {
      "text/plain": "SVR(kernel='linear')"
     },
     "execution_count": 30,
     "metadata": {},
     "output_type": "execute_result"
    }
   ],
   "source": [
    "from sklearn.svm import SVR\n",
    "\n",
    "y = rated_movies_df['rating']\n",
    "svr = SVR(kernel=\"linear\")\n",
    "svr.fit(X, y)"
   ],
   "metadata": {
    "collapsed": false,
    "pycharm": {
     "name": "#%%\n"
    }
   }
  },
  {
   "cell_type": "code",
   "execution_count": 31,
   "outputs": [
    {
     "name": "stdout",
     "output_type": "stream",
     "text": [
      "(26856, 19)\n",
      "(26856,)\n"
     ]
    }
   ],
   "source": [
    "X_unrated = vectorizer.transform(unrated_movies_df['genres'])\n",
    "print(X_unrated.shape)\n",
    "y_unrated = svr.predict(X_unrated)\n",
    "print(y_unrated.shape)"
   ],
   "metadata": {
    "collapsed": false,
    "pycharm": {
     "name": "#%%\n"
    }
   }
  },
  {
   "cell_type": "markdown",
   "source": [
    "Finally, we can combine the predicted ratings with the information in the unrated_movies Dataframe, order the movies by predicted ratings, and determine the best 10 movies to recommend to the user."
   ],
   "metadata": {
    "collapsed": false
   }
  },
  {
   "cell_type": "code",
   "execution_count": 32,
   "outputs": [
    {
     "data": {
      "text/plain": "                                                     title  \\\nmovieId                                                      \n80478              Man Vanishes, A (Ningen Johatsu) (1967)   \n61236            Waltz with Bashir (Vals im Bashir) (2008)   \n98193                            Invisible War, The (2012)   \n53737                    Night of the Generals, The (1967)   \n27397    Joint Security Area (Gongdong gyeongbi guyeok ...   \n125523                                   Time Limit (1957)   \n86781                                     Incendies (2010)   \n111100                             Three Faces East (1930)   \n127011             Under the Flag of the Rising Sun (1972)   \n61991                           Miracle at St. Anna (2008)   \n\n                                   genres  predicted_ratings_KNN  \\\nmovieId                                                            \n80478           Documentary|Drama|Mystery                    3.8   \n61236     Animation|Documentary|Drama|War                    3.9   \n98193         Crime|Documentary|Drama|War                    4.0   \n53737    Crime|Drama|Mystery|Thriller|War                    3.5   \n27397    Crime|Drama|Mystery|Thriller|War                    3.5   \n125523                  Drama|Mystery|War                    4.3   \n86781                   Drama|Mystery|War                    4.3   \n111100                  Drama|Mystery|War                    4.3   \n127011                  Drama|Mystery|War                    4.3   \n61991                   Drama|Mystery|War                    4.3   \n\n         predicted_ratings_SVR  \nmovieId                         \n80478                 4.380545  \n61236                 4.378523  \n98193                 4.354369  \n53737                 4.352557  \n27397                 4.352557  \n125523                4.340669  \n86781                 4.340669  \n111100                4.340669  \n127011                4.340669  \n61991                 4.340669  ",
      "text/html": "<div>\n<style scoped>\n    .dataframe tbody tr th:only-of-type {\n        vertical-align: middle;\n    }\n\n    .dataframe tbody tr th {\n        vertical-align: top;\n    }\n\n    .dataframe thead th {\n        text-align: right;\n    }\n</style>\n<table border=\"1\" class=\"dataframe\">\n  <thead>\n    <tr style=\"text-align: right;\">\n      <th></th>\n      <th>title</th>\n      <th>genres</th>\n      <th>predicted_ratings_KNN</th>\n      <th>predicted_ratings_SVR</th>\n    </tr>\n    <tr>\n      <th>movieId</th>\n      <th></th>\n      <th></th>\n      <th></th>\n      <th></th>\n    </tr>\n  </thead>\n  <tbody>\n    <tr>\n      <th>80478</th>\n      <td>Man Vanishes, A (Ningen Johatsu) (1967)</td>\n      <td>Documentary|Drama|Mystery</td>\n      <td>3.8</td>\n      <td>4.380545</td>\n    </tr>\n    <tr>\n      <th>61236</th>\n      <td>Waltz with Bashir (Vals im Bashir) (2008)</td>\n      <td>Animation|Documentary|Drama|War</td>\n      <td>3.9</td>\n      <td>4.378523</td>\n    </tr>\n    <tr>\n      <th>98193</th>\n      <td>Invisible War, The (2012)</td>\n      <td>Crime|Documentary|Drama|War</td>\n      <td>4.0</td>\n      <td>4.354369</td>\n    </tr>\n    <tr>\n      <th>53737</th>\n      <td>Night of the Generals, The (1967)</td>\n      <td>Crime|Drama|Mystery|Thriller|War</td>\n      <td>3.5</td>\n      <td>4.352557</td>\n    </tr>\n    <tr>\n      <th>27397</th>\n      <td>Joint Security Area (Gongdong gyeongbi guyeok ...</td>\n      <td>Crime|Drama|Mystery|Thriller|War</td>\n      <td>3.5</td>\n      <td>4.352557</td>\n    </tr>\n    <tr>\n      <th>125523</th>\n      <td>Time Limit (1957)</td>\n      <td>Drama|Mystery|War</td>\n      <td>4.3</td>\n      <td>4.340669</td>\n    </tr>\n    <tr>\n      <th>86781</th>\n      <td>Incendies (2010)</td>\n      <td>Drama|Mystery|War</td>\n      <td>4.3</td>\n      <td>4.340669</td>\n    </tr>\n    <tr>\n      <th>111100</th>\n      <td>Three Faces East (1930)</td>\n      <td>Drama|Mystery|War</td>\n      <td>4.3</td>\n      <td>4.340669</td>\n    </tr>\n    <tr>\n      <th>127011</th>\n      <td>Under the Flag of the Rising Sun (1972)</td>\n      <td>Drama|Mystery|War</td>\n      <td>4.3</td>\n      <td>4.340669</td>\n    </tr>\n    <tr>\n      <th>61991</th>\n      <td>Miracle at St. Anna (2008)</td>\n      <td>Drama|Mystery|War</td>\n      <td>4.3</td>\n      <td>4.340669</td>\n    </tr>\n  </tbody>\n</table>\n</div>"
     },
     "metadata": {},
     "output_type": "display_data"
    }
   ],
   "source": [
    "unrated_movies_df['predicted_ratings_SVR'] = y_unrated\n",
    "unrated_movies_df_SVR_ordering = unrated_movies_df.sort_values(by='predicted_ratings_SVR', ascending=False)\n",
    "display(unrated_movies_df_SVR_ordering.head(10))"
   ],
   "metadata": {
    "collapsed": false,
    "pycharm": {
     "name": "#%%\n"
    }
   }
  },
  {
   "cell_type": "markdown",
   "id": "bd013fbd",
   "metadata": {},
   "source": [
    "#### 5. Collaborative Filtering Recommender System\n",
    "\n",
    "As we highlighted in the lectures, content based approaches suffers from some limitations (do you remember some?). Collaborative filtering approaches use the \"wisdom of the crowd\" to recommend items, following the assumption that different users with similar tastes in the past, will probably have similar tastes in the future. Hence, without the need of external information, but only looking at the interactions of for similar users (or movies) we can predict the rating of an unseen movie for an user.\n",
    "\n",
    "Also, in this case, we will not implement the strategy, but we will use a library. In particular, we are going to use the [Lenskit](https://lkpy.readthedocs.io/en/stable/) library. Note that such library requires the python 3.6 version. We will focus on the user-user recommender, while, as exercise, you will have to use the item-item strategy."
   ]
  },
  {
   "cell_type": "markdown",
   "id": "9c17a536",
   "metadata": {},
   "source": [
    "##### 5.1 Collaborative user-user recommender with Lenskit\n",
    "\n",
    "We use the collaborative user algorithm [UserUser](https://lkpy.readthedocs.io/en/stable/knn.html#module-lenskit.algorithms.user_knn), that uses the nearest neighbors algorithm. The constructor takes as inputs the maximum and minumum number of neighbors to consider (we set them to 15 and 3). Then we use the [adapt](https://lkpy.readthedocs.io/en/stable/interfaces.html?highlight=Recommender#lenskit.Recommender.adapt) method of the [Recommender](https://lkpy.readthedocs.io/en/stable/interfaces.html?highlight=Recommender#lenskit.Recommender) class, to obtain a *Recommender* object. Then, we can use the [fit](https://lkpy.readthedocs.io/en/stable/interfaces.html?highlight=Recommender#lenskit.Algorithm.fit) method to train the model. "
   ]
  },
  {
   "cell_type": "code",
   "execution_count": 35,
   "outputs": [
    {
     "data": {
      "text/plain": "          userId  movieId  rating   timestamp\n0              1        2     3.5  1112486027\n1              1       29     3.5  1112484676\n2              1       32     3.5  1112484819\n3              1       47     3.5  1112484727\n4              1       50     3.5  1112484580\n...          ...      ...     ...         ...\n20000258  138493    68954     4.5  1258126920\n20000259  138493    69526     4.5  1259865108\n20000260  138493    69644     3.0  1260209457\n20000261  138493    70286     5.0  1258126944\n20000262  138493    71619     2.5  1255811136\n\n[20000263 rows x 4 columns]",
      "text/html": "<div>\n<style scoped>\n    .dataframe tbody tr th:only-of-type {\n        vertical-align: middle;\n    }\n\n    .dataframe tbody tr th {\n        vertical-align: top;\n    }\n\n    .dataframe thead th {\n        text-align: right;\n    }\n</style>\n<table border=\"1\" class=\"dataframe\">\n  <thead>\n    <tr style=\"text-align: right;\">\n      <th></th>\n      <th>userId</th>\n      <th>movieId</th>\n      <th>rating</th>\n      <th>timestamp</th>\n    </tr>\n  </thead>\n  <tbody>\n    <tr>\n      <th>0</th>\n      <td>1</td>\n      <td>2</td>\n      <td>3.5</td>\n      <td>1112486027</td>\n    </tr>\n    <tr>\n      <th>1</th>\n      <td>1</td>\n      <td>29</td>\n      <td>3.5</td>\n      <td>1112484676</td>\n    </tr>\n    <tr>\n      <th>2</th>\n      <td>1</td>\n      <td>32</td>\n      <td>3.5</td>\n      <td>1112484819</td>\n    </tr>\n    <tr>\n      <th>3</th>\n      <td>1</td>\n      <td>47</td>\n      <td>3.5</td>\n      <td>1112484727</td>\n    </tr>\n    <tr>\n      <th>4</th>\n      <td>1</td>\n      <td>50</td>\n      <td>3.5</td>\n      <td>1112484580</td>\n    </tr>\n    <tr>\n      <th>...</th>\n      <td>...</td>\n      <td>...</td>\n      <td>...</td>\n      <td>...</td>\n    </tr>\n    <tr>\n      <th>20000258</th>\n      <td>138493</td>\n      <td>68954</td>\n      <td>4.5</td>\n      <td>1258126920</td>\n    </tr>\n    <tr>\n      <th>20000259</th>\n      <td>138493</td>\n      <td>69526</td>\n      <td>4.5</td>\n      <td>1259865108</td>\n    </tr>\n    <tr>\n      <th>20000260</th>\n      <td>138493</td>\n      <td>69644</td>\n      <td>3.0</td>\n      <td>1260209457</td>\n    </tr>\n    <tr>\n      <th>20000261</th>\n      <td>138493</td>\n      <td>70286</td>\n      <td>5.0</td>\n      <td>1258126944</td>\n    </tr>\n    <tr>\n      <th>20000262</th>\n      <td>138493</td>\n      <td>71619</td>\n      <td>2.5</td>\n      <td>1255811136</td>\n    </tr>\n  </tbody>\n</table>\n<p>20000263 rows × 4 columns</p>\n</div>"
     },
     "execution_count": 35,
     "metadata": {},
     "output_type": "execute_result"
    }
   ],
   "source": [
    "ratings_df"
   ],
   "metadata": {
    "collapsed": false,
    "pycharm": {
     "name": "#%%\n"
    }
   }
  },
  {
   "cell_type": "code",
   "execution_count": 36,
   "outputs": [],
   "source": [
    "ratings_df.rename(columns={\"userId\": \"user\", \"movieId\":\"item\"}, inplace=True)"
   ],
   "metadata": {
    "collapsed": false,
    "pycharm": {
     "name": "#%%\n"
    }
   }
  },
  {
   "cell_type": "code",
   "execution_count": 38,
   "id": "dec7be19",
   "metadata": {},
   "outputs": [
    {
     "data": {
      "text/plain": "<lenskit.algorithms.ranking.TopN at 0x27a5495c2e0>"
     },
     "execution_count": 38,
     "metadata": {},
     "output_type": "execute_result"
    }
   ],
   "source": [
    "from lenskit.algorithms import Recommender\n",
    "from lenskit.algorithms.user_knn import UserUser\n",
    "\n",
    "# We use the collaborative user algorithm UserUser, that use the nearest neighbors \n",
    "num_recs = 10  # Number of recommendations to generate\n",
    "user_user = UserUser(15, min_nbrs=3)  # Minimum (3) and maximum (15) number of neighbors to consider\n",
    "recsys = Recommender.adapt(user_user)\n",
    "recsys.fit(ratings_df)"
   ]
  },
  {
   "cell_type": "markdown",
   "id": "48388a11",
   "metadata": {},
   "source": [
    "Now, we can provide the recommendations for a specific user. Let's generate 10 recommendations for the user selected for the previous example. We use the [recommend](https://lkpy.readthedocs.io/en/stable/interfaces.html?highlight=Recommender#lenskit.Recommender.recommend) method of the *Recommender* class to generate the recommendations. Then, we add the title information and display the recommendations."
   ]
  },
  {
   "cell_type": "code",
   "execution_count": 41,
   "outputs": [
    {
     "data": {
      "text/plain": "     item     score\n0   80478  5.141823\n1    3226  5.131763\n2     912  5.128495\n3    3435  4.957709\n4  116155  4.850840\n5     858  4.834660\n6   89083  4.823506\n7    5618  4.823481\n8    2019  4.806858\n9    5147  4.774738",
      "text/html": "<div>\n<style scoped>\n    .dataframe tbody tr th:only-of-type {\n        vertical-align: middle;\n    }\n\n    .dataframe tbody tr th {\n        vertical-align: top;\n    }\n\n    .dataframe thead th {\n        text-align: right;\n    }\n</style>\n<table border=\"1\" class=\"dataframe\">\n  <thead>\n    <tr style=\"text-align: right;\">\n      <th></th>\n      <th>item</th>\n      <th>score</th>\n    </tr>\n  </thead>\n  <tbody>\n    <tr>\n      <th>0</th>\n      <td>80478</td>\n      <td>5.141823</td>\n    </tr>\n    <tr>\n      <th>1</th>\n      <td>3226</td>\n      <td>5.131763</td>\n    </tr>\n    <tr>\n      <th>2</th>\n      <td>912</td>\n      <td>5.128495</td>\n    </tr>\n    <tr>\n      <th>3</th>\n      <td>3435</td>\n      <td>4.957709</td>\n    </tr>\n    <tr>\n      <th>4</th>\n      <td>116155</td>\n      <td>4.850840</td>\n    </tr>\n    <tr>\n      <th>5</th>\n      <td>858</td>\n      <td>4.834660</td>\n    </tr>\n    <tr>\n      <th>6</th>\n      <td>89083</td>\n      <td>4.823506</td>\n    </tr>\n    <tr>\n      <th>7</th>\n      <td>5618</td>\n      <td>4.823481</td>\n    </tr>\n    <tr>\n      <th>8</th>\n      <td>2019</td>\n      <td>4.806858</td>\n    </tr>\n    <tr>\n      <th>9</th>\n      <td>5147</td>\n      <td>4.774738</td>\n    </tr>\n  </tbody>\n</table>\n</div>"
     },
     "execution_count": 41,
     "metadata": {},
     "output_type": "execute_result"
    }
   ],
   "source": [
    "selected_movies_useruser"
   ],
   "metadata": {
    "collapsed": false,
    "pycharm": {
     "name": "#%%\n"
    }
   }
  },
  {
   "cell_type": "code",
   "execution_count": 42,
   "outputs": [
    {
     "data": {
      "text/plain": "movieId\n1                           Toy Story (1995)\n2                             Jumanji (1995)\n3                    Grumpier Old Men (1995)\n4                   Waiting to Exhale (1995)\n5         Father of the Bride Part II (1995)\n                         ...                \n131254          Kein Bund für's Leben (2007)\n131256         Feuer, Eis & Dosenbier (2002)\n131258                    The Pirates (2014)\n131260                   Rentun Ruusu (2001)\n131262                      Innocence (2014)\nName: title, Length: 27278, dtype: object"
     },
     "execution_count": 42,
     "metadata": {},
     "output_type": "execute_result"
    }
   ],
   "source": [
    "movies_df[\"title\"]"
   ],
   "metadata": {
    "collapsed": false,
    "pycharm": {
     "name": "#%%\n"
    }
   }
  },
  {
   "cell_type": "code",
   "execution_count": 43,
   "id": "0dd06768",
   "metadata": {},
   "outputs": [
    {
     "data": {
      "text/plain": "     item     score                                              title\n0   80478  5.141823            Man Vanishes, A (Ningen Johatsu) (1967)\n1    3226  5.131763                      Hellhounds on My Trail (1999)\n2     912  5.128495                                  Casablanca (1942)\n3    3435  4.957709                            Double Indemnity (1944)\n4  116155  4.850840                                  Still Life (2013)\n5     858  4.834660                              Godfather, The (1972)\n6   89083  4.823506                    Great White Silence, The (1924)\n7    5618  4.823481  Spirited Away (Sen to Chihiro no kamikakushi) ...\n8    2019  4.806858        Seven Samurai (Shichinin no samurai) (1954)\n9    5147  4.774738         Wild Strawberries (Smultronstället) (1957)",
      "text/html": "<div>\n<style scoped>\n    .dataframe tbody tr th:only-of-type {\n        vertical-align: middle;\n    }\n\n    .dataframe tbody tr th {\n        vertical-align: top;\n    }\n\n    .dataframe thead th {\n        text-align: right;\n    }\n</style>\n<table border=\"1\" class=\"dataframe\">\n  <thead>\n    <tr style=\"text-align: right;\">\n      <th></th>\n      <th>item</th>\n      <th>score</th>\n      <th>title</th>\n    </tr>\n  </thead>\n  <tbody>\n    <tr>\n      <th>0</th>\n      <td>80478</td>\n      <td>5.141823</td>\n      <td>Man Vanishes, A (Ningen Johatsu) (1967)</td>\n    </tr>\n    <tr>\n      <th>1</th>\n      <td>3226</td>\n      <td>5.131763</td>\n      <td>Hellhounds on My Trail (1999)</td>\n    </tr>\n    <tr>\n      <th>2</th>\n      <td>912</td>\n      <td>5.128495</td>\n      <td>Casablanca (1942)</td>\n    </tr>\n    <tr>\n      <th>3</th>\n      <td>3435</td>\n      <td>4.957709</td>\n      <td>Double Indemnity (1944)</td>\n    </tr>\n    <tr>\n      <th>4</th>\n      <td>116155</td>\n      <td>4.850840</td>\n      <td>Still Life (2013)</td>\n    </tr>\n    <tr>\n      <th>5</th>\n      <td>858</td>\n      <td>4.834660</td>\n      <td>Godfather, The (1972)</td>\n    </tr>\n    <tr>\n      <th>6</th>\n      <td>89083</td>\n      <td>4.823506</td>\n      <td>Great White Silence, The (1924)</td>\n    </tr>\n    <tr>\n      <th>7</th>\n      <td>5618</td>\n      <td>4.823481</td>\n      <td>Spirited Away (Sen to Chihiro no kamikakushi) ...</td>\n    </tr>\n    <tr>\n      <th>8</th>\n      <td>2019</td>\n      <td>4.806858</td>\n      <td>Seven Samurai (Shichinin no samurai) (1954)</td>\n    </tr>\n    <tr>\n      <th>9</th>\n      <td>5147</td>\n      <td>4.774738</td>\n      <td>Wild Strawberries (Smultronstället) (1957)</td>\n    </tr>\n  </tbody>\n</table>\n</div>"
     },
     "metadata": {},
     "output_type": "display_data"
    }
   ],
   "source": [
    "selected_movies_useruser = recsys.recommend(selected_user, 10) # generate 10 recommendations for the selected user\n",
    "selected_movies_useruser = pd.merge(selected_movies_useruser, movies_df[\"title\"], left_on=\"item\", right_on=\"movieId\", how=\"left\")\n",
    "#selected_movies_useruser = selected_movies_useruser.join(movies_df['title'], on='movieId')\n",
    "display(selected_movies_useruser)"
   ]
  },
  {
   "cell_type": "markdown",
   "id": "ac697353",
   "metadata": {},
   "source": [
    "We can compare such recommendations with the one previously computed with the content based approach."
   ]
  },
  {
   "cell_type": "code",
   "execution_count": 44,
   "id": "58bd93bc",
   "metadata": {},
   "outputs": [
    {
     "data": {
      "text/plain": "                                                     title  \\\nmovieId                                                      \n5736                               Faces of Death 3 (1985)   \n107266                       I Heart Monster Movies (2012)   \n49359    Celine and Julie Go Boating (Celine et Julie v...   \n120871   A Night at the Movies: The Horrors of Stephen ...   \n84442                       Dark Forces (Harlequin) (1980)   \n37955                                     Innocence (2004)   \n50705                                      Neverwas (2005)   \n96653                     Vampir (Cuadecuc, vampir) (1971)   \n5734                               Faces of Death 2 (1981)   \n5735                                 Faces of Death (1978)   \n\n                        genres  predicted_ratings_KNN  \nmovieId                                                \n5736        Documentary|Horror                    4.4  \n107266      Documentary|Horror                    4.4  \n49359    Drama|Fantasy|Mystery                    4.4  \n120871      Documentary|Horror                    4.4  \n84442    Drama|Fantasy|Mystery                    4.4  \n37955    Drama|Fantasy|Mystery                    4.4  \n50705    Drama|Fantasy|Mystery                    4.4  \n96653       Documentary|Horror                    4.4  \n5734        Documentary|Horror                    4.4  \n5735        Documentary|Horror                    4.4  ",
      "text/html": "<div>\n<style scoped>\n    .dataframe tbody tr th:only-of-type {\n        vertical-align: middle;\n    }\n\n    .dataframe tbody tr th {\n        vertical-align: top;\n    }\n\n    .dataframe thead th {\n        text-align: right;\n    }\n</style>\n<table border=\"1\" class=\"dataframe\">\n  <thead>\n    <tr style=\"text-align: right;\">\n      <th></th>\n      <th>title</th>\n      <th>genres</th>\n      <th>predicted_ratings_KNN</th>\n    </tr>\n    <tr>\n      <th>movieId</th>\n      <th></th>\n      <th></th>\n      <th></th>\n    </tr>\n  </thead>\n  <tbody>\n    <tr>\n      <th>5736</th>\n      <td>Faces of Death 3 (1985)</td>\n      <td>Documentary|Horror</td>\n      <td>4.4</td>\n    </tr>\n    <tr>\n      <th>107266</th>\n      <td>I Heart Monster Movies (2012)</td>\n      <td>Documentary|Horror</td>\n      <td>4.4</td>\n    </tr>\n    <tr>\n      <th>49359</th>\n      <td>Celine and Julie Go Boating (Celine et Julie v...</td>\n      <td>Drama|Fantasy|Mystery</td>\n      <td>4.4</td>\n    </tr>\n    <tr>\n      <th>120871</th>\n      <td>A Night at the Movies: The Horrors of Stephen ...</td>\n      <td>Documentary|Horror</td>\n      <td>4.4</td>\n    </tr>\n    <tr>\n      <th>84442</th>\n      <td>Dark Forces (Harlequin) (1980)</td>\n      <td>Drama|Fantasy|Mystery</td>\n      <td>4.4</td>\n    </tr>\n    <tr>\n      <th>37955</th>\n      <td>Innocence (2004)</td>\n      <td>Drama|Fantasy|Mystery</td>\n      <td>4.4</td>\n    </tr>\n    <tr>\n      <th>50705</th>\n      <td>Neverwas (2005)</td>\n      <td>Drama|Fantasy|Mystery</td>\n      <td>4.4</td>\n    </tr>\n    <tr>\n      <th>96653</th>\n      <td>Vampir (Cuadecuc, vampir) (1971)</td>\n      <td>Documentary|Horror</td>\n      <td>4.4</td>\n    </tr>\n    <tr>\n      <th>5734</th>\n      <td>Faces of Death 2 (1981)</td>\n      <td>Documentary|Horror</td>\n      <td>4.4</td>\n    </tr>\n    <tr>\n      <th>5735</th>\n      <td>Faces of Death (1978)</td>\n      <td>Documentary|Horror</td>\n      <td>4.4</td>\n    </tr>\n  </tbody>\n</table>\n</div>"
     },
     "metadata": {},
     "output_type": "display_data"
    }
   ],
   "source": [
    "display(unrated_movies_df_KNN_ordering.head(10))"
   ]
  },
  {
   "cell_type": "markdown",
   "id": "1cd3ae43",
   "metadata": {},
   "source": [
    "#### EXERCISE\n",
    "\n",
    "Following the example above, implement a second collaborative filtering recommender system using the [ItemItem](https://lkpy.readthedocs.io/en/stable/knn.html#lenskit.algorithms.item_knn.ItemItem) collaborative user algorithm provided by the Sklearn library."
   ]
  },
  {
   "cell_type": "markdown",
   "id": "32fec201",
   "metadata": {},
   "source": [
    "##### Solution"
   ]
  },
  {
   "cell_type": "code",
   "execution_count": null,
   "id": "7c4f0136",
   "metadata": {},
   "outputs": [],
   "source": [
    "from lenskit.algorithms.item_knn import ItemItem\n",
    "\n",
    "# We use the collaborative user algorithm UserUser, that use the nearest neighbors\n",
    "num_recs = 10  # Number of recommendations to generate\n",
    "item_item = ItemItem(15, min_nbrs=3)  # Minimum (3) and maximum (15) number of neighbors to consider\n",
    "recsys = Recommender.adapt(item_item)\n",
    "recsys.fit(ratings_df)\n",
    "\n",
    "selected_movies_itemitem = recsys.recommend(selected_user, 10)  # generate 10 recommendations for the selected user\n",
    "selected_movies_itemitem = selected_movies_itemitem.join(movies_df['title'], on='item')\n",
    "display(selected_movies_itemitem)\n"
   ]
  },
  {
   "cell_type": "markdown",
   "id": "b3a80008",
   "metadata": {},
   "source": [
    "#### 6. Evaluation of Recommender Systems\n",
    "\n",
    "We have seen different approaches, but how can we evaluate the godness of the proposed recommendations? We are going to see now some examples, focusing on the two personalized approaches (content based and collaborative filtering).\n",
    "\n",
    "The content based recommender system is specific for each user; hence, we would need to evaluate a model for each user, and provide an average evaluation for the approach. On the contrary, the collaborative filtering recommender trains a single model for all the users. Hence, the evaluation procedure is a bit different, and we will see an example for each. \n",
    "\n",
    "In the examples, we will use the holdout evaluation strategy. As exercise you will have to implement a K-Fold evaluation.\n",
    "\n",
    "Furthermore, in the previous example, we estimated user's ratings on unseen movies, using a regressor. Now, we will see the problem as a classification problem. We will consider as relevant, for the user, all the movies rated higher than 3."
   ]
  },
  {
   "cell_type": "markdown",
   "id": "83338110",
   "metadata": {},
   "source": [
    "#### 6.1 Evaluation of a Content-based Recommender System\n",
    "\n",
    "We implemented our Content-based Recommender System using the lenskit library. The same library offers a wide range of tools to evaluate regressors and classifiers, that we will use (and describe). First, let's define a support function which allows us to select the information we need for a particular user."
   ]
  },
  {
   "cell_type": "markdown",
   "id": "1d9b0982",
   "metadata": {},
   "source": [
    "The function is called *get_user_rated_movies_plots* and takes as input the user, and the two Dataframe *ratings_df* and *plot_df*. It first selects the ratings of the considered user. Then, it selects the movies information for the movies evaluated by the user. Finally, it joins the information in a single Dataframe, and adds a column in which a relevance for each movie is computed, according to the correlated rating: if the user gave a rating higher than 3, the relevance is set to 1; on the contrary, the relevance is 0. \n",
    "\n",
    "To do this, we use the apply function of the Dataframe class (seen previously). In this case, since the operation to perform is easy, we don't define a function for it. Instead, we define a lambda function (you can see it as a small anonymous function). The lambda function is applied to each row of the dataframe on which the apply method is called. In this case, we call it on the *'rating'* column of the *rated_movies* Dataframe. Hence, x is the rating of a specific movie.\n",
    "\n",
    "The lambda function then computes the relevance value through a [ternary operator](https://book.pythontips.com/en/latest/ternary_operators.html)."
   ]
  },
  {
   "cell_type": "code",
   "execution_count": null,
   "id": "b152726d",
   "metadata": {},
   "outputs": [],
   "source": [
    "def get_user_rated_movies_plots(user, ratings_df, movies_df):\n",
    "    \"\"\"\n",
    "    extract from the dataframe ratings_df the ratings of the user\n",
    "    \"\"\"\n",
    "    selected_user_ratings = ratings_df.loc[ratings_df['user'] == user] # select the ratings of the user\n",
    "    rated_movies_df = movies_df.loc[list(selected_user_ratings['item'])] # select the movie information for the movies rated by the user\n",
    "    rated_movies_df = rated_movies_df[['title', 'plot']] # select only the information we need\n",
    "    selected_user_ratings = selected_user_ratings.set_index('item') # set the index for the next join\n",
    "    rated_movies_df = rated_movies_df.join(selected_user_ratings['rating'], on='item') # join the two dataframes\n",
    "    rated_movies_df['relevant'] = rated_movies_df['rating'].apply(lambda x: 1 if x>3 else 0) # compute the relevance values for the user\n",
    "    return rated_movies_df"
   ]
  },
  {
   "cell_type": "markdown",
   "id": "e6f8ac13",
   "metadata": {},
   "source": [
    "We can test the function retrieving the information for the user selected for the previous evaluations"
   ]
  },
  {
   "cell_type": "code",
   "execution_count": null,
   "id": "9c1f7e9c",
   "metadata": {},
   "outputs": [],
   "source": [
    "user_plots_ratings_df = get_user_rated_movies_plots(selected_user, ratings_df, movies_df)\n",
    "display(user_plots_ratings_df)"
   ]
  },
  {
   "cell_type": "markdown",
   "id": "3a985d5c",
   "metadata": {},
   "source": [
    "Now, since we have a different recommender for each user, we need a function that evaluates the recommender for a specific user. We will use the [TfidfVectorizer](https://scikit-learn.org/stable/modules/generated/sklearn.feature_extraction.text.TfidfVectorizer.html) class from the sklearn library to compute the TD-IDF representations of the movies' plots, as we did before. But, since we are addressing the problem as a classification problem, we use the [KNeighborsClassifier](https://scikit-learn.org/stable/modules/generated/sklearn.neighbors.KNeighborsClassifier.html) instead of a regressor. \n",
    "\n",
    "Differently from the previous example, we want to evaluate the performances of our classifier, hence we need to test it on a set of movies for which we have the correct relevance for this user. In other words, we need to split the information we have about the user ratings in two sets:\n",
    "1. Training set: we will use this data to train our classifier.\n",
    "2. Test set: we will apply our classifier to this data and compare the predictions with the actual relevance values.\n",
    "\n",
    "To split the data we will use the [train_test_split](https://scikit-learn.org/stable/modules/generated/sklearn.model_selection.train_test_split.html) method, provided by the sklearn library.\n",
    "Finally, once we have the classifier predictions, we use the [precision_recall_fscore_support](https://scikit-learn.org/stable/modules/generated/sklearn.metrics.precision_recall_fscore_support.html) method, provided by the sklearn library, to compute the information retievalmetrics *precision*, *recall* and *fscore*. The function returns such values for the considered user."
   ]
  },
  {
   "cell_type": "code",
   "execution_count": null,
   "id": "67eee67e",
   "metadata": {},
   "outputs": [],
   "source": [
    "from sklearn.feature_extraction.text import TfidfVectorizer\n",
    "from sklearn.neighbors import KNeighborsClassifier \n",
    "from sklearn.model_selection import train_test_split\n",
    "from sklearn.metrics import precision_recall_fscore_support\n",
    "\n",
    "def train_and_test_recsys_for_user(user):\n",
    "    user_plots_ratings_df = get_user_rated_movies_plots(user, ratings_df, movies_df) # retrieve user info with the previously defined method\n",
    "    \n",
    "    X_plots = user_plots_ratings_df['plot'] # select the Plot column, from which we will compute ourTF-IDF features\n",
    "    y = user_plots_ratings_df['relevant'] # select the elevant column, that will be used as label\n",
    "    \n",
    "    X_plots_train, X_plots_test, y_train, y_test = train_test_split(X_plots, y, test_size=0.2) # randomly splits the data in train and test, we specify that 20% of the data will go into the test set\n",
    "\n",
    "    vectorizer = TfidfVectorizer()\n",
    "    X_train = vectorizer.fit_transform(X_plots_train) # Trains our TF-IDF model and computes the features\n",
    "    \n",
    "    neigh = KNeighborsClassifier(n_neighbors=5)\n",
    "    neigh.fit(X_train, y_train) # train our cassifier\n",
    "    \n",
    "    X_test = vectorizer.transform(X_plots_test)\n",
    "    y_pred = neigh.predict(X_test) # evaluates the predictions of the classifier\n",
    "    \n",
    "    return precision_recall_fscore_support(y_test, y_pred, average=\"binary\", zero_division=0) # compare the real relevance values with the predicted one, and return precision, recall, and fscore"
   ]
  },
  {
   "cell_type": "markdown",
   "id": "c73e325a",
   "metadata": {},
   "source": [
    "We can test our method on the selected user. \n",
    "Note that the results are affected from the random split (you can check it by executing the method several times: the results change!)\n",
    "\n",
    "How can we obtain more reliable results?"
   ]
  },
  {
   "cell_type": "code",
   "execution_count": null,
   "id": "66190806",
   "metadata": {},
   "outputs": [],
   "source": [
    "train_and_test_recsys_for_user(selected_user)\n"
   ]
  },
  {
   "cell_type": "markdown",
   "id": "97565446",
   "metadata": {},
   "source": [
    "However, we keep this example simple, and now we address the final problem: merging the results for all the customers.\n",
    "We will iterate over all the users and compute precision, recall and fscore values for the recommender for each specfic customer. For simplicity, we will exclude the customers for which we have less than 100 evaluations (what could be the problem for such users?).\n",
    "\n",
    "Finally, we compute at the end the means and standard deviations, and we print it."
   ]
  },
  {
   "cell_type": "code",
   "execution_count": null,
   "id": "5c027df3",
   "metadata": {},
   "outputs": [],
   "source": [
    "import statistics\n",
    "\n",
    "user_list = list(set(ratings_df['user']))\n",
    "\n",
    "precision_list = list()\n",
    "recall_list = list()\n",
    "fscore_list = list()\n",
    "print(\"evaluating recommender on \" + str(len(user_list)) + \" users\")\n",
    "for user in user_list:\n",
    "    user_plots_ratings_df = get_user_rated_movies_plots(user, ratings_df, movies_df)\n",
    "    \n",
    "    if user_plots_ratings_df.shape[0] > 100:\n",
    "        precision, recall, fscore, _ = train_and_test_recsys_for_user(user)\n",
    "        if precision>0 : \n",
    "            precision_list.append(precision)\n",
    "        if recall > 0:\n",
    "            recall_list.append(recall)\n",
    "        if fscore > 0:\n",
    "            fscore_list.append(fscore)\n",
    "            \n",
    "# Compute average results and standard deviations\n",
    "results = {\n",
    "    'avg_precision' : statistics.mean(precision_list),\n",
    "    'stdv_precision' : statistics.stdev(precision_list),\n",
    "    'avg_recall' : statistics.mean(recall_list),\n",
    "    'stdv_recall' : statistics.stdev(recall_list),\n",
    "    'avg_fscore' : statistics.mean(fscore_list),\n",
    "    'stdv_fscore' : statistics.stdev(fscore_list)\n",
    "}\n",
    "\n",
    "display(results)"
   ]
  },
  {
   "cell_type": "markdown",
   "id": "185d4ff7",
   "metadata": {},
   "source": [
    "We can see some warnings. The *precision_recall_fscore_support* method gives us a warning when the metrics cannot be computed. This happens, for instance, when the system does not retrieve any element as relevant. In this case, for instance, precision and fscore are undefined. In such cases we should check what is the problem for the specific user. For this tutorial, we will just ignore them."
   ]
  },
  {
   "cell_type": "markdown",
   "id": "c8fd9daa",
   "metadata": {},
   "source": [
    "#### EXERCISE\n",
    "\n",
    "Extend the example above implementing a K-Fold cross-validation strategy and evaluate the previous recommender system using 10 folds for the selected user.\n",
    "\n",
    "HINTS:\n",
    "1. To generate the folds you can use the [KFold](https://scikit-learn.org/stable/modules/generated/sklearn.model_selection.KFold.html) class provided by the sklearn library.\n",
    "2. Differently from what you see in the example on the sklearn web page, the [split](https://scikit-learn.org/stable/modules/generated/sklearn.model_selection.KFold.html#sklearn.model_selection.KFold.split) method returns positional indices. Hence, you cannot use the suggested notation `X_train = X[train_index]`, while you should use the [iloc](https://pandas.pydata.org/pandas-docs/stable/reference/api/pandas.DataFrame.iloc.html) method instead: `X_train = X.iloc[train_index]`."
   ]
  },
  {
   "cell_type": "markdown",
   "id": "f95f574d",
   "metadata": {},
   "source": [
    "##### Solution\n",
    "\n",
    "We can implement our solution starting from the *train_and_test_recsys_for_user* method. We will define a similar method called *K_fold_eval_recsys_for_user* in which we will implement our K-fold evaluation for a single user. The function will have also K as input."
   ]
  },
  {
   "cell_type": "code",
   "execution_count": null,
   "id": "8a456dd2",
   "metadata": {},
   "outputs": [],
   "source": []
  },
  {
   "cell_type": "markdown",
   "id": "fd835cea",
   "metadata": {},
   "source": [
    "#### 6.2 Evaluation of a Collaborative Filtering Recommender System\n",
    "\n",
    "We see now an example of evaluation of a collaborative filtering approach. We will use again the Lenskit library for this.\n",
    "Since we have one single model for all the users, the evaluation is simpler: we can just consider all the ratings we have and split them into training and test set.; then, we train the recommender on the trainig set, and we use it to predict the results on the test set. We will do it using the [predict](https://lkpy.readthedocs.io/en/stable/interfaces.html#lenskit.Predictor.predict) method. Finally, we compute the relevance values from the original ratings and from the predicted ratings, and we compare them to obtain precision, recall and fscore values.\n",
    "\n",
    "Note that we will split our dataset using again the *train_test_split* method. In this case, we pass a Dataframe as argument. The method will return two dataframes, randomly splitting the rows between them."
   ]
  },
  {
   "cell_type": "code",
   "execution_count": null,
   "id": "a67d6dc4",
   "metadata": {},
   "outputs": [],
   "source": [
    "from lenskit.algorithms import Recommender\n",
    "from lenskit.algorithms.user_knn import UserUser\n",
    "from sklearn.model_selection import train_test_split\n",
    "from sklearn.metrics import precision_recall_fscore_support\n",
    "\n",
    "train_df, test_df = train_test_split(ratings_df, test_size=0.2)\n",
    "\n",
    "user_user = UserUser(15, min_nbrs=3)  # Minimum (3) and maximum (15) number of neighbors to consider\n",
    "recsys = Recommender.adapt(user_user)\n",
    "recsys.fit(train_df)\n",
    "\n",
    "test_df['predicted_rating'] = recsys.predict(test_df)\n",
    "\n",
    "test_df['relevant'] = test_df['rating'].apply(lambda x: 1 if x>3 else 0)\n",
    "test_df['predicted_relevant'] = test_df['predicted_rating'].apply(lambda x: 1 if x>3 else 0)\n",
    "\n",
    "y_test = list(test_df['relevant'])\n",
    "y_pred = list(test_df['predicted_relevant'])\n",
    "precision, recall, fscore, _ = precision_recall_fscore_support(y_test, y_pred, average=\"binary\")\n",
    "\n",
    "print(\"Precision:\\t\" + str(precision) + \n",
    "      \"\\nRecall:\\t\" + str(recall) + \n",
    "      \"\\nFscore:\\t\" + str(fscore))\n"
   ]
  },
  {
   "cell_type": "markdown",
   "id": "9cc5a013",
   "metadata": {},
   "source": [
    "We can ignore the warnings. \n",
    "\n",
    "Again, we have an evaluation that is strictly related to the split performed. A proper evaluation should consider more reliable validation strategy (any ideas?). For timing reasons, we used the simplest approach. Try to implement some other approaches and check the differences (let us know if you have any problems in this)."
   ]
  },
  {
   "cell_type": "markdown",
   "id": "c455ee11",
   "metadata": {},
   "source": [
    "#### EXERCISE\n",
    "\n",
    "Extend the example above implementing a k-Fold cross-validation strategy and evaluate the previous recommender system using 10 folds.\n",
    "\n",
    "HINTS:\n",
    "1. To generate the folds you can use the [KFold](https://scikit-learn.org/stable/modules/generated/sklearn.model_selection.KFold.html) class provided by the sklearn library.\n",
    "2. Use might need to use the shuffle attribute of the KFold constructor.\n",
    "3. Again, note that the *split* method returns positional indices, so you should *iloc* method to filter the Dataframe rows."
   ]
  },
  {
   "cell_type": "markdown",
   "id": "7aaffa1b",
   "metadata": {},
   "source": [
    "##### Solution"
   ]
  },
  {
   "cell_type": "code",
   "execution_count": null,
   "id": "22377467",
   "metadata": {},
   "outputs": [],
   "source": []
  },
  {
   "cell_type": "code",
   "execution_count": null,
   "id": "f3800f22",
   "metadata": {},
   "outputs": [],
   "source": []
  }
 ],
 "metadata": {
  "kernelspec": {
   "display_name": "Python 3",
   "language": "python",
   "name": "python3"
  },
  "language_info": {
   "codemirror_mode": {
    "name": "ipython",
    "version": 3
   },
   "file_extension": ".py",
   "mimetype": "text/x-python",
   "name": "python",
   "nbconvert_exporter": "python",
   "pygments_lexer": "ipython3",
   "version": "3.6.8"
  }
 },
 "nbformat": 4,
 "nbformat_minor": 5
}