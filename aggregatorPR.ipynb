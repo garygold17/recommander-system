{
 "cells": [
  {
   "cell_type": "code",
   "execution_count": 1,
   "metadata": {},
   "outputs": [],
   "source": [
    "import pandas as pd\n",
    "import numpy as np\n",
    "from tqdm import tqdm\n",
    "import sqlalchemy\n",
    "import warnings\n",
    "import os\n",
    "import random\n",
    "import settings.config_movie_lens as cfg\n",
    "\n",
    "preprocessed_dataset_folder = cfg.preprocessed_dataset_folder\n",
    "group_sizes_to_create = cfg.group_sizes_to_create\n",
    "group_similarity_to_create = cfg.group_similarity_to_create\n",
    "group_number = cfg.group_number\n",
    "\n",
    "ratings = pd.read_csv('ratings.csv', skiprows=[i for i in range(1,19000000)]);\n"
   ]
  },
  {
   "cell_type": "code",
   "execution_count": 2,
   "metadata": {},
   "outputs": [],
   "source": [
    "#similarity evaluation\n",
    "user_matrix = ratings.pivot_table(columns='movieId', index='userId', values='rating')\n",
    "\n",
    "user_id_set = set(ratings['userId'])\n",
    "user_id_indexes = user_matrix.index.values\n",
    "user_matrix = user_matrix.fillna(0)\n",
    "numpy_array = user_matrix.to_numpy()\n",
    "sim_matrix = np.corrcoef(numpy_array)\n"
   ]
  },
  {
   "cell_type": "code",
   "execution_count": 3,
   "metadata": {},
   "outputs": [
    {
     "name": "stdout",
     "output_type": "stream",
     "text": [
      "RANDOM\n",
      "20\n",
      "40\n",
      "60\n",
      "SIMILAR\n",
      "20\n",
      "40\n",
      "60\n"
     ]
    }
   ],
   "source": [
    "#generates random and similar groups\n",
    "from synthetic_groups_generation.groups_generators import GroupsGenerator\n",
    "group_list = list()\n",
    "for group_type in group_similarity_to_create:\n",
    "    print(group_type)\n",
    "    grpGenerator = GroupsGenerator.getGroupsGenerator(group_type)\n",
    "    current_list = grpGenerator.generateGroups(user_id_indexes, user_id_set, sim_matrix, group_sizes_to_create, group_number)\n",
    "    group_list = group_list + current_list\n"
   ]
  },
  {
   "cell_type": "code",
   "execution_count": 4,
   "metadata": {},
   "outputs": [
    {
     "name": "stdout",
     "output_type": "stream",
     "text": [
      "{'ADD': [296, 318, 593, 356, 260, 480, 110, 527, 2571, 589, 50, 457, 1196, 1210, 1, 2858, 1198, 858, 150, 32]}\n",
      "{'LMS': [5245, 105364, 56693, 71486, 71606, 71707, 112006, 1470, 71851, 1467, 33342, 6632, 56779, 6633, 98275, 26185, 72261, 72292, 105250, 26160]}\n"
     ]
    }
   ],
   "source": [
    "#aggregation strategy\n",
    "from abc import ABC, abstractmethod\n",
    "\n",
    "class AggregationStrategy(ABC):\n",
    "\n",
    "    @staticmethod\n",
    "    def getAggregator(strategy):\n",
    "        if strategy == \"ADD\":\n",
    "            return AdditiveAggregator()\n",
    "        elif strategy == \"LMS\":\n",
    "            return LeastMiseryAggregator()\n",
    "            \n",
    "        return None\n",
    "\n",
    "@abstractmethod\n",
    "def generate_group_recommendations_for_group(self, group_ratings, recommendations_number):\n",
    "        pass\n",
    "\n",
    "# aggregate using additive strategy\n",
    "class AdditiveAggregator(AggregationStrategy):\n",
    "    def generate_group_recommendations_for_group(self, group_ratings, recommendations_number):\n",
    "        aggregated_df = group_ratings.groupby('movieId').sum()\n",
    "        aggregated_df = aggregated_df.sort_values(by=\"rating\", ascending=False).reset_index()[\n",
    "            ['movieId', 'rating']]\n",
    "        recommendation_list = list(aggregated_df.head(recommendations_number)['movieId'])\n",
    "        return {\"ADD\": recommendation_list}\n",
    "\n",
    "    \n",
    "# aggregate using least misery strategy\n",
    "class LeastMiseryAggregator(AggregationStrategy):\n",
    "    def generate_group_recommendations_for_group(self, group_ratings, recommendations_number):\n",
    "        aggregated_df = group_ratings.groupby('movieId').min()\n",
    "        aggregated_df = aggregated_df.sort_values(by=\"rating\", ascending=False).reset_index()[\n",
    "            ['movieId', 'rating']]\n",
    "        recommendation_list = list(aggregated_df.head(recommendations_number)['movieId'])\n",
    "        return {\"LMS\": recommendation_list}\n",
    "    \n",
    "    \n",
    "print(AdditiveAggregator.generate_group_recommendations_for_group(group_list, ratings, group_number))    \n",
    "\n",
    "print(LeastMiseryAggregator.generate_group_recommendations_for_group(group_list, ratings, group_number))\n"
   ]
  },
  {
   "cell_type": "code",
   "execution_count": null,
   "metadata": {},
   "outputs": [],
   "source": []
  },
  {
   "cell_type": "code",
   "execution_count": null,
   "metadata": {},
   "outputs": [],
   "source": []
  },
  {
   "cell_type": "code",
   "execution_count": null,
   "metadata": {},
   "outputs": [],
   "source": []
  }
 ],
 "metadata": {
  "kernelspec": {
   "display_name": "Python 3",
   "language": "python",
   "name": "python3"
  },
  "language_info": {
   "codemirror_mode": {
    "name": "ipython",
    "version": 3
   },
   "file_extension": ".py",
   "mimetype": "text/x-python",
   "name": "python",
   "nbconvert_exporter": "python",
   "pygments_lexer": "ipython3",
   "version": "3.8.3"
  }
 },
 "nbformat": 4,
 "nbformat_minor": 4
}
